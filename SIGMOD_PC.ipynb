{
 "cells": [
  {
   "cell_type": "code",
   "execution_count": 1,
   "metadata": {},
   "outputs": [],
   "source": [
    "from pygraphblas import *\n",
    "import pygraphblas.descriptor\n",
    "import csv\n",
    "import sys\n",
    "import logging\n",
    "import glob\n",
    "import operator\n",
    "from data_loader import DataLoader\n",
    ""
   ]
  },
  {
   "cell_type": "code",
   "execution_count": 2,
   "metadata": {},
   "outputs": [],
   "source": [
    "# Setup logger\n",
    "handler = logging.StreamHandler()\n",
    "handler.setFormatter(logging.Formatter('%(asctime)s %(levelname)-5s %(message)s'))\n",
    "log = logging.getLogger(__name__)\n",
    "log.propagate = False\n",
    "log.addHandler(handler)\n",
    "log.setLevel(logging.INFO)"
   ]
  },
  {
   "cell_type": "markdown",
   "metadata": {},
   "source": [
    "### Load data"
   ]
  },
  {
   "cell_type": "code",
   "execution_count": 3,
   "metadata": {},
   "outputs": [
    {
     "output_type": "stream",
     "name": "stderr",
     "text": "2020-04-07 10:36:35,113 INFO  Loading nodes...\n2020-04-07 10:36:35,124 INFO  Loading sf1k-converted/place.csv with headers: ['id:ID(Place)', 'name:STRING', 'url:STRING', ':LABEL']\n2020-04-07 10:36:35,136 INFO  Loading sf1k-converted/comment.csv with headers: ['id:ID(Comment)', 'creationDate:DATETIME', 'locationIP:STRING', 'browserUsed:STRING', 'content:STRING']\n2020-04-07 10:36:42,533 INFO  Loading sf1k-converted/organisation.csv with headers: ['id:ID(Organisation)', ':LABEL', 'name:STRING', 'url:STRING']\n2020-04-07 10:36:42,551 INFO  Loading sf1k-converted/person.csv with headers: ['id:ID(Person)', 'firstName:STRING', 'lastName:STRING', 'gender:STRING', 'birthday:DATE', 'creationDate:DATETIME', 'locationIP:STRING', 'browserUsed:STRING']\n2020-04-07 10:36:42,566 INFO  Loading sf1k-converted/forum.csv with headers: ['id:ID(Forum)', 'title:STRING', 'creationDate:DATETIME']\n2020-04-07 10:36:42,654 INFO  Loading sf1k-converted/tag.csv with headers: ['id:ID(Tag)', 'name:STRING', 'url:STRING']\n2020-04-07 10:36:42,673 INFO  Loading edges...\n2020-04-07 10:36:42,679 INFO  Loading sf1k-converted/comment_replyOf_comment.csv with headers: [':START_ID(Comment)', ':END_ID(Comment)']\n2020-04-07 10:36:46,408 INFO  Finished loading all data!\n2020-04-07 10:36:46,411 INFO  Loading sf1k-converted/organisation_organisationIsLocatedIn_place.csv with headers: [':START_ID(Organisation)', ':END_ID(Place)']\n2020-04-07 10:36:46,438 INFO  Finished loading all data!\n2020-04-07 10:36:46,441 INFO  Loading sf1k-converted/comment_hasCreator_person.csv with headers: [':START_ID(Comment)', ':END_ID(Person)']\n2020-04-07 10:36:51,997 INFO  Finished loading all data!\n2020-04-07 10:36:52,000 INFO  Loading sf1k-converted/person_personIsLocatedIn_place.csv with headers: [':START_ID(Person)', ':END_ID(Place)']\n2020-04-07 10:36:52,017 INFO  Finished loading all data!\n2020-04-07 10:36:52,019 INFO  Loading sf1k-converted/forum_hasTag_tag.csv with headers: [':START_ID(Forum)', ':END_ID(Tag)']\n2020-04-07 10:36:52,228 INFO  Finished loading all data!\n2020-04-07 10:36:52,231 INFO  Loading sf1k-converted/comment_commentIsLocatedIn_place.csv with headers: [':START_ID(Comment)', ':END_ID(Place)']\n2020-04-07 10:36:57,909 INFO  Finished loading all data!\n2020-04-07 10:36:57,912 INFO  Loading sf1k-converted/place_isPartOf_place.csv with headers: [':START_ID(Place)', ':END_ID(Place)']\n2020-04-07 10:36:57,929 INFO  Finished loading all data!\n2020-04-07 10:36:57,932 INFO  Loading sf1k-converted/forum_hasMember_person.csv with headers: [':START_ID(Forum)', ':END_ID(Person)', 'joinDate:DATETIME']\n2020-04-07 10:37:01,015 INFO  Finished loading all data!\n2020-04-07 10:37:01,018 INFO  Loading sf1k-converted/person_workAt_organisation.csv with headers: [':START_ID(Person)', ':END_ID(Organisation)', 'workFrom:LONG']\n2020-04-07 10:37:01,042 INFO  Finished loading all data!\n2020-04-07 10:37:01,044 INFO  Loading sf1k-converted/person_hasInterest_tag.csv with headers: [':START_ID(Person)', ':END_ID(Tag)']\n2020-04-07 10:37:01,087 INFO  Finished loading all data!\n2020-04-07 10:37:01,089 INFO  Loading sf1k-converted/person_knows_person.csv with headers: [':START_ID(Person)', ':END_ID(Person)']\n2020-04-07 10:37:01,390 INFO  Finished loading all data!\n2020-04-07 10:37:01,392 INFO  Loading sf1k-converted/person_studyAt_organisation.csv with headers: [':START_ID(Person)', ':END_ID(Organisation)', 'classYear:LONG']\n2020-04-07 10:37:01,410 INFO  Finished loading all data!\n"
    }
   ],
   "source": [
    "data_dir = 'sf1k-converted/'\n",
    "loader = DataLoader(data_dir)\n",
    "\n",
    "vertices, mappings, matrices = loader.load_all_csvs()"
   ]
  },
  {
   "cell_type": "markdown",
   "metadata": {},
   "source": [
    "### Queries"
   ]
  },
  {
   "cell_type": "code",
   "execution_count": 5,
   "metadata": {},
   "outputs": [],
   "source": [
    "# Query 1\n",
    "def shortest_distance_over_frequent_communication_paths(matrices, threshhold):\n",
    "    hasCreatorTransposed = matrices['hasCreator'].transpose()\n",
    "    \n",
    "    \n",
    "    personA_to_comment2 = hasCreatorTransposed @ matrices['replyOf']\n",
    "    person_to_person = personA_to_comment2.mxm(matrices['hasCreator'], mask=matrices['knows'])\n",
    "    person_to_person_mutual = person_to_person + person_to_person.transpose()\n",
    "    person_to_person_mutual_filtered = person_to_person_mutual.select('<', threshhold)    \n",
    "    person_to_person_mutual_filtered = person_to_person_mutual_filtered.pattern() # every element will be boolean\n",
    "    # TODO: BFS\n",
    "    \n",
    "    return person_to_person_mutual_filtered\n",
    "    \n",
    "    \n",
    "    \n",
    "    \n",
    "    \n",
    "    "
   ]
  },
  {
   "cell_type": "code",
   "execution_count": 6,
   "metadata": {},
   "outputs": [],
   "source": [
    "x = shortest_distance_over_frequent_communication_paths(matrices, 10)"
   ]
  },
  {
   "cell_type": "code",
   "execution_count": null,
   "metadata": {},
   "outputs": [],
   "source": [
    "x.to_string()"
   ]
  },
  {
   "cell_type": "code",
   "execution_count": 5,
   "metadata": {
    "tags": [
     "outputPrepend",
     "outputPrepend",
     "outputPrepend",
     "outputPrepend",
     "outputPrepend"
    ]
   },
   "outputs": [],
   "source": [
    "#Query 3\n",
    "def RelevantPeopleInPlace(place: int):\n",
    "    #Relevant places\n",
    "    isPartOfTransposed = matrices['isPartOf'].transpose()\n",
    "    placeVector = Vector.from_type(BOOL,isPartOfTransposed.nrows)\n",
    "    placeID = mappings['place'][place]\n",
    "    placeVector[placeID] = True\n",
    "    relevantPlacesVector = placeVector + placeVector.vxm(isPartOfTransposed) + placeVector.vxm(isPartOfTransposed).vxm(isPartOfTransposed)\n",
    "    #People located in the given place\n",
    "    peopleInThePlaceVector = matrices['personIsLocatedIn'].mxv(relevantPlacesVector)\n",
    "    #People working at a Company or studying at a University located in the given place\n",
    "    organisationsVector = matrices['organisationIsLocatedIn'].mxv(relevantPlacesVector)\n",
    "    with semiring.LOR_LAND_BOOL:\n",
    "        peopleWorkAtVector = matrices['workAt'].mxv(organisationsVector)\n",
    "        peopleStudyAtVector = matrices['studyAt'].mxv(organisationsVector) \n",
    "    #All the relevant people in the given place    \n",
    "    with binaryop.PLUS_BOOL:    \n",
    "        relevantPeopleVector = peopleWorkAtVector + peopleStudyAtVector + peopleInThePlaceVector   \n",
    "    return relevantPeopleVector"
   ]
  },
  {
   "cell_type": "code",
   "execution_count": 88,
   "metadata": {},
   "outputs": [],
   "source": [
    "def HHopKnows(h,vec):\n",
    "    if(h < 2) : return vec.vxm(matrices['knows'])\n",
    "    mtx = matrices['knows']\n",
    "    while(h-1 > 0):\n",
    "        mtx = mtx.mxm(matrices['knows'])\n",
    "        h -= 1\n",
    "    return(vec.vxm(mtx) + function(h-1,vec))"
   ]
  },
  {
   "cell_type": "code",
   "execution_count": 89,
   "metadata": {
    "tags": [
     "outputPrepend"
    ]
   },
   "outputs": [],
   "source": [
    "def query3(k,h,p):\n",
    "    relevantPeopleVector = RelevantPeopleInPlace(p)\n",
    "\n",
    "    #Maping the id-s back, sorting, then remapping\n",
    "    mapedPersonIds = relevantPeopleVector.to_lists()[0]\n",
    "    mapedPersonIds[:] = [vertices['person'][id] for id in mapedPersonIds]\n",
    "    mapedPersonIds.sort()\n",
    "    remapedSortedPersonIds = mapedPersonIds\n",
    "    remapedSortedPersonIds[:] = [mappings['person'][id] for id in mapedPersonIds]\n",
    "\n",
    "    #A list of maped id-s, sorted by the original id-s\n",
    "    personList = list(zip(remapedSortedPersonIds,relevantPeopleVector.to_lists()[1]))\n",
    "    resultList = []\n",
    "\n",
    "    for person in personList:\n",
    "        personVector = Vector.from_type(BOOL,relevantPeopleVector.size)\n",
    "        personVector[person[0]] = True\n",
    "        \n",
    "        personKnowsHHopVector = HHopKnows(h,personVector)\n",
    "        personKnowsHHopVector *= relevantPeopleVector     #only the relevant people are needed\n",
    "        \n",
    "        personHasInterestVector = personVector.vxm(matrices['hasInterest'])\n",
    "        numTagsVector = Vector.from_type(INT64,relevantPeopleVector.size)    \n",
    "\n",
    "        for tag in personHasInterestVector:\n",
    "            tagVector = Vector.from_type(BOOL,personHasInterestVector.size)\n",
    "            tagVector[tag[0]] = True\n",
    "            peopleInterestedInTagVector = tagVector.vxm(matrices['hasInterest'].transpose())\n",
    "            numTagsVector += peopleInterestedInTagVector\n",
    "        \n",
    "        numTagsVector[person[0]] = 0    #p1|p1 should be 0\n",
    "        numTagsVector *= personKnowsHHopVector\n",
    "\n",
    "        personID = vertices['person'][person[0]]\n",
    "        for value in numTagsVector:\n",
    "            valueID = vertices['person'][value[0]]\n",
    "            if(value[1] != 0):\n",
    "                for element in resultList:\n",
    "                    if(personID == element[1] and valueID == element[0]):\n",
    "                        break\n",
    "                else:\n",
    "                    resultList += [[personID,valueID,value[1]]]\n",
    "\n",
    "    resultList.sort(key = operator.itemgetter(1))  \n",
    "    resultList.sort(key = operator.itemgetter(0))\n",
    "    resultList.sort(key = operator.itemgetter(2), reverse = True)\n",
    "\n",
    "    for element in resultList[:k]:\n",
    "        print('{}|{}|{}'.format(element[0],element[1],element[2]))"
   ]
  },
  {
   "cell_type": "code",
   "execution_count": 93,
   "metadata": {},
   "outputs": [],
   "source": [
    "#India.id = 38\n",
    "query3(3,2,38)"
   ]
  }
 ],
 "metadata": {
  "kernelspec": {
   "display_name": "Python 3",
   "language": "python",
   "name": "python3"
  },
  "language_info": {
   "codemirror_mode": {
    "name": "ipython",
    "version": 3
   },
   "file_extension": ".py",
   "mimetype": "text/x-python",
   "name": "python",
   "nbconvert_exporter": "python",
   "pygments_lexer": "ipython3",
   "version": "3.6.9-final"
  }
 },
 "nbformat": 4,
 "nbformat_minor": 4
}