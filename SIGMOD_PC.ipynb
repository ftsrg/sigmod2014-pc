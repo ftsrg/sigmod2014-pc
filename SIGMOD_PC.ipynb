{
 "cells": [
  {
   "cell_type": "code",
   "execution_count": null,
   "metadata": {},
   "outputs": [],
   "source": [
    "from pygraphblas import *\n",
    "import pygraphblas.descriptor\n",
    "import csv\n",
    "import sys\n",
    "import logging\n",
    "import glob\n",
    "\n",
    "from data_loader import DataLoader\n"
   ]
  },
  {
   "cell_type": "code",
   "execution_count": null,
   "metadata": {},
   "outputs": [],
   "source": [
    "# Setup logger\n",
    "handler = logging.StreamHandler()\n",
    "handler.setFormatter(logging.Formatter('%(asctime)s %(levelname)-5s %(message)s'))\n",
    "log = logging.getLogger(__name__)\n",
    "log.propagate = False\n",
    "log.addHandler(handler)\n",
    "log.setLevel(logging.INFO)"
   ]
  },
  {
   "cell_type": "markdown",
   "metadata": {},
   "source": [
    "### Load data"
   ]
  },
  {
   "cell_type": "code",
   "execution_count": null,
   "metadata": {},
   "outputs": [],
   "source": [
    "data_dir = 'sf1k-converted/'\n",
    "loader = DataLoader(data_dir)\n",
    "\n",
    "vertices, mappings, matrices = loader.load_all_csvs()"
   ]
  },
  {
   "cell_type": "markdown",
   "metadata": {},
   "source": [
    "### Queries"
   ]
  },
  {
   "cell_type": "code",
   "execution_count": null,
   "metadata": {},
   "outputs": [],
   "source": [
    "# Query 1\n",
    "def shortest_distance_over_frequent_communication_paths(matrices, threshhold):\n",
    "    hasCreatorTransposed = matrices['hasCreator'].transpose()\n",
    "    \n",
    "    \n",
    "    personA_to_comment2 = hasCreatorTransposed @ matrices['replyOf']\n",
    "    person_to_person = personA_to_comment2.mxm(matrices['hasCreator'], mask=matrices['knows'])\n",
    "    person_to_person_mutual = person_to_person + person_to_person.transpose()\n",
    "    person_to_person_mutual_filtered = person_to_person_mutual.select('<', threshhold)    \n",
    "    person_to_person_mutual_filtered = person_to_person_mutual_filtered.pattern() # every element will be boolean\n",
    "    # TODO: BFS\n",
    "    \n",
    "    return person_to_person_mutual_filtered\n",
    "    \n",
    "    \n",
    "    \n",
    "    \n",
    "    \n",
    "    "
   ]
  },
  {
   "cell_type": "code",
   "execution_count": null,
   "metadata": {},
   "outputs": [],
   "source": [
    "x = shortest_distance_over_frequent_communication_paths(matrices, 10)"
   ]
  },
  {
   "cell_type": "code",
   "execution_count": null,
   "metadata": {},
   "outputs": [],
   "source": [
    "x.to_string()"
   ]
  },
  {
   "cell_type": "code",
   "execution_count": null,
   "metadata": {},
   "outputs": [],
   "source": []
  },
  {
   "cell_type": "code",
   "execution_count": null,
   "metadata": {},
   "outputs": [],
   "source": []
  }
 ],
 "metadata": {
  "kernelspec": {
   "display_name": "Python 3",
   "language": "python",
   "name": "python3"
  },
  "language_info": {
   "codemirror_mode": {
    "name": "ipython",
    "version": 3
   },
   "file_extension": ".py",
   "mimetype": "text/x-python",
   "name": "python",
   "nbconvert_exporter": "python",
   "pygments_lexer": "ipython3",
   "version": "3.7.3"
  }
 },
 "nbformat": 4,
 "nbformat_minor": 4
}
