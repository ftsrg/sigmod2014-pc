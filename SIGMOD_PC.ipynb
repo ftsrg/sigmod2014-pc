{
 "cells": [
  {
   "cell_type": "code",
   "execution_count": 1,
   "metadata": {},
   "outputs": [],
   "source": [
    "from pygraphblas import *\n",
    "import pygraphblas.descriptor\n",
    "import csv\n",
    "import sys\n",
    "import logging\n",
    "\n"
   ]
  },
  {
   "cell_type": "code",
   "execution_count": 2,
   "metadata": {},
   "outputs": [],
   "source": [
    "# Setup logger\n",
    "handler = logging.StreamHandler()\n",
    "handler.setFormatter(logging.Formatter('%(asctime)s %(levelname)-5s %(message)s'))\n",
    "log = logging.getLogger(__name__)\n",
    "log.propagate = False\n",
    "log.addHandler(handler)\n",
    "log.setLevel(logging.INFO)"
   ]
  },
  {
   "cell_type": "code",
   "execution_count": 9,
   "metadata": {},
   "outputs": [],
   "source": [
    "#Load data from CSV format\n",
    "class DataLoader:\n",
    "    \n",
    "    def __init__(self, path):\n",
    "        self.path = path\n",
    "        \n",
    "    def load_node(self, filename):\n",
    "        filename = self.path + filename\n",
    "        with open(filename, newline='') as csvfile:\n",
    "            reader = csv.DictReader(csvfile, delimiter='|', quotechar='\"')\n",
    "            headers = reader.fieldnames\n",
    "            log.info(f'Loading {filename} with headers: {headers}')\n",
    "            node_key = headers[0]\n",
    "            original_ids = [int(row[node_key]) for row in reader]\n",
    "            id_mapping = {}\n",
    "            for index in range(len(original_ids)):\n",
    "                id_mapping[original_ids[index]] = index\n",
    "            \n",
    "        return original_ids, id_mapping\n",
    "\n",
    "    def load_edge(self, filename, start_mapping, end_mapping, typ=BOOL, drop_dangling_edges=False):\n",
    "        filename = self.path + filename\n",
    "        with open(filename, newline='') as csvfile:\n",
    "            reader = csv.DictReader(csvfile, delimiter='|', quotechar='\"')\n",
    "            row_ids = []\n",
    "            col_ids = []\n",
    "            values = []\n",
    "            headers = reader.fieldnames\n",
    "            log.info(f'Loading {filename} with headers: {headers}')\n",
    "            start_key = headers[0]\n",
    "            end_key = headers[1]\n",
    "            for row in reader:\n",
    "                start_id = int(row[start_key])\n",
    "                end_id = int(row[end_key])\n",
    "                if not drop_dangling_edges or (start_id in start_mapping and end_id in end_mapping):\n",
    "                    row_ids.append(start_mapping[start_id])\n",
    "                    col_ids.append(end_mapping[end_id])\n",
    "                    values.append(1)\n",
    "        \n",
    "            edge_matrix = Matrix.from_lists(\n",
    "            row_ids,\n",
    "            col_ids,\n",
    "            values,\n",
    "            nrows=len(start_mapping), \n",
    "            ncols=len(end_mapping), \n",
    "            typ=typ)\n",
    "            return edge_matrix"
   ]
  },
  {
   "cell_type": "code",
   "execution_count": 10,
   "metadata": {},
   "outputs": [
    {
     "name": "stderr",
     "output_type": "stream",
     "text": [
      "2020-03-19 14:36:08,434 INFO  Loading sf1k-converted/comment.csv with headers: ['id:ID(Comment)', 'creationDate:DATETIME', 'locationIP:STRING', 'browserUsed:STRING', 'content:STRING']\n",
      "2020-03-19 14:36:17,449 INFO  Loading sf1k-converted/person.csv with headers: ['id:ID(Person)', 'firstName:STRING', 'lastName:STRING', 'gender:STRING', 'birthday:DATE', 'creationDate:DATETIME', 'locationIP:STRING', 'browserUsed:STRING']\n",
      "2020-03-19 14:36:17,471 INFO  Loading sf1k-converted/comment_replyOf_comment.csv with headers: [':START_ID(Comment)', ':END_ID(Comment)']\n"
     ]
    }
   ],
   "source": [
    "path = 'sf1k-converted/'\n",
    "loader = DataLoader(path)\n",
    "\n",
    "\n",
    "vertices = {}\n",
    "mapping = {}\n",
    "matrices = {}\n",
    "vertices['Comment'], mapping['Comment'] = loader.load_node('comment.csv')\n",
    "vertices['Person'], mapping['Person'] = loader.load_node('person.csv')\n",
    "matrices['replyOf'] = loader.load_edge('comment_replyOf_comment.csv', mapping['Comment'], mapping['Comment'])\n",
    "\n"
   ]
  },
  {
   "cell_type": "code",
   "execution_count": 12,
   "metadata": {},
   "outputs": [
    {
     "data": {
      "text/plain": [
       "{'replyOf': <Matrix (632042x632042 : 407920:BOOL)>}"
      ]
     },
     "execution_count": 12,
     "metadata": {},
     "output_type": "execute_result"
    }
   ],
   "source": []
  },
  {
   "cell_type": "code",
   "execution_count": null,
   "metadata": {},
   "outputs": [],
   "source": []
  }
 ],
 "metadata": {
  "kernelspec": {
   "display_name": "Python 3",
   "language": "python",
   "name": "python3"
  },
  "language_info": {
   "codemirror_mode": {
    "name": "ipython",
    "version": 3
   },
   "file_extension": ".py",
   "mimetype": "text/x-python",
   "name": "python",
   "nbconvert_exporter": "python",
   "pygments_lexer": "ipython3",
   "version": "3.7.3"
  }
 },
 "nbformat": 4,
 "nbformat_minor": 4
}
