{
 "cells": [
  {
   "cell_type": "code",
   "execution_count": 1,
   "metadata": {},
   "outputs": [],
   "source": [
    "from pygraphblas import *\n",
    "import pygraphblas.descriptor\n",
    "import csv\n",
    "import sys\n",
    "\n"
   ]
  },
  {
   "cell_type": "code",
   "execution_count": 11,
   "metadata": {},
   "outputs": [],
   "source": [
    "#Load data from CSV format\n",
    "class DataLoader:\n",
    "    \n",
    "    def __init__(self, path):\n",
    "        self.path = path\n",
    "        \n",
    "    def load_node(self, filename):\n",
    "        filename = self.path + filename\n",
    "        with open(filename, newline='') as csvfile:\n",
    "            reader = csv.DictReader(csvfile, delimiter='|', quotechar='\"')\n",
    "            original_ids = [int(row['id']) for row in reader]\n",
    "            id_mapping = {}\n",
    "            for index in range(len(original_ids)):\n",
    "                id_mapping[original_ids[index]] = index\n",
    "            \n",
    "        return original_ids, id_mapping\n",
    "\n",
    "    def load_edge(self, filename, start_mapping, end_mapping, typ=BOOL, drop_dangling_edges=False):\n",
    "        filename = self.path + filename\n",
    "        with open(filename, newline='') as csvfile:\n",
    "            reader = csv.DictReader(csvfile, delimiter='|', quotechar='\"')\n",
    "            row_ids = []\n",
    "            col_ids = []\n",
    "            values = []\n",
    "            for row in reader:\n",
    "                start_id = int(row['id:START_ID'])\n",
    "                end_id = int(row['id:END_ID'])\n",
    "                if not drop_dangling_edges or (start_id in start_mapping and end_id in end_mapping):\n",
    "                    row_ids.append(start_mapping[start_id])\n",
    "                    col_ids.append(end_mapping[end_id])\n",
    "                    values.append(1)\n",
    "        \n",
    "            edge_matrix = Matrix.from_lists(\n",
    "            row_ids,\n",
    "            col_ids,\n",
    "            values,\n",
    "            nrows=len(start_mapping), \n",
    "            ncols=len(end_mapping), \n",
    "            typ=typ)\n",
    "            return edge_matrix"
   ]
  },
  {
   "cell_type": "code",
   "execution_count": 13,
   "metadata": {},
   "outputs": [],
   "source": [
    "path = 'outputDir-1k/'\n",
    "loader = DataLoader(path)\n",
    "data_size = 2\n",
    "\n",
    "\n",
    "vertices = {}\n",
    "mapping = {}\n",
    "matrices = {}\n",
    "vertices['Comment'], mapping['Comment'] = loader.load_node('comment.csv')\n",
    "vertices['Person'], mapping['Person'] = loader.load_node('person.csv')\n",
    "matrices['replyOf'] = loader.load_edge('comment_replyOf_comment.csv', mapping['Comment'], mapping['Comment'])\n",
    "\n"
   ]
  },
  {
   "cell_type": "code",
   "execution_count": null,
   "metadata": {},
   "outputs": [],
   "source": []
  }
 ],
 "metadata": {
  "kernelspec": {
   "display_name": "Python 3",
   "language": "python",
   "name": "python3"
  },
  "language_info": {
   "codemirror_mode": {
    "name": "ipython",
    "version": 3
   },
   "file_extension": ".py",
   "mimetype": "text/x-python",
   "name": "python",
   "nbconvert_exporter": "python",
   "pygments_lexer": "ipython3",
   "version": "3.7.4"
  }
 },
 "nbformat": 4,
 "nbformat_minor": 4
}
