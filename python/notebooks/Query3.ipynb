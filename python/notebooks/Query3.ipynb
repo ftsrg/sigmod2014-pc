{
 "cells": [
  {
   "cell_type": "code",
   "execution_count": null,
   "metadata": {},
   "outputs": [],
   "source": [
    "from pygraphblas import *\n",
    "from _pygraphblas import lib\n",
    "import pygraphblas.descriptor\n",
    "import csv\n",
    "import sys\n",
    "import logging\n",
    "import glob\n",
    "import os\n",
    "import operator\n",
    "import sys\n",
    "sys.path.append(\"..\")\n",
    "from loader.data_loader import DataLoader\n",
    "from timeit import default_timer as timer"
   ]
  },
  {
   "cell_type": "code",
   "execution_count": null,
   "metadata": {},
   "outputs": [],
   "source": [
    "# Setup logger\n",
    "handler = logging.StreamHandler()\n",
    "handler.setFormatter(logging.Formatter('%(asctime)s %(levelname)-5s %(message)s'))\n",
    "log = logging.getLogger(__name__)\n",
    "log.propagate = False\n",
    "log.addHandler(handler)\n",
    "log.setLevel(logging.INFO)"
   ]
  },
  {
   "cell_type": "code",
   "execution_count": null,
   "metadata": {},
   "outputs": [],
   "source": [
    "data_dir = '../../csvs/o1k/'\n",
    "data_format = 'csv'"
   ]
  },
  {
   "cell_type": "code",
   "execution_count": null,
   "metadata": {},
   "outputs": [],
   "source": [
    "loader = DataLoader(data_dir, data_format)\n",
    "\n",
    "person = loader.load_vertex('person')\n",
    "place = loader.load_vertex('place')\n",
    "organisation = loader.load_vertex('organisation')\n",
    "tag = loader.load_vertex('tag')\n",
    "\n",
    "placeNames = loader.load_extra_columns('place',['name'])\n",
    "\n",
    "isPartOf = loader.load_edge('isPartOf', place, place)\n",
    "personIsLocatedIn = loader.load_edge('isLocatedIn', person, place)\n",
    "organisationIsLocatedIn = loader.load_edge('isLocatedIn', organisation, place)\n",
    "workAt = loader.load_edge('workAt', person, organisation)\n",
    "studyAt = loader.load_edge('studyAt', person, organisation)\n",
    "knows = loader.load_edge('knows', person, person)\n",
    "hasInterest = loader.load_edge('hasInterest', person, tag)\n",
    "\n",
    "#vertices, mappings, matrices = loader.load_all_csvs()"
   ]
  },
  {
   "cell_type": "code",
   "execution_count": null,
   "metadata": {},
   "outputs": [],
   "source": [
    "def RelevantPeopleInPlace(placeName):\n",
    "    placeID = placeNames.index(placeName)\n",
    "    #Relevant places\n",
    "    isPartOfTransposed = isPartOf.transpose()\n",
    "    placeVector = Vector.from_type(BOOL,isPartOfTransposed.nrows)\n",
    "    placeVector[placeID] = True\n",
    "    relevantPlacesVector = placeVector + placeVector.vxm(isPartOfTransposed) + placeVector.vxm(isPartOfTransposed).vxm(isPartOfTransposed)\n",
    "    #People located in the given place\n",
    "    peopleInThePlaceVector = personIsLocatedIn.mxv(relevantPlacesVector)\n",
    "    #People working at a Company or studying at a University located in the given place\n",
    "    organisationsVector = organisationIsLocatedIn.mxv(relevantPlacesVector)\n",
    "    with semiring.LOR_LAND_BOOL:\n",
    "        peopleWorkAtVector = workAt.mxv(organisationsVector)\n",
    "        peopleStudyAtVector = studyAt.mxv(organisationsVector) \n",
    "    #All the relevant people in the given place    \n",
    "    with binaryop.PLUS_BOOL:    \n",
    "        relevantPeopleVector = peopleWorkAtVector + peopleStudyAtVector + peopleInThePlaceVector\n",
    "    return relevantPeopleVector"
   ]
  },
  {
   "cell_type": "code",
   "execution_count": null,
   "metadata": {},
   "outputs": [],
   "source": [
    "def HHopKnows(h,vec):\n",
    "    if(h < 2) : return vec.vxm(knows)\n",
    "    mtx = knows\n",
    "    while(h-1 > 0):\n",
    "        mtx = mtx.mxm(knows)\n",
    "        h -= 1\n",
    "    return(vec.vxm(mtx) + HHopKnows(h-1,vec))"
   ]
  },
  {
   "cell_type": "code",
   "execution_count": null,
   "metadata": {},
   "outputs": [],
   "source": [
    "def query3(k,h,p):\n",
    "    relevantPeopleVector = RelevantPeopleInPlace(p)\n",
    "\n",
    "    #Maping the id-s back, sorting, then remapping\n",
    "    mapedPersonIds = relevantPeopleVector.to_lists()[0]\n",
    "    mapedPersonIds[:] = [person.id2index[id] for id in mapedPersonIds]\n",
    "    mapedPersonIds.sort()\n",
    "    remapedSortedPersonIds = mapedPersonIds\n",
    "    remapedSortedPersonIds[:] = [person.index2id[id] for id in mapedPersonIds]\n",
    "\n",
    "    #A list of maped id-s, sorted by the original id-s\n",
    "    personList = list(zip(remapedSortedPersonIds,relevantPeopleVector.to_lists()[1]))\n",
    "    resultList = []\n",
    "\n",
    "    for _person in personList:\n",
    "        personVector = Vector.from_type(BOOL,relevantPeopleVector.size)\n",
    "        personVector[_person[0]] = True\n",
    "        \n",
    "        personKnowsHHopVector = HHopKnows(h,personVector)\n",
    "        personKnowsHHopVector *= relevantPeopleVector     #only the relevant people are needed\n",
    "        \n",
    "        personHasInterestVector = personVector.vxm(hasInterest)\n",
    "        numTagsVector = Vector.from_type(INT64,relevantPeopleVector.size)    \n",
    "\n",
    "        for tag in personHasInterestVector:\n",
    "            tagVector = Vector.from_type(BOOL,personHasInterestVector.size)\n",
    "            tagVector[tag[0]] = True\n",
    "            peopleInterestedInTagVector = tagVector.vxm(hasInterest.transpose())\n",
    "            numTagsVector += peopleInterestedInTagVector\n",
    "        \n",
    "        numTagsVector[_person[0]] = 0    #p1|p1 should be 0\n",
    "        numTagsVector *= personKnowsHHopVector\n",
    "\n",
    "        personID = person.id2index[_person[0]]\n",
    "        for value in numTagsVector:\n",
    "            valueID = person.id2index[value[0]]\n",
    "            if(value[1] != 0):\n",
    "                for element in resultList:\n",
    "                    if(personID == element[1] and valueID == element[0]):\n",
    "                        break\n",
    "                else:\n",
    "                    resultList += [[personID,valueID,value[1]]]\n",
    "\n",
    "    resultList.sort(key = operator.itemgetter(1))  \n",
    "    resultList.sort(key = operator.itemgetter(0))\n",
    "    resultList.sort(key = operator.itemgetter(2), reverse = True)\n",
    "\n",
    "    for element in resultList[:k]:\n",
    "        print('{}|{}|{}'.format(element[0],element[1],element[2]))"
   ]
  },
  {
   "cell_type": "code",
   "execution_count": null,
   "metadata": {},
   "outputs": [],
   "source": [
    "#India.id = 38\n",
    "start = timer()\n",
    "query3(3,2,'India')\n",
    "end = timer()\n",
    "print(end -start)"
   ]
  },
  {
   "cell_type": "code",
   "execution_count": null,
   "metadata": {},
   "outputs": [],
   "source": [
    "def RelevantPeopleInPlaceMatrix(placeName):\n",
    "    placeID = placeNames.index(placeName)\n",
    "    #Relevant places\n",
    "    isPartOfTransposed = isPartOf.transpose()\n",
    "    placeVector = Vector.from_type(BOOL,isPartOfTransposed.nrows)\n",
    "    placeVector[placeID] = True\n",
    "    relevantPlacesVector = placeVector + placeVector.vxm(isPartOfTransposed) + placeVector.vxm(isPartOfTransposed).vxm(isPartOfTransposed)\n",
    "    #People located in the given place\n",
    "    peopleInThePlaceVector = personIsLocatedIn.mxv(relevantPlacesVector)\n",
    "    #People working at a Company or studying at a University located in the given place\n",
    "    organisationsVector = organisationIsLocatedIn.mxv(relevantPlacesVector)\n",
    "    with semiring.LOR_LAND_BOOL:\n",
    "        peopleWorkAtVector = workAt.mxv(organisationsVector)\n",
    "        peopleStudyAtVector = studyAt.mxv(organisationsVector) \n",
    "    #All the relevant people in the given place    \n",
    "    with binaryop.PLUS_BOOL:    \n",
    "        relevantPeopleVector = peopleWorkAtVector + peopleStudyAtVector + peopleInThePlaceVector   \n",
    "    \n",
    "    #Creating a diagonal matrix from the people ids\n",
    "    diagMtx = Matrix.from_lists(relevantPeopleVector.to_lists()[0],relevantPeopleVector.to_lists()[0],relevantPeopleVector.to_lists()[1], knows.nrows, knows.ncols)\n",
    "    return diagMtx"
   ]
  },
  {
   "cell_type": "code",
   "execution_count": null,
   "metadata": {},
   "outputs": [],
   "source": [
    "def powerMatrix(p,mtx):\n",
    "    if(p == 1): return mtx\n",
    "    return mtx.mxm(powerMatrix(p-1,mtx))"
   ]
  },
  {
   "cell_type": "code",
   "execution_count": null,
   "metadata": {},
   "outputs": [],
   "source": [
    "def sortTriples(triple):\n",
    "    if(person.id2index[triple[0]] > person.id2index[triple[1]]):\n",
    "        return -triple[2], person.id2index[triple[1]], person.id2index[triple[0]]\n",
    "    return -triple[2], person.id2index[triple[0]], person.id2index[triple[1]]"
   ]
  },
  {
   "cell_type": "code",
   "execution_count": null,
   "metadata": {},
   "outputs": [],
   "source": [
    "def query3_opt(k,h,p):\n",
    "    diagMtx = RelevantPeopleInPlaceMatrix(p)\n",
    "    maskMtx = knows\n",
    "    for i in range(h,h+1): maskMtx = maskMtx.eadd(powerMatrix(i,maskMtx))\n",
    "    #Selecting the relevant rows and columns by multiplying the mask matrix from the right then from the left with the diagonal matrix\n",
    "    maskMtx = diagMtx.mxm(maskMtx).mxm(diagMtx).pattern()\n",
    "\n",
    "    resultMatrix = hasInterest.mxm(hasInterest.transpose(),mask=maskMtx)\n",
    "    resultMatrix = resultMatrix.triu().offdiag()\n",
    "    import heapq\n",
    "    result = heapq.nsmallest(k,resultMatrix,key=sortTriples)\n",
    "    for res in result:\n",
    "        if(person.id2index[res[0]] > person.id2index[res[1]]):\n",
    "            print('{}|{}|{}'.format(person.id2index[res[1]], person.id2index[res[0]],res[2]))\n",
    "        else:\n",
    "            print('{}|{}|{}'.format(person.id2index[res[0]], person.id2index[res[1]],res[2]))\n",
    "    \n",
    "    if(len(result) < k):\n",
    "        result_zeros = heapq.nsmallest(k,maskMtx.triu().offdiag(),key=sortTriples)\n",
    "        remaining = k - len(result)\n",
    "        while(remaining > 0):\n",
    "            res = result_zeros.pop(0)\n",
    "            if(resultMatrix.get(res[0],res[1]) == None):\n",
    "                if(person.id2index[res[0]] > person.id2index[res[1]]):\n",
    "                    print('{}|{}|{}'.format(person.id2index[res[1]], person.id2index[res[0]],0))\n",
    "                else:\n",
    "                    print('{}|{}|{}'.format(person.id2index[res[0]], person.id2index[res[1]],0))\n",
    "                remaining -= 1"
   ]
  },
  {
   "cell_type": "code",
   "execution_count": null,
   "metadata": {
    "tags": [
     "outputPrepend"
    ]
   },
   "outputs": [],
   "source": [
    "start = timer()\n",
    "query3_opt(3,2,'India')\n",
    "end = timer()\n",
    "print(end -start)"
   ]
  },
  {
   "cell_type": "code",
   "execution_count": null,
   "metadata": {},
   "outputs": [],
   "source": [
    "print(\"\\n\\nBrazil\")\n",
    "query3_opt(4, 3, 'Brazil') #\t29|31 29|38 29|39 29|59 % common interest counts 1 1 1 1\n",
    "print(\"\\n\\nVietnam\")\n",
    "query3_opt(9, 8, 'Vietnam') #\t404|978 404|979 404|980 404|983 404|984 404|985 404|987 404|990 404|992 % common interest counts 1 1 1 1 1 1 1 1 1\n",
    "print(\"\\n\\nAustralia\")\n",
    "query3_opt(5, 4, 'Australia') #\t8|16 8|17 8|18 8|19 8|163 % common interest counts 0 0 0 0 0\n",
    "print('\\n\\nAsia')\n",
    "query3_opt(3, 2, 'Asia')  #   361|812 174|280 280|812 % common interest counts 4 3 3\n",
    "print('\\n\\nIndonesia')\n",
    "query3_opt(4, 3, 'Indonesia') # 396|398 363|367 363|368 363|372 % common interest counts 2 1 1 1\n",
    "print('\\n\\nEgypt')\n",
    "query3_opt(3, 2, 'Egypt') # 110|116 106|110 106|112 % common interest counts 1 0 0\n",
    "print('\\n\\nItaly')\n",
    "query3_opt(3, 2, 'Italy') # 420|825 421|424 10|414 % common interest counts 1 1 0\n",
    "print('\\n\\nChengdu')\n",
    "query3_opt(5, 4, 'Chengdu') # 590|650 590|658 590|614 590|629 590|638 % common interest counts 1 1 0 0 0\n",
    "print('\\n\\nPeru')\n",
    "query3_opt(3, 2, 'Peru') # 65|766 65|767 65|863 % common interest counts 0 0 0\n",
    "print('\\n\\nDemocratic_Republic_of_the_Congo')\n",
    "query3_opt(3, 2, 'Democratic_Republic_of_the_Congo') # 99|100 99|101 99|102 % common interest counts 0 0 0\n",
    "print('\\n\\nAnkara')\n",
    "query3_opt(7, 6, 'Ankara') # 891|898 890|891 890|895 890|898 890|902 891|895 891|902 % common interest counts 1 0 0 0 0 0 0\n",
    "print('\\n\\nLuoyang')\n",
    "query3_opt(3, 2, 'Luoyang') # 565|625 653|726 565|653 % common interest counts 2 1 0\n",
    "print('\\n\\nTaiwan')\n",
    "query3_opt(4, 3, 'Taiwan') # 795|798 797|798 567|795 567|796 % common interest counts 1 1 0 0"
   ]
  },
  {
   "cell_type": "code",
   "execution_count": null,
   "metadata": {},
   "outputs": [],
   "source": []
  }
 ],
 "metadata": {
  "kernelspec": {
   "display_name": "Python 3",
   "language": "python",
   "name": "python3"
  },
  "language_info": {
   "codemirror_mode": {
    "name": "ipython",
    "version": 3
   },
   "file_extension": ".py",
   "mimetype": "text/x-python",
   "name": "python",
   "nbconvert_exporter": "python",
   "pygments_lexer": "ipython3",
   "version": "3.7.3"
  }
 },
 "nbformat": 4,
 "nbformat_minor": 4
}
