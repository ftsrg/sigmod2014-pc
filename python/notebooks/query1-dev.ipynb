{
 "cells": [
  {
   "cell_type": "code",
   "execution_count": null,
   "metadata": {},
   "outputs": [],
   "source": [
    "from pygraphblas import *\n",
    "#from _pygraphblas import lib\n",
    "import pygraphblas.descriptor\n",
    "import csv\n",
    "import sys\n",
    "import logging\n",
    "import glob\n",
    "import operator\n",
    "import sys\n",
    "sys.path.append(\"..\")\n",
    "from loader.data_loader import DataLoader\n",
    "from algorithms.search import naive_bfs_levels\n",
    "\n"
   ]
  },
  {
   "cell_type": "code",
   "execution_count": null,
   "metadata": {},
   "outputs": [],
   "source": [
    "# Setup logger\n",
    "handler = logging.StreamHandler()\n",
    "handler.setFormatter(logging.Formatter('%(asctime)s %(levelname)-5s %(message)s'))\n",
    "log = logging.getLogger(__name__)\n",
    "log.propagate = False\n",
    "log.addHandler(handler)\n",
    "log.setLevel(logging.INFO)"
   ]
  },
  {
   "cell_type": "markdown",
   "metadata": {},
   "source": [
    "### Load data"
   ]
  },
  {
   "cell_type": "code",
   "execution_count": null,
   "metadata": {},
   "outputs": [],
   "source": [
    "data_dir = '../../csvs/o1k/'\n",
    "data_format = 'csv'\n",
    "loader = DataLoader(data_dir, data_format)\n",
    "\n",
    "#vertices, mappings, matrices = loader.load_all_csvs()\n",
    "\n",
    "person = loader.load_vertex('person')\n",
    "comment = loader.load_vertex('comment')\n",
    "\n",
    "replyOf = loader.load_edge('replyOf', comment, comment)\n",
    "replyOfTransposed = replyOf.transpose()\n",
    "knows = loader.load_edge('knows', person, person)\n",
    "hasCreator = loader.load_edge('hasCreator', comment, person)\n",
    "hasCreatorTransposed = hasCreator.transpose()\n",
    "\n"
   ]
  },
  {
   "cell_type": "markdown",
   "metadata": {},
   "source": [
    "### Queries"
   ]
  },
  {
   "cell_type": "code",
   "execution_count": null,
   "metadata": {},
   "outputs": [],
   "source": [
    "# Query 1\n",
    "def shortest_distance_over_frequent_communication_paths(person, replyOf, knows, hasCreator, num_of_interactions, person1_id, person2_id):\n",
    "\n",
    "    person1_id_remapped = person.id2index[person1_id]\n",
    "    person2_id_remapped = person.id2index[person2_id]\n",
    "\n",
    "    # pattern: a hacky way to cast to UINT64 because count is required instead of existence\n",
    "    personA_to_comment2 = hasCreatorTransposed.pattern(UINT64) @ replyOf\n",
    "    \n",
    "    person_to_person = personA_to_comment2.mxm(hasCreator, mask=knows)\n",
    "    \n",
    "    person_to_person_filtered = person_to_person.select(lib.GxB_GT_THUNK, num_of_interactions)\n",
    "    \n",
    "    overlay_graph = person_to_person_filtered.pattern()\n",
    "    if num_of_interactions == -1:\n",
    "        overlay_graph = knows\n",
    "        \n",
    "    levels = naive_bfs_levels(overlay_graph, person1_id_remapped)\n",
    "    \n",
    "    \n",
    "    result = levels[person2_id_remapped] - 1 # Get hop count\n",
    "    \n",
    "    return result\n",
    "    "
   ]
  },
  {
   "cell_type": "code",
   "execution_count": null,
   "metadata": {},
   "outputs": [],
   "source": [
    "x = shortest_distance_over_frequent_communication_paths(person, replyOf, knows, hasCreator, 1, 786, 799)\n",
    "print(f'RESULT: {x}', x==4)\n",
    "x = shortest_distance_over_frequent_communication_paths(person, replyOf, knows, hasCreator, 1, 422, 736)\n",
    "print(f'RESULT: {x}', x==-1)\n",
    "x = shortest_distance_over_frequent_communication_paths(person, replyOf, knows, hasCreator, 1, 858, 587)\n",
    "print(f'RESULT: {x}', x==4)\n",
    "x = shortest_distance_over_frequent_communication_paths(person, replyOf, knows, hasCreator, -1, 266, 106)\n",
    "print(f'RESULT: {x}', x==3)\n",
    "x = shortest_distance_over_frequent_communication_paths(person, replyOf, knows, hasCreator, 0, 58, 402)\n",
    "print(f'RESULT: {x}', x==3)\n",
    "x = shortest_distance_over_frequent_communication_paths(person, replyOf, knows, hasCreator, 105, 608, 3) \n",
    "print(f'RESULT: {x}', x==-1)"
   ]
  },
  {
   "cell_type": "code",
   "execution_count": null,
   "metadata": {},
   "outputs": [],
   "source": [
    "# Optimized version: do not create overlay graph but investigate investigate KNOWS edges on-the-fly.\n",
    "def step_frontier(frontier, seen, num_of_interactions, numpersons, hasCreator, replyOf, knows):\n",
    "    frontierPersonIndices = frontier.to_lists()[0]\n",
    "\n",
    "    # # bad and ugly\n",
    "    # sel = Matrix.from_lists(frontierPersonIndices, frontierPersonIndices, [1]*len(frontierPersonIndices), numpersons, numpersons)\n",
    "    # if num_of_interactions >= 0:\n",
    "    #     FreqComm1 = sel.mxm(knows).mxm(hasCreatorTransposed).mxm(replyOf          ).mxm(hasCreator, mask=knows).select(lib.GxB_GT_THUNK, num_of_interactions)\n",
    "    #     FreqComm2 = sel.mxm(knows).mxm(hasCreatorTransposed).mxm(replyOfTransposed).mxm(hasCreator, mask=knows).select(lib.GxB_GT_THUNK, num_of_interactions)\n",
    "    #     FreqComm = FreqComm1*FreqComm2\n",
    "    #     FreqComm = FreqComm.transpose()\n",
    "    #     next = FreqComm.reduce_vector().pattern()\n",
    "    # else:\n",
    "    #     next = frontier.vxm(knows)\n",
    "\n",
    "    # good\n",
    "    sel = Matrix.from_lists(frontierPersonIndices, frontierPersonIndices, [1]*len(frontierPersonIndices), numpersons, numpersons)\n",
    "    if num_of_interactions >= 0:\n",
    "        FreqComm1 = sel.mxm(hasCreatorTransposed).mxm(replyOf          ).mxm(hasCreator, mask=knows).select(lib.GxB_GT_THUNK, num_of_interactions)\n",
    "        FreqComm2 = sel.mxm(hasCreatorTransposed).mxm(replyOfTransposed).mxm(hasCreator, mask=knows).select(lib.GxB_GT_THUNK, num_of_interactions)\n",
    "        FreqComm = FreqComm1*FreqComm2\n",
    "        FreqComm = FreqComm.transpose()\n",
    "        next = FreqComm.reduce_vector().pattern()\n",
    "    else:\n",
    "        next = frontier.vxm(knows)\n",
    "\n",
    "    # print(next, next.type)\n",
    "    # print(next.to_string())\n",
    "\n",
    "    return next\n",
    "\n",
    "def shortest_distance_over_frequent_communication_paths_opt(person, replyOf, knows, hasCreator, num_of_interactions, person1_id, person2_id):\n",
    "    person1_id_remapped = person.id2index[person1_id]\n",
    "    person2_id_remapped = person.id2index[person2_id] \n",
    "\n",
    "    numpersons = len(person.id2index)\n",
    "    frontier1 = Vector.from_lists([person1_id_remapped], [True], numpersons)\n",
    "    frontier2 = Vector.from_lists([person2_id_remapped], [True], numpersons)\n",
    "    seen1 = frontier1\n",
    "    seen2 = frontier2\n",
    "\n",
    "    for level in range(1, numpersons//2):\n",
    "        #print(\"===== \" + str(level) + \" =====\")\n",
    "        #print(\"frontier persons: \" + str(frontierPersonIndices))\n",
    "\n",
    "        # frontier 1\n",
    "        next1 = step_frontier(frontier1, seen1, num_of_interactions, numpersons, hasCreator, replyOf, knows)\n",
    "\n",
    "        # emptied the component of person1\n",
    "        if next1.nvals == 0:\n",
    "            return -1\n",
    "        # has frontier1 intersected frontier2's previous state?\n",
    "        intersection1 = next1 * seen2\n",
    "        if intersection1.nvals > 0:\n",
    "            return level*2-1\n",
    "\n",
    "        # frontier 2\n",
    "        next2 = step_frontier(frontier2, seen2, num_of_interactions, numpersons, hasCreator, replyOf, knows)\n",
    "\n",
    "        # emptied the component of person2\n",
    "        if next2.nvals == 0:\n",
    "            return -1\n",
    "        # do frontier1 and frontier2's current states intersect?\n",
    "        intersection2 = next1 * next2\n",
    "        if intersection2.nvals > 0:\n",
    "            return level*2\n",
    "\n",
    "        # step the frontiers\n",
    "        seen1 = seen1 + next1\n",
    "        frontier1 = next1\n",
    "\n",
    "        seen2 = seen2 + next2\n",
    "        frontier2 = next2"
   ]
  },
  {
   "cell_type": "code",
   "execution_count": null,
   "metadata": {
    "pycharm": {
     "name": "#%%\n"
    }
   },
   "outputs": [],
   "source": [
    "x = shortest_distance_over_frequent_communication_paths_opt(person, replyOf, knows, hasCreator, 1, 786, 799)\n",
    "print(f'RESULT: {x}', x==4)\n",
    "x = shortest_distance_over_frequent_communication_paths_opt(person, replyOf, knows, hasCreator, 1, 422, 736)\n",
    "print(f'RESULT: {x}', x==-1)\n",
    "x = shortest_distance_over_frequent_communication_paths_opt(person, replyOf, knows, hasCreator, 1, 858, 587)\n",
    "print(f'RESULT: {x}', x==4)\n",
    "x = shortest_distance_over_frequent_communication_paths_opt(person, replyOf, knows, hasCreator, -1, 266, 106)\n",
    "print(f'RESULT: {x}', x==3)\n",
    "x = shortest_distance_over_frequent_communication_paths_opt(person, replyOf, knows, hasCreator, 0, 58, 402)\n",
    "print(f'RESULT: {x}', x==3)\n",
    "x = shortest_distance_over_frequent_communication_paths_opt(person, replyOf, knows, hasCreator, 105, 608, 3) \n",
    "print(f'RESULT: {x}', x==-1)\n"
   ]
  },
  {
   "cell_type": "code",
   "execution_count": null,
   "metadata": {},
   "outputs": [],
   "source": []
  }
 ],
 "metadata": {
  "kernelspec": {
   "display_name": "Python 3",
   "language": "python",
   "name": "python3"
  },
  "language_info": {
   "codemirror_mode": {
    "name": "ipython",
    "version": 3
   },
   "file_extension": ".py",
   "mimetype": "text/x-python",
   "name": "python",
   "nbconvert_exporter": "python",
   "pygments_lexer": "ipython3",
   "version": "3.7.6"
  }
 },
 "nbformat": 4,
 "nbformat_minor": 4
}
