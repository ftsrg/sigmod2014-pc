{
 "cells": [
  {
   "cell_type": "code",
   "execution_count": 1,
   "metadata": {},
   "outputs": [],
   "source": [
    "from pygraphblas import *\n",
    "#from _pygraphblas import lib\n",
    "import pygraphblas.descriptor\n",
    "import csv\n",
    "import sys\n",
    "import logging\n",
    "import glob\n",
    "import operator\n",
    "import sys\n",
    "sys.path.append(\"..\")\n",
    "from loader.data_loader import DataLoader\n",
    "from algorithms.search import naive_bfs_levels\n",
    "\n"
   ]
  },
  {
   "cell_type": "code",
   "execution_count": 2,
   "metadata": {},
   "outputs": [],
   "source": [
    "# Setup logger\n",
    "handler = logging.StreamHandler()\n",
    "handler.setFormatter(logging.Formatter('%(asctime)s %(levelname)-5s %(message)s'))\n",
    "log = logging.getLogger(__name__)\n",
    "log.propagate = False\n",
    "log.addHandler(handler)\n",
    "log.setLevel(logging.INFO)"
   ]
  },
  {
   "cell_type": "markdown",
   "metadata": {},
   "source": [
    "### Load data"
   ]
  },
  {
   "cell_type": "code",
   "execution_count": null,
   "metadata": {},
   "outputs": [],
   "source": [
    "data_dir = '../../csvs/o1k/'\n",
    "data_format = 'csv'\n",
    "loader = DataLoader(data_dir, data_format)\n",
    "\n",
    "#vertices, mappings, matrices = loader.load_all_csvs()\n",
    "\n",
    "person = loader.load_vertex('person')\n",
    "comment = loader.load_vertex('comment')\n",
    "\n",
    "replyOf = loader.load_edge('replyOf', comment, comment)\n",
    "knows = loader.load_edge('knows', person, person)\n",
    "hasCreator = loader.load_edge('hasCreator', comment, person)\n",
    "\n"
   ]
  },
  {
   "cell_type": "markdown",
   "metadata": {},
   "source": [
    "### Queries"
   ]
  },
  {
   "cell_type": "code",
   "execution_count": null,
   "metadata": {},
   "outputs": [],
   "source": [
    "# Query 1\n",
    "def shortest_distance_over_frequent_communication_paths(person, replyOf, knows, hasCreator, num_of_interactions, person1_id, person2_id):\n",
    "\n",
    "    person1_id_remapped = person.index2id[person1_id]\n",
    "    person2_id_remapped = person.index2id[person2_id] \n",
    "\n",
    "    hasCreatorTransposed = hasCreator.transpose()\n",
    "\n",
    "    personA_to_comment2 = hasCreatorTransposed @ replyOf\n",
    "    \n",
    "    person_to_person = personA_to_comment2.mxm(hasCreator, mask=knows)\n",
    "    \n",
    "    person_to_person_filtered = person_to_person.select(lib.GxB_GT_THUNK, num_of_interactions)\n",
    "    \n",
    "    overlay_graph = person_to_person_filtered.pattern()\n",
    "    if num_of_interactions == -1:\n",
    "        overlay_graph = knows\n",
    "        \n",
    "    levels = naive_bfs_levels(overlay_graph, person1_id_remapped)\n",
    "    \n",
    "    \n",
    "    result = levels[person2_id_remapped] - 1 # Get hop count\n",
    "    \n",
    "    return result\n",
    "    "
   ]
  },
  {
   "cell_type": "code",
   "execution_count": null,
   "metadata": {},
   "outputs": [],
   "source": [
    "x = shortest_distance_over_frequent_communication_paths(person, replyOf, knows, hasCreator, 0 , 58, 402)\n",
    "print(f'RESULT: {x}')"
   ]
  }
 ],
 "metadata": {
  "kernelspec": {
   "display_name": "Python 3",
   "language": "python",
   "name": "python3"
  },
  "language_info": {
   "codemirror_mode": {
    "name": "ipython",
    "version": 3
   },
   "file_extension": ".py",
   "mimetype": "text/x-python",
   "name": "python",
   "nbconvert_exporter": "python",
   "pygments_lexer": "ipython3",
   "version": "3.7.3"
  }
 },
 "nbformat": 4,
 "nbformat_minor": 4
}
