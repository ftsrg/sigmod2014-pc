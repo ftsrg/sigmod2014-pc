{
 "cells": [
  {
   "cell_type": "code",
   "execution_count": 2,
   "metadata": {},
   "outputs": [],
   "source": [
    "from pygraphblas import *\n",
    "#from _pygraphblas import lib\n",
    "import pygraphblas.descriptor\n",
    "import csv\n",
    "import sys\n",
    "import logging\n",
    "import glob\n",
    "import operator\n",
    "import sys\n",
    "sys.path.append(\"..\")\n",
    "from loader.data_loader import DataLoader\n",
    "from algorithms.search import naive_bfs_levels\n",
    "\n"
   ]
  },
  {
   "cell_type": "code",
   "execution_count": 3,
   "metadata": {},
   "outputs": [],
   "source": [
    "# Setup logger\n",
    "handler = logging.StreamHandler()\n",
    "handler.setFormatter(logging.Formatter('%(asctime)s %(levelname)-5s %(message)s'))\n",
    "log = logging.getLogger(__name__)\n",
    "log.propagate = False\n",
    "log.addHandler(handler)\n",
    "log.setLevel(logging.INFO)"
   ]
  },
  {
   "cell_type": "markdown",
   "metadata": {},
   "source": [
    "### Load data"
   ]
  },
  {
   "cell_type": "code",
   "execution_count": 4,
   "metadata": {},
   "outputs": [],
   "source": [
    "data_dir = '../../csvs/o1k/'\n",
    "data_format = 'csv'\n",
    "loader = DataLoader(data_dir, data_format)\n",
    "\n",
    "#vertices, mappings, matrices = loader.load_all_csvs()\n",
    "\n",
    "person = loader.load_vertex('person')\n",
    "comment = loader.load_vertex('comment')\n",
    "\n",
    "replyOf = loader.load_edge('replyOf', comment, comment)\n",
    "knows = loader.load_edge('knows', person, person)\n",
    "hasCreator = loader.load_edge('hasCreator', comment, person)\n",
    "\n"
   ]
  },
  {
   "cell_type": "markdown",
   "metadata": {},
   "source": [
    "### Queries"
   ]
  },
  {
   "cell_type": "code",
   "execution_count": 5,
   "metadata": {},
   "outputs": [],
   "source": [
    "# Query 1\n",
    "def shortest_distance_over_frequent_communication_paths(person, replyOf, knows, hasCreator, num_of_interactions, person1_id, person2_id):\n",
    "\n",
    "    person1_id_remapped = person.index2id[person1_id]\n",
    "    person2_id_remapped = person.index2id[person2_id] \n",
    "\n",
    "    hasCreatorTransposed = hasCreator.transpose()\n",
    "\n",
    "    personA_to_comment2 = hasCreatorTransposed @ replyOf\n",
    "    \n",
    "    person_to_person = personA_to_comment2.mxm(hasCreator, mask=knows)\n",
    "    \n",
    "    person_to_person_filtered = person_to_person.select(lib.GxB_GT_THUNK, num_of_interactions)\n",
    "    \n",
    "    overlay_graph = person_to_person_filtered.pattern()\n",
    "    if num_of_interactions == -1:\n",
    "        overlay_graph = knows\n",
    "        \n",
    "    levels = naive_bfs_levels(overlay_graph, person1_id_remapped)\n",
    "    \n",
    "    \n",
    "    result = levels[person2_id_remapped] - 1 # Get hop count\n",
    "    \n",
    "    return result\n",
    "    "
   ]
  },
  {
   "cell_type": "code",
   "execution_count": 6,
   "metadata": {},
   "outputs": [
    {
     "output_type": "stream",
     "name": "stdout",
     "text": "RESULT: 3 False\nRESULT: 4 False\nRESULT: 4 True\nRESULT: 3 True\nRESULT: 3 True\n"
    },
    {
     "output_type": "error",
     "ename": "NoValue",
     "evalue": "b''",
     "traceback": [
      "\u001b[0;31m---------------------------------------------------------------------------\u001b[0m",
      "\u001b[0;31mNoValue\u001b[0m                                   Traceback (most recent call last)",
      "\u001b[0;32m<ipython-input-6-416b9e2c6e85>\u001b[0m in \u001b[0;36m<module>\u001b[0;34m\u001b[0m\n\u001b[1;32m      9\u001b[0m \u001b[0mx\u001b[0m \u001b[0;34m=\u001b[0m \u001b[0mshortest_distance_over_frequent_communication_paths\u001b[0m\u001b[0;34m(\u001b[0m\u001b[0mperson\u001b[0m\u001b[0;34m,\u001b[0m \u001b[0mreplyOf\u001b[0m\u001b[0;34m,\u001b[0m \u001b[0mknows\u001b[0m\u001b[0;34m,\u001b[0m \u001b[0mhasCreator\u001b[0m\u001b[0;34m,\u001b[0m \u001b[0;36m0\u001b[0m\u001b[0;34m,\u001b[0m \u001b[0;36m58\u001b[0m\u001b[0;34m,\u001b[0m \u001b[0;36m402\u001b[0m\u001b[0;34m)\u001b[0m\u001b[0;34m\u001b[0m\u001b[0;34m\u001b[0m\u001b[0m\n\u001b[1;32m     10\u001b[0m \u001b[0mprint\u001b[0m\u001b[0;34m(\u001b[0m\u001b[0;34mf'RESULT: {x}'\u001b[0m\u001b[0;34m,\u001b[0m \u001b[0mx\u001b[0m\u001b[0;34m==\u001b[0m\u001b[0;36m3\u001b[0m\u001b[0;34m)\u001b[0m\u001b[0;34m\u001b[0m\u001b[0;34m\u001b[0m\u001b[0m\n\u001b[0;32m---> 11\u001b[0;31m \u001b[0mx\u001b[0m \u001b[0;34m=\u001b[0m \u001b[0mshortest_distance_over_frequent_communication_paths\u001b[0m\u001b[0;34m(\u001b[0m\u001b[0mperson\u001b[0m\u001b[0;34m,\u001b[0m \u001b[0mreplyOf\u001b[0m\u001b[0;34m,\u001b[0m \u001b[0mknows\u001b[0m\u001b[0;34m,\u001b[0m \u001b[0mhasCreator\u001b[0m\u001b[0;34m,\u001b[0m \u001b[0;36m105\u001b[0m\u001b[0;34m,\u001b[0m \u001b[0;36m608\u001b[0m\u001b[0;34m,\u001b[0m \u001b[0;36m3\u001b[0m\u001b[0;34m)\u001b[0m\u001b[0;34m\u001b[0m\u001b[0;34m\u001b[0m\u001b[0m\n\u001b[0m\u001b[1;32m     12\u001b[0m \u001b[0mprint\u001b[0m\u001b[0;34m(\u001b[0m\u001b[0;34mf'RESULT: {x}'\u001b[0m\u001b[0;34m,\u001b[0m \u001b[0mx\u001b[0m\u001b[0;34m==\u001b[0m\u001b[0;34m-\u001b[0m\u001b[0;36m1\u001b[0m\u001b[0;34m)\u001b[0m\u001b[0;34m\u001b[0m\u001b[0;34m\u001b[0m\u001b[0m\n",
      "\u001b[0;32m<ipython-input-5-49a8bc002c00>\u001b[0m in \u001b[0;36mshortest_distance_over_frequent_communication_paths\u001b[0;34m(person, replyOf, knows, hasCreator, num_of_interactions, person1_id, person2_id)\u001b[0m\n\u001b[1;32m     20\u001b[0m \u001b[0;34m\u001b[0m\u001b[0m\n\u001b[1;32m     21\u001b[0m \u001b[0;34m\u001b[0m\u001b[0m\n\u001b[0;32m---> 22\u001b[0;31m     \u001b[0mresult\u001b[0m \u001b[0;34m=\u001b[0m \u001b[0mlevels\u001b[0m\u001b[0;34m[\u001b[0m\u001b[0mperson2_id_remapped\u001b[0m\u001b[0;34m]\u001b[0m \u001b[0;34m-\u001b[0m \u001b[0;36m1\u001b[0m \u001b[0;31m# Get hop count\u001b[0m\u001b[0;34m\u001b[0m\u001b[0;34m\u001b[0m\u001b[0m\n\u001b[0m\u001b[1;32m     23\u001b[0m \u001b[0;34m\u001b[0m\u001b[0m\n\u001b[1;32m     24\u001b[0m     \u001b[0;32mreturn\u001b[0m \u001b[0mresult\u001b[0m\u001b[0;34m\u001b[0m\u001b[0;34m\u001b[0m\u001b[0m\n",
      "\u001b[0;32m~/.local/lib/python3.6/site-packages/pygraphblas-3.2.0-py3.6-linux-x86_64.egg/pygraphblas/vector.py\u001b[0m in \u001b[0;36m__getitem__\u001b[0;34m(self, index)\u001b[0m\n\u001b[1;32m    607\u001b[0m     \u001b[0;32mdef\u001b[0m \u001b[0m__getitem__\u001b[0m\u001b[0;34m(\u001b[0m\u001b[0mself\u001b[0m\u001b[0;34m,\u001b[0m \u001b[0mindex\u001b[0m\u001b[0;34m)\u001b[0m\u001b[0;34m:\u001b[0m\u001b[0;34m\u001b[0m\u001b[0;34m\u001b[0m\u001b[0m\n\u001b[1;32m    608\u001b[0m         \u001b[0;32mif\u001b[0m \u001b[0misinstance\u001b[0m\u001b[0;34m(\u001b[0m\u001b[0mindex\u001b[0m\u001b[0;34m,\u001b[0m \u001b[0mint\u001b[0m\u001b[0;34m)\u001b[0m\u001b[0;34m:\u001b[0m\u001b[0;34m\u001b[0m\u001b[0;34m\u001b[0m\u001b[0m\n\u001b[0;32m--> 609\u001b[0;31m             \u001b[0;32mreturn\u001b[0m \u001b[0mself\u001b[0m\u001b[0;34m.\u001b[0m\u001b[0mextract_element\u001b[0m\u001b[0;34m(\u001b[0m\u001b[0mindex\u001b[0m\u001b[0;34m)\u001b[0m\u001b[0;34m\u001b[0m\u001b[0;34m\u001b[0m\u001b[0m\n\u001b[0m\u001b[1;32m    610\u001b[0m         \u001b[0;32melse\u001b[0m\u001b[0;34m:\u001b[0m\u001b[0;34m\u001b[0m\u001b[0;34m\u001b[0m\u001b[0m\n\u001b[1;32m    611\u001b[0m             \u001b[0;32mreturn\u001b[0m \u001b[0mself\u001b[0m\u001b[0;34m.\u001b[0m\u001b[0mextract\u001b[0m\u001b[0;34m(\u001b[0m\u001b[0mindex\u001b[0m\u001b[0;34m)\u001b[0m\u001b[0;34m\u001b[0m\u001b[0;34m\u001b[0m\u001b[0m\n",
      "\u001b[0;32m~/.local/lib/python3.6/site-packages/pygraphblas-3.2.0-py3.6-linux-x86_64.egg/pygraphblas/vector.py\u001b[0m in \u001b[0;36mextract_element\u001b[0;34m(self, index)\u001b[0m\n\u001b[1;32m    616\u001b[0m             \u001b[0mresult\u001b[0m\u001b[0;34m,\u001b[0m\u001b[0;34m\u001b[0m\u001b[0;34m\u001b[0m\u001b[0m\n\u001b[1;32m    617\u001b[0m             \u001b[0mself\u001b[0m\u001b[0;34m.\u001b[0m\u001b[0mvector\u001b[0m\u001b[0;34m[\u001b[0m\u001b[0;36m0\u001b[0m\u001b[0;34m]\u001b[0m\u001b[0;34m,\u001b[0m\u001b[0;34m\u001b[0m\u001b[0;34m\u001b[0m\u001b[0m\n\u001b[0;32m--> 618\u001b[0;31m             ffi.cast('GrB_Index', index)))\n\u001b[0m\u001b[1;32m    619\u001b[0m         \u001b[0;32mreturn\u001b[0m \u001b[0mself\u001b[0m\u001b[0;34m.\u001b[0m\u001b[0mtype\u001b[0m\u001b[0;34m.\u001b[0m\u001b[0mto_value\u001b[0m\u001b[0;34m(\u001b[0m\u001b[0mresult\u001b[0m\u001b[0;34m[\u001b[0m\u001b[0;36m0\u001b[0m\u001b[0;34m]\u001b[0m\u001b[0;34m)\u001b[0m\u001b[0;34m\u001b[0m\u001b[0;34m\u001b[0m\u001b[0m\n\u001b[1;32m    620\u001b[0m \u001b[0;34m\u001b[0m\u001b[0m\n",
      "\u001b[0;32m~/.local/lib/python3.6/site-packages/pygraphblas-3.2.0-py3.6-linux-x86_64.egg/pygraphblas/base.py\u001b[0m in \u001b[0;36m_check\u001b[0;34m(res)\u001b[0m\n\u001b[1;32m    116\u001b[0m \u001b[0;32mdef\u001b[0m \u001b[0m_check\u001b[0m\u001b[0;34m(\u001b[0m\u001b[0mres\u001b[0m\u001b[0;34m)\u001b[0m\u001b[0;34m:\u001b[0m\u001b[0;34m\u001b[0m\u001b[0;34m\u001b[0m\u001b[0m\n\u001b[1;32m    117\u001b[0m     \u001b[0;32mif\u001b[0m \u001b[0mres\u001b[0m \u001b[0;34m!=\u001b[0m \u001b[0mlib\u001b[0m\u001b[0;34m.\u001b[0m\u001b[0mGrB_SUCCESS\u001b[0m\u001b[0;34m:\u001b[0m\u001b[0;34m\u001b[0m\u001b[0;34m\u001b[0m\u001b[0m\n\u001b[0;32m--> 118\u001b[0;31m         \u001b[0;32mraise\u001b[0m \u001b[0m_error_codes\u001b[0m\u001b[0;34m[\u001b[0m\u001b[0mres\u001b[0m\u001b[0;34m]\u001b[0m\u001b[0;34m(\u001b[0m\u001b[0mffi\u001b[0m\u001b[0;34m.\u001b[0m\u001b[0mstring\u001b[0m\u001b[0;34m(\u001b[0m\u001b[0mlib\u001b[0m\u001b[0;34m.\u001b[0m\u001b[0mGrB_error\u001b[0m\u001b[0;34m(\u001b[0m\u001b[0;34m)\u001b[0m\u001b[0;34m)\u001b[0m\u001b[0;34m)\u001b[0m\u001b[0;34m\u001b[0m\u001b[0;34m\u001b[0m\u001b[0m\n\u001b[0m\u001b[1;32m    119\u001b[0m \u001b[0;34m\u001b[0m\u001b[0m\n\u001b[1;32m    120\u001b[0m \u001b[0;32mdef\u001b[0m \u001b[0m_check_no_val_key_error\u001b[0m\u001b[0;34m(\u001b[0m\u001b[0mres\u001b[0m\u001b[0;34m)\u001b[0m\u001b[0;34m:\u001b[0m\u001b[0;34m\u001b[0m\u001b[0;34m\u001b[0m\u001b[0m\n",
      "\u001b[0;31mNoValue\u001b[0m: b''"
     ]
    }
   ],
   "source": [
    "x = shortest_distance_over_frequent_communication_paths(person, replyOf, knows, hasCreator, 1, 786, 799)\n",
    "print(f'RESULT: {x}', x==4)\n",
    "x = shortest_distance_over_frequent_communication_paths(person, replyOf, knows, hasCreator, 1, 422, 736)\n",
    "print(f'RESULT: {x}', x==-1)\n",
    "x = shortest_distance_over_frequent_communication_paths(person, replyOf, knows, hasCreator, 1, 858, 587)\n",
    "print(f'RESULT: {x}', x==4)\n",
    "x = shortest_distance_over_frequent_communication_paths(person, replyOf, knows, hasCreator, -1, 266, 106)\n",
    "print(f'RESULT: {x}', x==3)\n",
    "x = shortest_distance_over_frequent_communication_paths(person, replyOf, knows, hasCreator, 0, 58, 402)\n",
    "print(f'RESULT: {x}', x==3)\n",
    "x = shortest_distance_over_frequent_communication_paths(person, replyOf, knows, hasCreator, 105, 608, 3) \n",
    "print(f'RESULT: {x}', x==-1)"
   ]
  },
  {
   "cell_type": "code",
   "execution_count": 45,
   "metadata": {},
   "outputs": [
    {
     "output_type": "stream",
     "name": "stdout",
     "text": "RESULT: 4 True\nRESULT: -1 True\nRESULT: 4 True\nRESULT: 3 True\nRESULT: 3 True\nRESULT: -1 True\n"
    }
   ],
   "source": [
    "# Optimized version: do not create overlay graph but investigate investigate KNOWS edges on-the-fly.\n",
    "def step_frontier(frontier, seen, num_of_interactions, numpersons, hasCreator, replyOf, knows):\n",
    "    frontierPersonIndices = frontier.to_lists()[0]\n",
    "    \n",
    "    if num_of_interactions >= 0:\n",
    "        sel = Matrix.from_lists(frontierPersonIndices, frontierPersonIndices, [1]*len(frontierPersonIndices), numpersons, numpersons)\n",
    "        K1 = sel.mxm(hasCreator.transpose()).mxm(replyOf            ).mxm(hasCreator, mask=knows).select(lib.GxB_GT_THUNK, num_of_interactions)\n",
    "        K2 = sel.mxm(hasCreator.transpose()).mxm(replyOf.transpose()).mxm(hasCreator, mask=knows).select(lib.GxB_GT_THUNK, num_of_interactions)\n",
    "        K = K1*K2\n",
    "    else:\n",
    "        K = knows\n",
    "\n",
    "    push = False\n",
    "    if (push):\n",
    "        next = frontier.vxm(K, mask=seen, desc=descriptor.ooco)\n",
    "    else:\n",
    "        # K is not symmetric --> we need to transpose it\n",
    "        next = K.transpose().mxv(frontier, mask=seen, desc=descriptor.ooco)\n",
    "\n",
    "    return (next, seen)\n",
    "\n",
    "def shortest_distance_over_frequent_communication_paths_opt(person, replyOf, knows, hasCreator, num_of_interactions, person1_id, person2_id):\n",
    "    person1_id_remapped = person.index2id[person1_id]\n",
    "    person2_id_remapped = person.index2id[person2_id] \n",
    "\n",
    "    numpersons = len(person.id2index)\n",
    "    frontier1 = Vector.from_lists([person1_id_remapped], [True], numpersons)\n",
    "    frontier2 = Vector.from_lists([person2_id_remapped], [True], numpersons)\n",
    "    seen1 = frontier1\n",
    "    seen2 = frontier2\n",
    "\n",
    "    for level in range(1, numpersons//2):\n",
    "        #print(\"===== \" + str(level) + \" =====\")\n",
    "        #print(\"frontier persons: \" + str(frontierPersonIndices))\n",
    "\n",
    "        # frontier 1\n",
    "        next1, seen1 = step_frontier(frontier1, seen1, num_of_interactions, numpersons, hasCreator, replyOf, knows)\n",
    "\n",
    "        # has frontier1 intersected frontier2's previous state?\n",
    "        intersection1 = next1 * seen2\n",
    "        if intersection1.nvals > 0:\n",
    "            return level*2-1\n",
    "        # emptied the component of person1\n",
    "        if next1.nvals == 0:\n",
    "            return -1\n",
    "\n",
    "        # frontier 2\n",
    "        next2, seen2 = step_frontier(frontier2, seen2, num_of_interactions, numpersons, hasCreator, replyOf, knows)\n",
    "\n",
    "        # do frontier1 and frontier2's current states intersect?\n",
    "        intersection2 = next1 * next2\n",
    "        if intersection2.nvals > 0:\n",
    "            return level*2\n",
    "        # emptied the component of person2\n",
    "        if next2.nvals == 0:\n",
    "            return -1\n",
    "\n",
    "        # step the frontiers\n",
    "        seen1 = seen1 + next1\n",
    "        frontier1 = next1\n",
    "\n",
    "        seen2 = seen2 + next2\n",
    "        frontier2 = next2\n",
    "\n",
    "x = shortest_distance_over_frequent_communication_paths_opt(person, replyOf, knows, hasCreator, 1, 786, 799)\n",
    "print(f'RESULT: {x}', x==4)\n",
    "x = shortest_distance_over_frequent_communication_paths_opt(person, replyOf, knows, hasCreator, 1, 422, 736)\n",
    "print(f'RESULT: {x}', x==-1)\n",
    "x = shortest_distance_over_frequent_communication_paths_opt(person, replyOf, knows, hasCreator, 1, 858, 587)\n",
    "print(f'RESULT: {x}', x==4)\n",
    "x = shortest_distance_over_frequent_communication_paths_opt(person, replyOf, knows, hasCreator, -1, 266, 106)\n",
    "print(f'RESULT: {x}', x==3)\n",
    "x = shortest_distance_over_frequent_communication_paths_opt(person, replyOf, knows, hasCreator, 0, 58, 402)\n",
    "print(f'RESULT: {x}', x==3)\n",
    "x = shortest_distance_over_frequent_communication_paths_opt(person, replyOf, knows, hasCreator, 105, 608, 3) \n",
    "print(f'RESULT: {x}', x==-1)\n"
   ]
  }
 ],
 "metadata": {
  "kernelspec": {
   "display_name": "Python 3.6.9 64-bit",
   "language": "python",
   "name": "python36964bit3c358246a09a45ad8043a732d4efdd52"
  },
  "language_info": {
   "codemirror_mode": {
    "name": "ipython",
    "version": 3
   },
   "file_extension": ".py",
   "mimetype": "text/x-python",
   "name": "python",
   "nbconvert_exporter": "python",
   "pygments_lexer": "ipython3",
   "version": "3.6.9-final"
  }
 },
 "nbformat": 4,
 "nbformat_minor": 4
}