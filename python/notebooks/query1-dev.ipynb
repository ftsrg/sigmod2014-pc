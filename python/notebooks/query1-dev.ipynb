{
 "cells": [
  {
   "cell_type": "code",
   "execution_count": 2,
   "metadata": {},
   "outputs": [],
   "source": [
    "from pygraphblas import *\n",
    "#from _pygraphblas import lib\n",
    "import pygraphblas.descriptor\n",
    "import csv\n",
    "import sys\n",
    "import logging\n",
    "import glob\n",
    "import operator\n",
    "import sys\n",
    "sys.path.append(\"..\")\n",
    "from loader.data_loader import DataLoader\n",
    "from algorithms.search import naive_bfs_levels\n",
    "\n"
   ]
  },
  {
   "cell_type": "code",
   "execution_count": 3,
   "metadata": {},
   "outputs": [],
   "source": [
    "# Setup logger\n",
    "handler = logging.StreamHandler()\n",
    "handler.setFormatter(logging.Formatter('%(asctime)s %(levelname)-5s %(message)s'))\n",
    "log = logging.getLogger(__name__)\n",
    "log.propagate = False\n",
    "log.addHandler(handler)\n",
    "log.setLevel(logging.INFO)"
   ]
  },
  {
   "cell_type": "markdown",
   "metadata": {},
   "source": [
    "### Load data"
   ]
  },
  {
   "cell_type": "code",
   "execution_count": 4,
   "metadata": {},
   "outputs": [
    {
     "output_type": "stream",
     "name": "stderr",
     "text": "2020-06-08 00:09:50,076 INFO  Loading ../../csvs/o1k/person.csv with headers: ['id:ID(Person)', 'firstName:STRING', 'lastName:STRING', 'gender:STRING', 'birthday:DATE', 'creationDate:DATETIME', 'locationIP:STRING', 'browserUsed:STRING']\n2020-06-08 00:09:50,089 INFO  Loading ../../csvs/o1k/comment.csv with headers: ['id:ID(Comment)', 'creationDate:DATETIME', 'locationIP:STRING', 'browserUsed:STRING', 'content:STRING']\n2020-06-08 00:09:53,121 INFO  Loading ../../csvs/o1k/comment_replyOf_comment.csv with headers: [':START_ID(Comment)', ':END_ID(Comment)']\n2020-06-08 00:09:54,779 INFO  Loading ../../csvs/o1k/person_knows_person.csv with headers: [':START_ID(Person)', ':END_ID(Person)']\n2020-06-08 00:09:54,912 INFO  Loading ../../csvs/o1k/comment_hasCreator_person.csv with headers: [':START_ID(Comment)', ':END_ID(Person)']\n"
    }
   ],
   "source": [
    "data_dir = '../../csvs/o1k/'\n",
    "data_format = 'csv'\n",
    "loader = DataLoader(data_dir, data_format)\n",
    "\n",
    "#vertices, mappings, matrices = loader.load_all_csvs()\n",
    "\n",
    "person = loader.load_vertex('person')\n",
    "comment = loader.load_vertex('comment')\n",
    "\n",
    "replyOf = loader.load_edge('replyOf', comment, comment)\n",
    "knows = loader.load_edge('knows', person, person)\n",
    "hasCreator = loader.load_edge('hasCreator', comment, person)\n",
    "\n"
   ]
  },
  {
   "cell_type": "markdown",
   "metadata": {},
   "source": [
    "### Queries"
   ]
  },
  {
   "cell_type": "code",
   "execution_count": 5,
   "metadata": {},
   "outputs": [],
   "source": [
    "# Query 1\n",
    "def shortest_distance_over_frequent_communication_paths(person, replyOf, knows, hasCreator, num_of_interactions, person1_id, person2_id):\n",
    "\n",
    "    person1_id_remapped = person.index2id[person1_id]\n",
    "    person2_id_remapped = person.index2id[person2_id] \n",
    "\n",
    "    hasCreatorTransposed = hasCreator.transpose()\n",
    "\n",
    "    personA_to_comment2 = hasCreatorTransposed @ replyOf\n",
    "    \n",
    "    person_to_person = personA_to_comment2.mxm(hasCreator, mask=knows)\n",
    "    \n",
    "    person_to_person_filtered = person_to_person.select(lib.GxB_GT_THUNK, num_of_interactions)\n",
    "    \n",
    "    overlay_graph = person_to_person_filtered.pattern()\n",
    "    if num_of_interactions == -1:\n",
    "        overlay_graph = knows\n",
    "        \n",
    "    levels = naive_bfs_levels(overlay_graph, person1_id_remapped)\n",
    "    \n",
    "    \n",
    "    result = levels[person2_id_remapped] - 1 # Get hop count\n",
    "    \n",
    "    return result\n",
    "    "
   ]
  },
  {
   "cell_type": "code",
   "execution_count": 6,
   "metadata": {},
   "outputs": [
    {
     "output_type": "stream",
     "name": "stdout",
     "text": "RESULT: 3\n"
    }
   ],
   "source": [
    "x = shortest_distance_over_frequent_communication_paths(person, replyOf, knows, hasCreator, 0 , 58, 402)\n",
    "print(f'RESULT: {x}')"
   ]
  },
  {
   "cell_type": "code",
   "execution_count": 16,
   "metadata": {},
   "outputs": [
    {
     "output_type": "stream",
     "name": "stdout",
     "text": "RESULT: 4 True\nRESULT: 3 True\nRESULT: 3 True\nRESULT: -1 True\n"
    }
   ],
   "source": [
    "# Optimized version: do not create overlay graph but investigate investigate KNOWS edges on-the-fly.\n",
    "def shortest_distance_over_frequent_communication_paths_opt(person, replyOf, knows, hasCreator, num_of_interactions, person1_id, person2_id):\n",
    "    person1_id_remapped = person.index2id[person1_id]\n",
    "    person2_id_remapped = person.index2id[person2_id] \n",
    "\n",
    "    numpersons = len(person.id2index)\n",
    "    frontier = Vector.from_lists([person1_id_remapped], [True], numpersons)\n",
    "    visited = frontier\n",
    "\n",
    "    for level in range(1, numpersons):\n",
    "        #print(\"===== \" + str(level) + \" =====\")\n",
    "        #print(\"frontier persons: \" + str(frontierPersonIndices))\n",
    "\n",
    "        frontierPersonIndices = frontier.to_lists()[0]\n",
    "        if num_of_interactions >= 0:\n",
    "            sel = Matrix.from_lists(frontierPersonIndices, frontierPersonIndices, [1]*len(frontierPersonIndices), numpersons, numpersons)\n",
    "            #sel.mxm(hasCreator, desc=descriptor.tooo) # does not work due to DimensionMismatch\n",
    "            K1 = sel.mxm(hasCreator.transpose()).mxm(replyOf            ).mxm(hasCreator, mask=knows).select(lib.GxB_GT_THUNK, num_of_interactions)\n",
    "            K2 = sel.mxm(hasCreator.transpose()).mxm(replyOf.transpose()).mxm(hasCreator, mask=knows).select(lib.GxB_GT_THUNK, num_of_interactions)\n",
    "            K = K1*K2\n",
    "        else:\n",
    "            K = knows\n",
    "\n",
    "        next = frontier.vxm(K, mask=visited, desc=descriptor.ooco)\n",
    "\n",
    "        if person2_id_remapped in next.to_lists()[0]:\n",
    "            return level\n",
    "        if next.nvals == 0:\n",
    "            return -1\n",
    "\n",
    "        visited = visited + next\n",
    "        frontier = next\n",
    "\n",
    "x = shortest_distance_over_frequent_communication_paths_opt(person, replyOf, knows, hasCreator, 1, 858, 587)\n",
    "print(f'RESULT: {x}', x==4)\n",
    "x = shortest_distance_over_frequent_communication_paths_opt(person, replyOf, knows, hasCreator, -1, 266, 106)\n",
    "print(f'RESULT: {x}', x==3)\n",
    "x = shortest_distance_over_frequent_communication_paths_opt(person, replyOf, knows, hasCreator, 0, 58, 402)\n",
    "print(f'RESULT: {x}', x==3)\n",
    "x = shortest_distance_over_frequent_communication_paths_opt(person, replyOf, knows, hasCreator, 105, 608, 3) \n",
    "print(f'RESULT: {x}', x==-1)\n"
   ]
  }
 ],
 "metadata": {
  "kernelspec": {
   "display_name": "Python 3",
   "language": "python",
   "name": "python3"
  },
  "language_info": {
   "codemirror_mode": {
    "name": "ipython",
    "version": 3
   },
   "file_extension": ".py",
   "mimetype": "text/x-python",
   "name": "python",
   "nbconvert_exporter": "python",
   "pygments_lexer": "ipython3",
   "version": "3.6.9-final"
  }
 },
 "nbformat": 4,
 "nbformat_minor": 4
}