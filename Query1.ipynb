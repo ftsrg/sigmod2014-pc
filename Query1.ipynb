{
 "cells": [
  {
   "cell_type": "code",
   "execution_count": null,
   "metadata": {},
   "outputs": [],
   "source": [
    "from pygraphblas import *\n",
    "from _pygraphblas import lib\n",
    "import pygraphblas.descriptor\n",
    "import csv\n",
    "import sys\n",
    "import logging\n",
    "import glob\n",
    "import operator\n",
    "from data_loader import DataLoader\n",
    "\n"
   ]
  },
  {
   "cell_type": "code",
   "execution_count": null,
   "metadata": {},
   "outputs": [],
   "source": [
    "# Setup logger\n",
    "handler = logging.StreamHandler()\n",
    "handler.setFormatter(logging.Formatter('%(asctime)s %(levelname)-5s %(message)s'))\n",
    "log = logging.getLogger(__name__)\n",
    "log.propagate = False\n",
    "log.addHandler(handler)\n",
    "log.setLevel(logging.INFO)"
   ]
  },
  {
   "cell_type": "markdown",
   "metadata": {},
   "source": [
    "### Load data"
   ]
  },
  {
   "cell_type": "code",
   "execution_count": null,
   "metadata": {},
   "outputs": [],
   "source": [
    "data_dir = 'sf1k-converted/'\n",
    "loader = DataLoader(data_dir)\n",
    "\n",
    "vertices, mappings, matrices = loader.load_all_csvs()"
   ]
  },
  {
   "cell_type": "markdown",
   "metadata": {},
   "source": [
    "### Queries"
   ]
  },
  {
   "cell_type": "code",
   "execution_count": null,
   "metadata": {},
   "outputs": [],
   "source": [
    "def pattern_vec(vec):\n",
    "    res=Vector.from_type(BOOL, vec.size)\n",
    "    vec.apply(BOOL.ONE, out=res)\n",
    "    return res\n",
    "    \n",
    "\n",
    "# This is not needed for Q1, but keeping it in case we'd need it\n",
    "def naive_bfs_levels(matrix, source):\n",
    "    '''\n",
    "    Input:\n",
    "        matrix: adjacency matrix describing the graph\n",
    "        source: source node index\n",
    "    Returns:\n",
    "        result_vector: vector of hops to all other nodes\n",
    "    '''\n",
    "    \n",
    "    result_vector = Vector.from_type(UINT64, matrix.nrows)  \n",
    "    known_nodes_vector = Vector.from_type(BOOL, matrix.nrows)\n",
    "    \n",
    "    known_nodes_vector[source] = True\n",
    "    not_done = True\n",
    "    level = 1\n",
    "    \n",
    "    while not_done and level <= matrix.nrows:\n",
    "        result_vector[:,known_nodes_vector] = level\n",
    "        known_nodes_vector = result_vector.vxm(matrix, mask=result_vector, \n",
    "                  desc=descriptor.ooco)\n",
    "        not_done = known_nodes_vector.reduce_bool()\n",
    "        level += 1\n",
    "    return result_vector\n",
    "\n",
    "def naive_bfs_parents(matrix, source):\n",
    "    '''\n",
    "    Input:\n",
    "        matrix: adjacency matrix describing the graph\n",
    "        source: source node index\n",
    "    Returns:\n",
    "        parent_vertices_vector: parent vertices vector\n",
    "    '''\n",
    "    wavefront_vector = Vector.from_type(INT64, matrix.nrows)\n",
    "    unvisited_vertices_vector = Vector.from_type(BOOL, matrix.nrows)\n",
    "    vertex_index_vector = Vector.from_list([x for x in range(matrix.nrows)])\n",
    "    parent_vertices_vector = Vector.from_type(INT64, matrix.nrows)\n",
    "    wavefront_vector[source] = source\n",
    "    level = 1\n",
    "    not_done = True\n",
    "    \n",
    "    while not_done and level <= matrix.nrows:\n",
    "        parent_vertices_vector_boolean = pattern_vec(parent_vertices_vector)\n",
    "        with semiring.MIN_FIRST:\n",
    "            parent_vertices_vector = wavefront_vector.vxm(matrix, mask=parent_vertices_vector_boolean, desc=descriptor.ooco)\n",
    "        # PROBLEM HERE\n",
    "        wavefront_vector = parent_vertices_vector_boolean.emult(vertex_index_vector, mask=parent_vertices_vector_boolean, desc=descriptor.ooco)\n",
    "\n",
    "        level += 1\n",
    "        not_done = wavefront_vector.reduce_bool()\n",
    "    return parent_vertices_vector\n"
   ]
  },
  {
   "cell_type": "code",
   "execution_count": null,
   "metadata": {},
   "outputs": [],
   "source": [
    "# Query 1\n",
    "def shortest_distance_over_frequent_communication_paths(matrices, num_of_interactions, person1_id, person2_id, vertices):\n",
    "    hasCreatorTransposed = matrices['hasCreator'].transpose()\n",
    "    \n",
    "    \n",
    "    personA_to_comment2 = hasCreatorTransposed @ matrices['replyOf']\n",
    "    person_to_person = personA_to_comment2.mxm(matrices['hasCreator'], mask=matrices['knows'])\n",
    "    person_to_person_mutual = person_to_person + person_to_person.transpose()\n",
    "    person_to_person_mutual_filtered = person_to_person_mutual.select('<', num_of_interactions)    \n",
    "    person_to_person_mutual_filtered = person_to_person_mutual_filtered.pattern()\n",
    "    \n",
    "    \n",
    "    parents_vec = naive_bfs_parents(person_to_person_mutual_filtered, person1_id)\n",
    "    shortest_path = []\n",
    "    parent = person2_id\n",
    "    shortest_path.append(parent)\n",
    "    while parent != person1_id:\n",
    "        parent = parents_vec[parent]\n",
    "        shortest_path.append(parent)\n",
    "    \n",
    "    original_ids_shortest_path = [vertices[x] for x in shortest_path]\n",
    "    return original_ids_shortest_path\n",
    "    "
   ]
  },
  {
   "cell_type": "code",
   "execution_count": null,
   "metadata": {},
   "outputs": [],
   "source": [
    "p1_id = 4\n",
    "p2_id = 5\n",
    "num_of_interactions = 5\n",
    "shortest_distance_over_frequent_communication_paths(matrices, num_of_interactions, p1_id, p2_id, vertices)"
   ]
  },
  {
   "cell_type": "code",
   "execution_count": null,
   "metadata": {},
   "outputs": [],
   "source": [
    "#Testing around vec.emult()\n",
    "a = Vector.from_type(UINT64, 3)\n",
    "b = Vector.from_type(UINT64, 3)\n",
    "c = Vector.from_type(UINT64, 3)\n",
    "d = Vector.from_type(BOOL, 3)\n",
    "a[0] = 2\n",
    "a[1] = 2\n",
    "b[0] = 3\n",
    "b[1] = 6\n",
    "c[1] = 12\n",
    "d[1] = True\n",
    "\n",
    "#x = a.emult(b, mask=d, desc=descriptor.ooco)\n",
    "#x = a.emult(b, mask=c)\n",
    "#x = a.emult(d, mask=a)\n",
    "print(x.to_string())"
   ]
  },
  {
   "cell_type": "code",
   "execution_count": null,
   "metadata": {},
   "outputs": [],
   "source": []
  },
  {
   "cell_type": "code",
   "execution_count": null,
   "metadata": {},
   "outputs": [],
   "source": []
  }
 ],
 "metadata": {
  "kernelspec": {
   "display_name": "Python 3",
   "language": "python",
   "name": "python3"
  },
  "language_info": {
   "codemirror_mode": {
    "name": "ipython",
    "version": 3
   },
   "file_extension": ".py",
   "mimetype": "text/x-python",
   "name": "python",
   "nbconvert_exporter": "python",
   "pygments_lexer": "ipython3",
   "version": "3.7.4"
  }
 },
 "nbformat": 4,
 "nbformat_minor": 4
}
