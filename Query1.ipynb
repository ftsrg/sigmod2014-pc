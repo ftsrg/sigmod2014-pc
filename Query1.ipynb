{
 "cells": [
  {
   "cell_type": "code",
   "execution_count": null,
   "metadata": {},
   "outputs": [],
   "source": [
    "from pygraphblas import *\n",
    "from _pygraphblas import lib\n",
    "import pygraphblas.descriptor\n",
    "import csv\n",
    "import sys\n",
    "import logging\n",
    "import glob\n",
    "import operator\n",
    "from data_loader import DataLoader\n",
    "\n"
   ]
  },
  {
   "cell_type": "code",
   "execution_count": null,
   "metadata": {},
   "outputs": [],
   "source": [
    "# Setup logger\n",
    "handler = logging.StreamHandler()\n",
    "handler.setFormatter(logging.Formatter('%(asctime)s %(levelname)-5s %(message)s'))\n",
    "log = logging.getLogger(__name__)\n",
    "log.propagate = False\n",
    "log.addHandler(handler)\n",
    "log.setLevel(logging.INFO)"
   ]
  },
  {
   "cell_type": "markdown",
   "metadata": {},
   "source": [
    "### Load data"
   ]
  },
  {
   "cell_type": "code",
   "execution_count": null,
   "metadata": {},
   "outputs": [],
   "source": [
    "data_dir = 'sf1k-converted/'\n",
    "loader = DataLoader(data_dir)\n",
    "\n",
    "vertices, mappings, matrices = loader.load_all_csvs()"
   ]
  },
  {
   "cell_type": "markdown",
   "metadata": {},
   "source": [
    "### Queries"
   ]
  },
  {
   "cell_type": "code",
   "execution_count": null,
   "metadata": {},
   "outputs": [],
   "source": [
    "def pattern_vec(vec):\n",
    "    res=Vector.from_type(BOOL, vec.size)\n",
    "    vec.apply(BOOL.ONE, out=res)\n",
    "    return res\n",
    "    \n",
    "\n",
    "def naive_bfs_levels(matrix, source):\n",
    "    '''\n",
    "    Input:\n",
    "        matrix: adjacency matrix describing the graph\n",
    "        source: source node index\n",
    "    Returns:\n",
    "        result_vector: vector of hops to all other nodes\n",
    "    '''\n",
    "    \n",
    "    result_vector = Vector.from_type(UINT64, matrix.nrows)  \n",
    "    known_nodes_vector = Vector.from_type(BOOL, matrix.nrows)\n",
    "    \n",
    "    known_nodes_vector[source] = True\n",
    "    not_done = True\n",
    "    level = 1\n",
    "    \n",
    "    while not_done and level <= matrix.nrows:\n",
    "        result_vector[:,known_nodes_vector] = level\n",
    "        known_nodes_vector = result_vector.vxm(matrix, mask=result_vector, \n",
    "                  desc=descriptor.ooco)\n",
    "        not_done = known_nodes_vector.reduce_bool()\n",
    "        level += 1\n",
    "        print(result_vector)\n",
    "    return result_vector\n",
    "\n",
    "# This is not needed for Q1, but keeping it in case we'd need it\n",
    "def naive_bfs_parents(matrix, source):\n",
    "    '''\n",
    "    Input:\n",
    "        matrix: adjacency matrix describing the graph\n",
    "        source: source node index\n",
    "    Returns:\n",
    "        parent_vertices_vector: parent vertices vector\n",
    "    '''\n",
    "    wavefront_vector = Vector.from_type(INT64, matrix.nrows)\n",
    "    vertex_index_vector = Vector.from_list([x for x in range(matrix.nrows)])\n",
    "    parent_vertices_vector = Vector.from_type(INT64, matrix.nrows)\n",
    "    wavefront_vector[source] = source\n",
    "    level = 1\n",
    "    not_done = True\n",
    "    print(F'SOURCE: {source}')\n",
    "    while not_done and level <= matrix.nrows:\n",
    "        parent_vertices_vector_boolean_1 = pattern_vec(parent_vertices_vector) #p\n",
    "        with semiring.MIN_FIRST:\n",
    "            parent_vertices_vector = wavefront_vector.vxm(matrix, mask=parent_vertices_vector_boolean_1, desc=descriptor.ooco)\n",
    "        parent_vertices_vector_boolean_2 = pattern_vec(parent_vertices_vector) #p\n",
    "        wavefront_vector = vertex_index_vector.emult(parent_vertices_vector_boolean_2, mask=parent_vertices_vector_boolean_1.vector[0], desc=descriptor.ooco)\n",
    "        level += 1\n",
    "        log.info(level)\n",
    "        not_done = wavefront_vector.reduce_bool()\n",
    "    return parent_vertices_vector\n"
   ]
  },
  {
   "cell_type": "code",
   "execution_count": null,
   "metadata": {},
   "outputs": [],
   "source": [
    "# Query 1\n",
    "def shortest_distance_over_frequent_communication_paths(matrices, num_of_interactions, person1_id, person2_id):    \n",
    "    person1_id_remapped = mappings['person'][person1_id]\n",
    "    person2_id_remapped = mappings['person'][person2_id]\n",
    "\n",
    "    log.info(f'person1 ID {person1_id} remapped to {person1_id_remapped}')    \n",
    "    log.info(f'person2 ID {person2_id} remapped to {person2_id_remapped}')    \n",
    "\n",
    "    hasCreatorTransposed = matrices['hasCreator'].transpose()\n",
    "\n",
    "    personA_to_comment2 = hasCreatorTransposed @ matrices['replyOf']\n",
    "    \n",
    "    person_to_person = personA_to_comment2.mxm(matrices['hasCreator'], mask=matrices['knows'])\n",
    "    \n",
    "    #person_to_person_transposed = person_to_person.transpose()\n",
    "    #person_to_person_mutual = person_to_person + person_to_person_transposed\n",
    "    #print(f'Person to person mutual: {person_to_person_mutual}')\n",
    "    \n",
    "#     knows_zeros = matrices['knows'].apply(0, out=Matrix.from_type(BOOL, matrices['knows'].nrows, matrices['knows'].ncols))\n",
    "        \n",
    "#     person_to_person = person_to_person + knows_zeros\n",
    "#     print(f'Person to person: {person_to_person}')\n",
    "\n",
    "    person_to_person_filtered = person_to_person.select(lib.GxB_GT_THUNK, num_of_interactions)\n",
    "    print(f'Person to person filtered: {person_to_person_filtered}')\n",
    "    \n",
    "    overlay_graph = person_to_person_filtered.pattern()\n",
    "    if num_of_interactions == -1:\n",
    "        overlay_graph = matrices['knows']\n",
    "    print(f'Overlay graph is: {overlay_graph}')\n",
    "    levels = naive_bfs_levels(overlay_graph, person1_id_remapped)\n",
    "    \n",
    "    # Test SP based on neo \n",
    "    # Test query 5\n",
    "#     print(levels[mappings['person'][858]]) \n",
    "#     print(levels[mappings['person'][46]])\n",
    "#     print(levels[mappings['person'][31]])\n",
    "#     print(levels[mappings['person'][162]])\n",
    "#     print(levels[mappings['person'][587]])\n",
    "    \n",
    "    result = levels[person2_id_remapped] - 1 # Get hop count\n",
    "    \n",
    "    return result\n",
    "    "
   ]
  },
  {
   "cell_type": "code",
   "execution_count": null,
   "metadata": {},
   "outputs": [],
   "source": [
    "x = shortest_distance_over_frequent_communication_paths(matrices,0 , 58, 402)\n",
    "print(f'RESULT: {x}')"
   ]
  },
  {
   "cell_type": "code",
   "execution_count": null,
   "metadata": {},
   "outputs": [],
   "source": []
  }
 ],
 "metadata": {
  "kernelspec": {
   "display_name": "Python 3",
   "language": "python",
   "name": "python3"
  },
  "language_info": {
   "codemirror_mode": {
    "name": "ipython",
    "version": 3
   },
   "file_extension": ".py",
   "mimetype": "text/x-python",
   "name": "python",
   "nbconvert_exporter": "python",
   "pygments_lexer": "ipython3",
   "version": "3.7.3"
  }
 },
 "nbformat": 4,
 "nbformat_minor": 4
}
