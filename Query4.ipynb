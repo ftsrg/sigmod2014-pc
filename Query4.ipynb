{
 "nbformat": 4,
 "nbformat_minor": 2,
 "metadata": {
  "language_info": {
   "name": "python",
   "codemirror_mode": {
    "name": "ipython",
    "version": 3
   },
   "version": "3.6.9-final"
  },
  "orig_nbformat": 2,
  "file_extension": ".py",
  "mimetype": "text/x-python",
  "name": "python",
  "npconvert_exporter": "python",
  "pygments_lexer": "ipython3",
  "version": 3,
  "kernelspec": {
   "name": "python36964bitb78aee143b7a44bab81f8474bba7eeef",
   "display_name": "Python 3.6.9 64-bit"
  }
 },
 "cells": [
  {
   "cell_type": "code",
   "execution_count": null,
   "metadata": {},
   "outputs": [],
   "source": [
    "from pygraphblas import *\n",
    "from _pygraphblas import lib\n",
    "import pygraphblas.descriptor\n",
    "import csv\n",
    "import sys\n",
    "import logging\n",
    "import glob\n",
    "import operator\n",
    "from data_loader import DataLoader"
   ]
  },
  {
   "cell_type": "code",
   "execution_count": null,
   "metadata": {},
   "outputs": [],
   "source": [
    "# Setup logger\n",
    "handler = logging.StreamHandler()\n",
    "handler.setFormatter(logging.Formatter('%(asctime)s %(levelname)-5s %(message)s'))\n",
    "log = logging.getLogger(__name__)\n",
    "log.propagate = False\n",
    "log.addHandler(handler)\n",
    "log.setLevel(logging.INFO)"
   ]
  },
  {
   "cell_type": "code",
   "execution_count": null,
   "metadata": {},
   "outputs": [],
   "source": [
    "data_dir = 'sf1k-converted/'\n",
    "loader = DataLoader(data_dir)\n",
    "\n",
    "vertices, mappings, matrices = loader.load_all_csvs()"
   ]
  },
  {
   "cell_type": "code",
   "execution_count": 302,
   "metadata": {},
   "outputs": [],
   "source": [
    "def naive_bfs_levels(matrix, source):\n",
    "    '''\n",
    "    Input:\n",
    "        matrix: adjacency matrix describing the graph\n",
    "        source: source node index\n",
    "    Returns:\n",
    "        result_vector: vector of hops to all other nodes\n",
    "    '''\n",
    "    \n",
    "    result_vector = Vector.from_type(UINT64, matrix.nrows)  \n",
    "    known_nodes_vector = Vector.from_type(BOOL, matrix.nrows)\n",
    "    \n",
    "    known_nodes_vector[source] = True\n",
    "    not_done = True\n",
    "    level = 1\n",
    "    \n",
    "    while not_done and level <= matrix.nrows:\n",
    "        result_vector[:,known_nodes_vector] = level\n",
    "        known_nodes_vector = result_vector.vxm(matrix, mask=result_vector, \n",
    "                  desc=descriptor.ooco)\n",
    "        not_done = known_nodes_vector.reduce_bool()\n",
    "        level += 1\n",
    "    return result_vector"
   ]
  },
  {
   "cell_type": "code",
   "execution_count": 282,
   "metadata": {},
   "outputs": [],
   "source": [
    "def MemberFriends(t):\n",
    "    tagID = mappings['tag'][t]\n",
    "    tagVector = Vector.from_type(BOOL,matrices['hasTag'].ncols)\n",
    "    tagVector[tagID] = True\n",
    "    relevantForumsVector = tagVector.vxm(matrices['hasTag'].transpose())\n",
    "    relevantPeopleVector = relevantForumsVector.vxm(matrices['hasMember'])\n",
    "    resultMatrix = Matrix.from_type(BOOL,relevantPeopleVector.nvals,relevantPeopleVector.nvals) \n",
    "    matrices['knows'].extract_matrix(relevantPeopleVector.to_lists()[0],relevantPeopleVector.to_lists()[0],out=resultMatrix)\n",
    "    \n",
    "    n=0\n",
    "    idList=[]\n",
    "    for value in relevantPeopleVector:\n",
    "        idList+=[[n,value[0]]]\n",
    "        n += 1\n",
    "\n",
    "    return resultMatrix,idList"
   ]
  },
  {
   "cell_type": "code",
   "execution_count": 307,
   "metadata": {
    "tags": [
     "outputPrepend",
     "outputPrepend",
     "outputPrepend",
     "outputPrepend",
     "outputPrepend",
     "outputPrepend",
     "outputPrepend",
     "outputPrepend",
     "outputPrepend",
     "outputPrepend",
     "outputPrepend",
     "outputPrepend",
     "outputPrepend",
     "outputPrepend",
     "outputPrepend",
     "outputPrepend",
     "outputPrepend",
     "outputPrepend",
     "outputPrepend",
     "outputPrepend",
     "outputPrepend",
     "outputPrepend",
     "outputPrepend",
     "outputPrepend",
     "outputPrepend",
     "outputPrepend",
     "outputPrepend",
     "outputPrepend",
     "outputPrepend",
     "outputPrepend",
     "outputPrepend",
     "outputPrepend",
     "outputPrepend",
     "outputPrepend",
     "outputPrepend",
     "outputPrepend",
     "outputPrepend",
     "outputPrepend",
     "outputPrepend",
     "outputPrepend",
     "outputPrepend",
     "outputPrepend",
     "outputPrepend",
     "outputPrepend",
     "outputPrepend"
    ]
   },
   "outputs": [],
   "source": [
    "def query4(k,t):\n",
    "    matrix,idList = MemberFriends(t)\n",
    "    resultList = []\n",
    "    for value in idList:\n",
    "        bfsResultVector = naive_bfs_levels(matrix,value[0])\n",
    "        n = idsVector.nvals\n",
    "        r = bfsResultVector.nvals\n",
    "        s = 0\n",
    "        for entry in bfsResultVector:\n",
    "            s += entry[1]-1\n",
    "        score = ( (r-1)*(r-1) ) / ( (n-1) * s )\n",
    "        resultList += [[vertices['person'][value[1]],score]]\n",
    "\n",
    "    resultList.sort(key=operator.itemgetter(0))    \n",
    "    resultList.sort(key=operator.itemgetter(1), reverse=True)\n",
    "\n",
    "    for value in resultList[:k]:\n",
    "        print(value)"
   ]
  },
  {
   "cell_type": "code",
   "execution_count": 308,
   "metadata": {},
   "outputs": [
    {
     "output_type": "stream",
     "name": "stdout",
     "text": "[385, 0.5290135396518375]\n[492, 0.5259615384615385]\n[819, 0.5249520153550864]\n"
    }
   ],
   "source": [
    "#'Bill_Clinton'.id = 2779\n",
    "query4(3,2779)"
   ]
  }
 ]
}