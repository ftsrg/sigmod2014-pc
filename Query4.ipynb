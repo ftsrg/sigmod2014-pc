{
 "nbformat": 4,
 "nbformat_minor": 2,
 "metadata": {
  "language_info": {
   "name": "python",
   "codemirror_mode": {
    "name": "ipython",
    "version": 3
   },
   "version": "3.6.9-final"
  },
  "orig_nbformat": 2,
  "file_extension": ".py",
  "mimetype": "text/x-python",
  "name": "python",
  "npconvert_exporter": "python",
  "pygments_lexer": "ipython3",
  "version": 3,
  "kernelspec": {
   "name": "python36964bitb78aee143b7a44bab81f8474bba7eeef",
   "display_name": "Python 3.6.9 64-bit"
  }
 },
 "cells": [
  {
   "cell_type": "code",
   "execution_count": null,
   "metadata": {},
   "outputs": [],
   "source": [
    "from pygraphblas import *\n",
    "from _pygraphblas import lib\n",
    "import pygraphblas.descriptor\n",
    "import csv\n",
    "import sys\n",
    "import logging\n",
    "import glob\n",
    "import operator\n",
    "from data_loader import DataLoader"
   ]
  },
  {
   "cell_type": "code",
   "execution_count": null,
   "metadata": {},
   "outputs": [],
   "source": [
    "# Setup logger\n",
    "handler = logging.StreamHandler()\n",
    "handler.setFormatter(logging.Formatter('%(asctime)s %(levelname)-5s %(message)s'))\n",
    "log = logging.getLogger(__name__)\n",
    "log.propagate = False\n",
    "log.addHandler(handler)\n",
    "log.setLevel(logging.INFO)"
   ]
  },
  {
   "cell_type": "code",
   "execution_count": null,
   "metadata": {},
   "outputs": [],
   "source": [
    "data_dir = 'sf1k-converted/'\n",
    "loader = DataLoader(data_dir)\n",
    "\n",
    "vertices, mappings, matrices = loader.load_all_csvs()"
   ]
  },
  {
   "cell_type": "code",
   "execution_count": null,
   "metadata": {},
   "outputs": [],
   "source": [
    "def MemberFriends(t):\n",
    "    tagID = mappings['tag'][t]\n",
    "    tagVector = Vector.from_type(BOOL,matrices['hasTag'].ncols)\n",
    "    tagVector[tagID] = True\n",
    "    relevantForumsVector = tagVector.vxm(matrices['hasTag'].transpose())\n",
    "    relevantPeopleVector = relevantForumsVector.vxm(matrices['hasMember'])\n",
    "    \n",
    "    resultMatrixLists = []\n",
    "    for person in relevantPeopleVector:\n",
    "        personVector = Vector.from_type(BOOL,relevantPeopleVector.size)\n",
    "        personVector[person[0]] = True\n",
    "        personKnowsVector = personVector.vxm(matrices['knows'])\n",
    "        personKnowsVector *= relevantPeopleVector #only the relevant people are needed\n",
    "        resultMatrixLists += [[person[0],personKnowsVector.to_lists()[0]]]\n",
    "    \n",
    "    resultMatrix = Matrix.from_type(BOOL,relevantPeopleVector.size,relevantPeopleVector.size)\n",
    "    for entry in resultMatrixLists:\n",
    "        for value in entry[1]:\n",
    "            resultMatrix[entry[0],value] = True\n",
    "    return resultMatrix"
   ]
  },
  {
   "cell_type": "code",
   "execution_count": null,
   "metadata": {
    "tags": [
     "outputPrepend"
    ]
   },
   "outputs": [],
   "source": [
    "#'Charles_Dickens'.id = 7380\n",
    "m = MemberFriends(7380)"
   ]
  },
  {
   "cell_type": "code",
   "execution_count": null,
   "metadata": {},
   "outputs": [],
   "source": []
  }
 ]
}