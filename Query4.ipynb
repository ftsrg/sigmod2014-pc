{
 "cells": [
  {
   "cell_type": "code",
   "execution_count": null,
   "metadata": {
    "pycharm": {
     "is_executing": false
    }
   },
   "outputs": [],
   "source": [
    "from pygraphblas import *\n",
    "from _pygraphblas import lib\n",
    "import pygraphblas.descriptor\n",
    "import csv\n",
    "import sys\n",
    "import logging\n",
    "import glob\n",
    "import operator\n",
    "from data_loader import DataLoader\n",
    "from timeit import default_timer as timer"
   ]
  },
  {
   "cell_type": "code",
   "execution_count": null,
   "metadata": {
    "pycharm": {
     "is_executing": false
    }
   },
   "outputs": [],
   "source": [
    "# Setup logger\n",
    "handler = logging.StreamHandler()\n",
    "handler.setFormatter(logging.Formatter('%(asctime)s %(levelname)-5s %(message)s'))\n",
    "log = logging.getLogger(__name__)\n",
    "log.propagate = False\n",
    "log.addHandler(handler)\n",
    "log.setLevel(logging.INFO)"
   ]
  },
  {
   "cell_type": "code",
   "execution_count": null,
   "metadata": {
    "pycharm": {
     "is_executing": false
    }
   },
   "outputs": [],
   "source": [
    "data_dir = 'sf1k-converted/'\n",
    "loader = DataLoader(data_dir)\n",
    "\n",
    "vertices, mappings, matrices = loader.load_all_csvs()"
   ]
  },
  {
   "cell_type": "code",
   "execution_count": null,
   "metadata": {
    "pycharm": {
     "is_executing": false
    }
   },
   "outputs": [],
   "source": [
    "def MemberFriends(t):\n",
    "    tagID = mappings['tag'][t]\n",
    "    tagVector = Vector.from_type(BOOL,matrices['hasTag'].ncols)\n",
    "    tagVector[tagID] = True\n",
    "    relevantForumsVector = tagVector.vxm(matrices['hasTag'].transpose())\n",
    "    relevantPeopleVector = relevantForumsVector.vxm(matrices['hasMember'])\n",
    "    resultMatrix = Matrix.from_type(BOOL,relevantPeopleVector.nvals,relevantPeopleVector.nvals) \n",
    "    matrices['knows'].extract_matrix(relevantPeopleVector.to_lists()[0],relevantPeopleVector.to_lists()[0],out=resultMatrix)\n",
    "    \n",
    "    n=0\n",
    "    idList=[]\n",
    "    for value in relevantPeopleVector:\n",
    "        idList+=[[n,value[0]]]\n",
    "        n += 1\n",
    "\n",
    "    return resultMatrix,idList"
   ]
  },
  {
   "cell_type": "code",
   "execution_count": null,
   "metadata": {
    "pycharm": {
     "is_executing": false
    }
   },
   "outputs": [],
   "source": [
    "def naive_bfs_levels(matrix, source):\n",
    "    '''\n",
    "    Input:\n",
    "        matrix: adjacency matrix describing the graph\n",
    "        source: source node index\n",
    "    Returns:\n",
    "        result_vector: vector of hops to all other nodes\n",
    "    '''\n",
    "    \n",
    "    result_vector = Vector.from_type(UINT64, matrix.nrows)  \n",
    "    known_nodes_vector = Vector.from_type(BOOL, matrix.nrows)\n",
    "    \n",
    "    known_nodes_vector[source] = True\n",
    "    not_done = True\n",
    "    level = 1\n",
    "    \n",
    "    while not_done and level <= matrix.nrows:\n",
    "        result_vector[:,known_nodes_vector] = level\n",
    "        known_nodes_vector = result_vector.vxm(matrix, mask=result_vector, \n",
    "                  desc=descriptor.ooco)\n",
    "        not_done = known_nodes_vector.reduce_bool()\n",
    "        level += 1\n",
    "    return result_vector"
   ]
  },
  {
   "cell_type": "code",
   "execution_count": null,
   "metadata": {
    "tags": [
     "outputPrepend",
     "outputPrepend",
     "outputPrepend",
     "outputPrepend",
     "outputPrepend",
     "outputPrepend",
     "outputPrepend",
     "outputPrepend",
     "outputPrepend",
     "outputPrepend",
     "outputPrepend",
     "outputPrepend",
     "outputPrepend",
     "outputPrepend",
     "outputPrepend",
     "outputPrepend",
     "outputPrepend",
     "outputPrepend",
     "outputPrepend",
     "outputPrepend",
     "outputPrepend",
     "outputPrepend",
     "outputPrepend",
     "outputPrepend",
     "outputPrepend",
     "outputPrepend",
     "outputPrepend",
     "outputPrepend",
     "outputPrepend",
     "outputPrepend",
     "outputPrepend",
     "outputPrepend",
     "outputPrepend",
     "outputPrepend",
     "outputPrepend",
     "outputPrepend",
     "outputPrepend",
     "outputPrepend",
     "outputPrepend",
     "outputPrepend",
     "outputPrepend",
     "outputPrepend",
     "outputPrepend",
     "outputPrepend",
     "outputPrepend"
    ],
    "pycharm": {
     "is_executing": false
    }
   },
   "outputs": [],
   "source": [
    "def query4(k,t):\n",
    "    matrix,idList = MemberFriends(t)\n",
    "    resultList = []\n",
    "    for value in idList:\n",
    "        bfsResultVector = naive_bfs_levels(matrix,value[0])\n",
    "        n = len(idList)\n",
    "        r = bfsResultVector.nvals\n",
    "        s = 0\n",
    "        for entry in bfsResultVector:\n",
    "            s += entry[1]-1\n",
    "        score = ( (r-1)*(r-1) ) / ( (n-1) * s )\n",
    "        resultList += [[vertices['person'][value[1]],score]]\n",
    "\n",
    "    resultList.sort(key=operator.itemgetter(0))    \n",
    "    resultList.sort(key=operator.itemgetter(1), reverse=True)\n",
    "\n",
    "    for value in resultList[:k]:\n",
    "        print(value)"
   ]
  },
  {
   "cell_type": "code",
   "execution_count": null,
   "outputs": [],
   "source": [
    "def load_extra_columns(filename, column_names):\n",
    "    with open(data_dir + filename, newline='') as csv_file:\n",
    "        reader = csv.DictReader(csv_file, delimiter='|', quotechar='\"')\n",
    "        \n",
    "        print(reader.fieldnames)\n",
    "        \n",
    "        full_column_names = []\n",
    "        for columnName in column_names:\n",
    "            # find full column name with type info after ':'\n",
    "            full_column_name, = [fullName for fullName in reader.fieldnames\n",
    "                               if fullName.split(':')[0]==columnName]\n",
    "            full_column_names.append(full_column_name)\n",
    "        \n",
    "        if len(full_column_names) == 1:\n",
    "            full_column_name = full_column_names[0]\n",
    "            result = [row[full_column_name] for row in reader]\n",
    "        else:\n",
    "            result = [[row[fullColumnName] for fullColumnName in full_column_names] for row in reader]\n",
    "        \n",
    "        return result\n",
    "        \n",
    "tagNames = load_extra_columns('tag.csv', ['name'])"
   ],
   "metadata": {
    "collapsed": false,
    "pycharm": {
     "name": "#%%\n"
    }
   }
  },
  {
   "cell_type": "code",
   "execution_count": null,
   "metadata": {
    "pycharm": {
     "is_executing": false
    }
   },
   "outputs": [],
   "source": [
    "start = timer()\n",
    "\n",
    "#'Bill_Clinton'.id = 2779\n",
    "\n",
    "# TODO: harmonize query input format, use tag.name instead of id\n",
    "tagIndex = tagNames.index('Bill_Clinton')\n",
    "tagId = vertices['tag'][tagIndex]\n",
    "\n",
    "query4(3,tagId)\n",
    "end = timer()\n",
    "print(end - start)\n",
    "# Expected result:\n",
    "# 385 492 819 % centrality values 0.5290135396518375 0.5259615384615384 0.5249520153550864"
   ]
  },
  {
   "cell_type": "code",
   "execution_count": null,
   "metadata": {
    "pycharm": {
     "is_executing": false
    }
   },
   "outputs": [],
   "source": [
    "def MSBFS_levels(matrix,sourceVertices):\n",
    "    frontier = sourceVertices\n",
    "    resultMatrix = Matrix.from_type(UINT64,sourceVertices.nrows,sourceVertices.ncols)\n",
    "    level = 0\n",
    "    notDone = True\n",
    "    while(notDone and level < matrix.nrows):\n",
    "        resultMatrix.assign_scalar(level,mask=frontier)\n",
    "        with semiring.LOR_LAND_BOOL:\n",
    "            frontier = frontier.mxm(matrix,mask=resultMatrix.pattern(),desc=descriptor.ooco)\n",
    "        notDone = frontier.reduce_bool()\n",
    "        level += 1\n",
    "    return resultMatrix"
   ]
  },
  {
   "cell_type": "code",
   "execution_count": null,
   "metadata": {
    "pycharm": {
     "is_executing": false
    }
   },
   "outputs": [],
   "source": [
    "def query4_msbfs(k,t):\n",
    "    matrix,idList = MemberFriends(t)\n",
    "    i = matrix.nrows\n",
    "    sources = Matrix.from_lists(range(i),range(i),[True]*i)\n",
    "    resultMatrix = MSBFS_levels(matrix,sources)\n",
    "    resultList = []\n",
    "    n = resultMatrix.nrows\n",
    "    for value in idList:\n",
    "        vec = resultMatrix.extract_row(value[0])\n",
    "        r = vec.nvals\n",
    "        s = vec.reduce_int()\n",
    "        score = ( (r-1)*(r-1) ) / ( (n-1) * s )\n",
    "        resultList += [[vertices['person'][value[1]],score]] \n",
    "    \n",
    "    resultList.sort(key=operator.itemgetter(0))    \n",
    "    resultList.sort(key=operator.itemgetter(1), reverse=True)\n",
    "\n",
    "    for value in resultList[:k]:\n",
    "        print(value)"
   ]
  },
  {
   "cell_type": "code",
   "execution_count": null,
   "metadata": {
    "tags": [
     "outputPrepend",
     "outputPrepend"
    ],
    "pycharm": {
     "is_executing": false
    }
   },
   "outputs": [],
   "source": [
    "start = timer()\n",
    "\n",
    "tagIndex = tagNames.index('Bill_Clinton')\n",
    "tagId = vertices['tag'][tagIndex]\n",
    "\n",
    "query4_msbfs(3,tagId)\n",
    "end = timer()\n",
    "print(end - start)"
   ]
  }
 ],
 "metadata": {
  "language_info": {
   "name": "python",
   "codemirror_mode": {
    "name": "ipython",
    "version": 3
   },
   "version": "3.6.9-final"
  },
  "orig_nbformat": 2,
  "file_extension": ".py",
  "mimetype": "text/x-python",
  "name": "python",
  "npconvert_exporter": "python",
  "pygments_lexer": "ipython3",
  "version": 3,
  "kernelspec": {
   "name": "python3",
   "language": "python",
   "display_name": "Python 3"
  },
  "pycharm": {
   "stem_cell": {
    "cell_type": "raw",
    "source": [],
    "metadata": {
     "collapsed": false
    }
   }
  }
 },
 "nbformat": 4,
 "nbformat_minor": 2
}