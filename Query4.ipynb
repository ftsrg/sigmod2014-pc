{
 "cells": [
  {
   "cell_type": "code",
   "execution_count": null,
   "metadata": {
    "pycharm": {
     "is_executing": false
    }
   },
   "outputs": [],
   "source": [
    "from pygraphblas import *\n",
    "from _pygraphblas import lib\n",
    "import pygraphblas.descriptor\n",
    "import csv\n",
    "import sys\n",
    "import logging\n",
    "import glob\n",
    "import operator\n",
    "from data_loader import DataLoader\n",
    "from timeit import default_timer as timer"
   ]
  },
  {
   "cell_type": "code",
   "execution_count": null,
   "metadata": {
    "pycharm": {
     "is_executing": false
    }
   },
   "outputs": [],
   "source": [
    "# Setup logger\n",
    "handler = logging.StreamHandler()\n",
    "handler.setFormatter(logging.Formatter('%(asctime)s %(levelname)-5s %(message)s'))\n",
    "log = logging.getLogger(__name__)\n",
    "log.propagate = False\n",
    "log.addHandler(handler)\n",
    "log.setLevel(logging.INFO)"
   ]
  },
  {
   "cell_type": "code",
   "execution_count": null,
   "metadata": {
    "pycharm": {
     "is_executing": false
    }
   },
   "outputs": [],
   "source": [
    "data_dir = 'csvs/o1k/'\n",
    "data_format = 'csv'\n",
    "loader = DataLoader(data_dir, data_format)\n",
    "\n",
    "person = loader.load_vertex('person')\n",
    "forum = loader.load_vertex('forum')\n",
    "tag = loader.load_vertex('tag')\n",
    "tagNames = loader.load_extra_columns('tag', ['name'])\n",
    "\n",
    "knows = loader.load_edge('knows', person, person)\n",
    "hasTag = loader.load_edge('hasTag', forum, tag)\n",
    "hasMember = loader.load_edge('hasMember', forum, person)\n",
    "\n",
    "\n",
    "#vertices, mappings, matrices = loader.load_all_csvs()"
   ]
  },
  {
   "cell_type": "code",
   "execution_count": null,
   "metadata": {
    "pycharm": {
     "is_executing": false
    }
   },
   "outputs": [],
   "source": [
    "def MemberFriends(t):\n",
    "    tagIndex = tagNames.index(t)\n",
    "    tagVector = Vector.from_type(BOOL, hasTag.ncols)\n",
    "    tagVector[tagIndex] = True\n",
    "    relevantForumsVector = tagVector.vxm(hasTag.transpose())\n",
    "    relevantPeopleVector = relevantForumsVector.vxm(hasMember)\n",
    "    resultMatrix = Matrix.from_type(BOOL,relevantPeopleVector.nvals,relevantPeopleVector.nvals) \n",
    "    knows.extract_matrix(relevantPeopleVector.to_lists()[0],relevantPeopleVector.to_lists()[0],out=resultMatrix)\n",
    "    \n",
    "    n=0\n",
    "    idList=[]\n",
    "    for value in relevantPeopleVector:\n",
    "        idList+=[[n,value[0]]]\n",
    "        n += 1\n",
    "\n",
    "    return resultMatrix,idList"
   ]
  },
  {
   "cell_type": "code",
   "execution_count": null,
   "metadata": {
    "pycharm": {
     "is_executing": false
    }
   },
   "outputs": [],
   "source": [
    "def naive_bfs_levels(matrix, source):\n",
    "    '''\n",
    "    Input:\n",
    "        matrix: adjacency matrix describing the graph\n",
    "        source: source node index\n",
    "    Returns:\n",
    "        result_vector: vector of hops to all other nodes\n",
    "    '''\n",
    "    \n",
    "    result_vector = Vector.from_type(UINT64, matrix.nrows)  \n",
    "    known_nodes_vector = Vector.from_type(BOOL, matrix.nrows)\n",
    "    \n",
    "    known_nodes_vector[source] = True\n",
    "    not_done = True\n",
    "    level = 1\n",
    "    \n",
    "    while not_done and level <= matrix.nrows:\n",
    "        result_vector[:,known_nodes_vector] = level\n",
    "        known_nodes_vector = result_vector.vxm(matrix, mask=result_vector, \n",
    "                  desc=descriptor.ooco)\n",
    "        not_done = known_nodes_vector.reduce_bool()\n",
    "        level += 1\n",
    "    return result_vector"
   ]
  },
  {
   "cell_type": "code",
   "execution_count": null,
   "metadata": {
    "pycharm": {
     "is_executing": false
    },
    "tags": [
     "outputPrepend",
     "outputPrepend",
     "outputPrepend",
     "outputPrepend",
     "outputPrepend",
     "outputPrepend",
     "outputPrepend",
     "outputPrepend",
     "outputPrepend",
     "outputPrepend",
     "outputPrepend",
     "outputPrepend",
     "outputPrepend",
     "outputPrepend",
     "outputPrepend",
     "outputPrepend",
     "outputPrepend",
     "outputPrepend",
     "outputPrepend",
     "outputPrepend",
     "outputPrepend",
     "outputPrepend",
     "outputPrepend",
     "outputPrepend",
     "outputPrepend",
     "outputPrepend",
     "outputPrepend",
     "outputPrepend",
     "outputPrepend",
     "outputPrepend",
     "outputPrepend",
     "outputPrepend",
     "outputPrepend",
     "outputPrepend",
     "outputPrepend",
     "outputPrepend",
     "outputPrepend",
     "outputPrepend",
     "outputPrepend",
     "outputPrepend",
     "outputPrepend",
     "outputPrepend",
     "outputPrepend",
     "outputPrepend",
     "outputPrepend"
    ]
   },
   "outputs": [],
   "source": [
    "def query4(k,t):\n",
    "    matrix,idList = MemberFriends(t)\n",
    "    resultList = []\n",
    "    for value in idList:\n",
    "        bfsResultVector = naive_bfs_levels(matrix,value[0])\n",
    "        n = len(idList)\n",
    "        r = bfsResultVector.nvals\n",
    "        s = 0\n",
    "        for entry in bfsResultVector:\n",
    "            s += entry[1]-1\n",
    "        if(s == 0 or n-1 == 0):\n",
    "            score = 0\n",
    "        else:\n",
    "            score = ( (r-1)*(r-1) ) / ( (n-1) * s )\n",
    "        resultList += [[person.id2index[value[1]],score]]\n",
    "\n",
    "    resultList.sort(key=operator.itemgetter(0))    \n",
    "    resultList.sort(key=operator.itemgetter(1), reverse=True)\n",
    "\n",
    "    return resultList[:k]"
   ]
  },
  {
   "cell_type": "code",
   "execution_count": null,
   "metadata": {
    "pycharm": {
     "is_executing": false
    },
    "tags": [
     "outputPrepend",
     "outputPrepend",
     "outputPrepend",
     "outputPrepend",
     "outputPrepend",
     "outputPrepend",
     "outputPrepend",
     "outputPrepend",
     "outputPrepend",
     "outputPrepend",
     "outputPrepend"
    ]
   },
   "outputs": [],
   "source": [
    "start = timer()\n",
    "print(query4(3,'Bill_Clinton'))\n",
    "end = timer()\n",
    "print(end - start)\n",
    "# Expected result:\n",
    "# 385 492 819 % centrality values 0.5290135396518375 0.5259615384615384 0.5249520153550864"
   ]
  },
  {
   "cell_type": "code",
   "execution_count": null,
   "metadata": {},
   "outputs": [],
   "source": [
    "def push_pull_bfs_levels(matrix,source):\n",
    "    \n",
    "\n",
    "    level = 1\n",
    "    push = True\n",
    "\n",
    "    result_vector = Vector.from_type(UINT64,matrix.nrows)\n",
    "    frontier_vector = Vector.from_type(BOOL,matrix.nrows)\n",
    "    frontier_vector[source] = True\n",
    "    \n",
    "    #Heuristic to decide if we need to switch between push and pull\n",
    "    r_before = frontier_vector.nvals / matrix.nrows\n",
    "    #Threshold to switch between push and pull\n",
    "    threshold = 0.2\n",
    "\n",
    "    not_done = True\n",
    "    while(not_done and level <= matrix.nrows):\n",
    "        result_vector[:,frontier_vector] = level\n",
    "        \n",
    "        if(push):\n",
    "            with semiring.ANY_PAIR:\n",
    "                next_vector = frontier_vector.vxm(matrix,mask=result_vector,desc=descriptor.ooco)\n",
    "        if(not push):\n",
    "            with semiring.ANY_PAIR:\n",
    "                next_vector =  matrix.mxv(frontier_vector,mask=result_vector,desc=descriptor.ooco)\n",
    "        \n",
    "        frontier_vector = next_vector\n",
    "\n",
    "        r = frontier_vector.nvals / matrix.nrows\n",
    "        \n",
    "        if(r > r_before and r > threshold): push = False\n",
    "        if(r < r_before and r < threshold): push = True\n",
    "\n",
    "        r_before = r\n",
    "\n",
    "        not_done = frontier_vector.reduce_bool()\n",
    "        level+=1\n",
    "\n",
    "\n",
    "    return result_vector\n",
    "    "
   ]
  },
  {
   "cell_type": "code",
   "execution_count": null,
   "metadata": {},
   "outputs": [],
   "source": [
    "def query4_push_pull_bfs(k,t):\n",
    "    matrix,idList = MemberFriends(t)\n",
    "    resultList = []\n",
    "    for value in idList:\n",
    "        bfsResultVector = push_pull_bfs_levels(matrix,value[0])\n",
    "        n = len(idList)\n",
    "        r = bfsResultVector.nvals\n",
    "        s = 0\n",
    "        for entry in bfsResultVector:\n",
    "            s += entry[1]-1\n",
    "        if(s == 0 or n-1 == 0):\n",
    "            score = 0\n",
    "        else:\n",
    "            score = ( (r-1)*(r-1) ) / ( (n-1) * s )\n",
    "        resultList += [[person.id2index[value[1]],score]]\n",
    "\n",
    "    resultList.sort(key=operator.itemgetter(0))    \n",
    "    resultList.sort(key=operator.itemgetter(1), reverse=True)\n",
    "\n",
    "    return resultList[:k]"
   ]
  },
  {
   "cell_type": "code",
   "execution_count": null,
   "metadata": {},
   "outputs": [],
   "source": [
    "start = timer()\n",
    "print(query4_push_pull_bfs(3,'Bill_Clinton'))\n",
    "end = timer()\n",
    "print(end - start)\n",
    "# Expected result:\n",
    "# 385 492 819 % centrality values 0.5290135396518375 0.5259615384615384 0.5249520153550864"
   ]
  },
  {
   "cell_type": "code",
   "execution_count": null,
   "metadata": {
    "pycharm": {
     "is_executing": false
    }
   },
   "outputs": [],
   "source": [
    "def MSBFS_levels(matrix,sourceVertices):\n",
    "    frontier = sourceVertices\n",
    "    resultMatrix = Matrix.from_type(UINT64,sourceVertices.nrows,sourceVertices.ncols)\n",
    "    level = 0\n",
    "    notDone = True\n",
    "    while(notDone and level < matrix.nrows):\n",
    "        resultMatrix.assign_scalar(level,mask=frontier)\n",
    "        with semiring.LOR_LAND_BOOL:\n",
    "            frontier = frontier.mxm(matrix,mask=resultMatrix.pattern(),desc=descriptor.ooco)\n",
    "        notDone = frontier.reduce_bool()\n",
    "        level += 1\n",
    "    return resultMatrix"
   ]
  },
  {
   "cell_type": "code",
   "execution_count": null,
   "metadata": {
    "pycharm": {
     "is_executing": false
    }
   },
   "outputs": [],
   "source": [
    "def query4_msbfs(k,t):\n",
    "    matrix,idList = MemberFriends(t)\n",
    "    i = matrix.nrows\n",
    "    sources = Matrix.from_lists(range(i),range(i),[True]*i)\n",
    "    resultMatrix = MSBFS_levels(matrix,sources)\n",
    "    resultList = []\n",
    "    n = resultMatrix.nrows\n",
    "    for value in idList:\n",
    "        vec = resultMatrix.extract_row(value[0])\n",
    "        r = vec.nvals\n",
    "        s = vec.reduce_int()\n",
    "       \n",
    "        if(s == 0 or n-1 == 0):\n",
    "            score = 0\n",
    "        else:\n",
    "            score = ( (r-1)*(r-1) ) / ( (n-1) * s )\n",
    "        \n",
    "        resultList += [[person.id2index[value[1]],score]] \n",
    "    \n",
    "    resultList.sort(key=operator.itemgetter(0))    \n",
    "    resultList.sort(key=operator.itemgetter(1), reverse=True)\n",
    "\n",
    "    return resultList[:k]"
   ]
  },
  {
   "cell_type": "code",
   "execution_count": null,
   "metadata": {
    "pycharm": {
     "is_executing": false
    },
    "tags": [
     "outputPrepend",
     "outputPrepend"
    ]
   },
   "outputs": [],
   "source": [
    "start = timer()\n",
    "\n",
    "for input in [\n",
    "    [3, 'Bill_Clinton'],[4,'You_Make_Me_Wanna...'],\n",
    "    [3,'The_Diary_of_Horace_Wimp'],\n",
    "    [5,'Brian_Dabul'],\n",
    "    [6,'Muhammad_Ali_Jinnah'],\n",
    "    [3,'Alexandra_of_Denmark'],]:\n",
    "        \n",
    "         print(query4_msbfs(input[0],input[1]))\n",
    "\n",
    "end = timer()\n",
    "print(end - start)"
   ]
  }
 ],
 "metadata": {
  "file_extension": ".py",
  "kernelspec": {
   "display_name": "Python 3.6.9 64-bit",
   "language": "python",
   "name": "python36964bitb78aee143b7a44bab81f8474bba7eeef"
  },
  "language_info": {
   "codemirror_mode": {
    "name": "ipython",
    "version": 3
   },
   "file_extension": ".py",
   "mimetype": "text/x-python",
   "name": "python",
   "nbconvert_exporter": "python",
   "pygments_lexer": "ipython3",
   "version": "3.6.9-final"
  },
  "mimetype": "text/x-python",
  "name": "python",
  "npconvert_exporter": "python",
  "pycharm": {
   "stem_cell": {
    "cell_type": "raw",
    "metadata": {
     "collapsed": false
    },
    "source": []
   }
  },
  "pygments_lexer": "ipython3",
  "version": 3
 },
 "nbformat": 4,
 "nbformat_minor": 2
}