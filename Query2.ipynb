{
 "cells": [
  {
   "cell_type": "code",
   "execution_count": null,
   "metadata": {
    "pycharm": {
     "is_executing": false
    }
   },
   "outputs": [],
   "source": [
    "import csv\n",
    "import heapq\n",
    "import logging\n",
    "\n",
    "from data_loader import DataLoader\n",
    "from pygraphblas import *\n",
    "from pygraphblas.base import lib\n",
    "from pygraphblas.lagraph import LAGraph_cc_fastsv"
   ]
  },
  {
   "cell_type": "code",
   "execution_count": null,
   "metadata": {
    "pycharm": {
     "is_executing": false
    }
   },
   "outputs": [],
   "source": [
    "# Setup logger\n",
    "handler = logging.StreamHandler()\n",
    "handler.setFormatter(logging.Formatter('%(asctime)s %(levelname)-5s %(message)s'))\n",
    "log = logging.getLogger(__name__)\n",
    "log.propagate = False\n",
    "log.addHandler(handler)\n",
    "log.setLevel(logging.INFO)"
   ]
  },
  {
   "cell_type": "code",
   "execution_count": null,
   "metadata": {
    "pycharm": {
     "is_executing": false
    }
   },
   "outputs": [],
   "source": [
    "data_dir = 'csvs/sf1k/'\n",
    "data_format = 'csv'\n",
    "\n",
    "loader = DataLoader(data_dir, data_format)\n",
    "\n",
    "#vertices, mappings, matrices = loader.load_all_csvs()\n",
    "\n",
    "person = loader.load_vertex('person')\n",
    "tag = loader.load_vertex('tag')\n",
    "hasInterest = loader.load_edge('hasInterest', person, tag)\n",
    "knows = loader.load_edge('knows', person, person)\n",
    "hasInterest_tran_mx=hasInterest.transpose()"
   ]
  },
  {
   "cell_type": "code",
   "execution_count": null,
   "metadata": {
    "pycharm": {
     "is_executing": false,
     "name": "#%%\n"
    }
   },
   "outputs": [],
   "source": [
    "personBirthdays = loader.load_extra_columns('person', ['birthday'])\n",
    "tagNames = loader.load_extra_columns('tag', ['name'])"
   ]
  },
  {
   "cell_type": "code",
   "execution_count": null,
   "metadata": {
    "pycharm": {
     "is_executing": false,
     "name": "#%%\n"
    }
   },
   "outputs": [],
   "source": [
    "def get_score_for_tag(tag_index, birthday_person_mask):\n",
    "    person_vec = hasInterest_tran_mx[tag_index]\n",
    "    person_vec *= birthday_person_mask\n",
    "    \n",
    "    person_cols_in_subgraph, _ = person_vec.to_lists()\n",
    "    person_count_in_subgraph = len(person_cols_in_subgraph)\n",
    "    \n",
    "    subgraph_mx = knows[person_cols_in_subgraph, person_cols_in_subgraph]\n",
    "    \n",
    "    _, component_ids = LAGraph_cc_fastsv(subgraph_mx, False).to_lists()\n",
    "    \n",
    "    component_sizes = [0]*person_count_in_subgraph\n",
    "    for componentId in component_ids:\n",
    "        component_sizes[componentId] += 1\n",
    "    \n",
    "    max_component_size = max(component_sizes) if component_sizes \\\n",
    "        else 0\n",
    "    return max_component_size\n",
    "\n",
    "def query2(top_k, birthday_limit):\n",
    "    is_person_selected = [birthday>=birthday_limit for birthday in personBirthdays]\n",
    "    birthday_person_mask = Vector.from_list(is_person_selected)\n",
    "    birthday_person_mask.select(lib.GxB_NONZERO, out=birthday_person_mask)\n",
    "        \n",
    "    tags_with_score = {(tagNames[tagCol], get_score_for_tag(tagCol, birthday_person_mask))\n",
    "                     for tagCol in range(len(tag.id2index))}\n",
    "    \n",
    "    return heapq.nsmallest(top_k, tags_with_score, key=lambda kv: (-kv[1], kv[0]))\n",
    "\n",
    "def format_result(result_list):\n",
    "    return '{0} % component sizes {1}'.format(*[' '.join(map(str, l)) for l in zip(*result_list)])\n",
    "\n",
    "result = query2(3, '1986-06-14')\n",
    "string_result = format_result(result)\n",
    "print(string_result)\n",
    "# expected result:\n",
    "# Chiang_Kai-shek Mohandas_Karamchand_Gandhi Joseph_Stalin % component sizes 6 6 5"
   ]
  },
  {
   "cell_type": "markdown",
   "metadata": {},
   "source": [
    "# Tests"
   ]
  },
  {
   "cell_type": "code",
   "execution_count": null,
   "metadata": {
    "pycharm": {
     "name": "#%%\n"
    }
   },
   "outputs": [],
   "source": [
    "results = [\n",
    "    query2(3, '1980-02-01'),\n",
    "    query2(4, '1981-03-10'),\n",
    "    query2(3, '1982-03-29'),\n",
    "    query2(3, '1983-05-09'),\n",
    "    query2(5, '1984-07-02'),\n",
    "    query2(3, '1985-05-31'),\n",
    "    query2(3, '1986-06-14'),\n",
    "    query2(7, '1987-06-24'),\n",
    "    query2(3, '1988-11-10'),\n",
    "    query2(4, '1990-01-25'),\n",
    "]\n",
    "expected_results = r'''\n",
    "Chiang_Kai-shek Augustine_of_Hippo Napoleon % component sizes 22 16 16\n",
    "Chiang_Kai-shek Napoleon Mohandas_Karamchand_Gandhi Sukarno % component sizes 17 13 11 11\n",
    "Chiang_Kai-shek Mohandas_Karamchand_Gandhi Napoleon % component sizes 13 11 10\n",
    "Chiang_Kai-shek Mohandas_Karamchand_Gandhi Augustine_of_Hippo % component sizes 12 10 8\n",
    "Chiang_Kai-shek Aristotle Mohandas_Karamchand_Gandhi Augustine_of_Hippo Fidel_Castro % component sizes 10 7 6 5 5\n",
    "Chiang_Kai-shek Mohandas_Karamchand_Gandhi Joseph_Stalin % component sizes 6 6 5\n",
    "Chiang_Kai-shek Mohandas_Karamchand_Gandhi Joseph_Stalin % component sizes 6 6 5\n",
    "Chiang_Kai-shek Augustine_of_Hippo Genghis_Khan Haile_Selassie_I Karl_Marx Lyndon_B._Johnson Robert_John_\\\"Mutt\\\"_Lange % component sizes 4 3 3 3 3 3 3\n",
    "Aristotle Ho_Chi_Minh Karl_Marx % component sizes 2 2 2\n",
    "Arthur_Conan_Doyle Ashoka Barack_Obama Benito_Mussolini % component sizes 1 1 1 1\n",
    "'''.strip()\n",
    "\n",
    "results_string = '\\n'.join(map(format_result, results))\n",
    "\n",
    "results_ok = results_string == expected_results\n",
    "assert results_ok\n",
    "\n",
    "print(f'RESULTS MATCH: {results_ok}\\n')\n",
    "print(results_string)"
   ]
  },
  {
   "cell_type": "code",
   "execution_count": null,
   "metadata": {},
   "outputs": [],
   "source": []
  }
 ],
 "metadata": {
  "file_extension": ".py",
  "kernelspec": {
   "display_name": "Python 3",
   "language": "python",
   "name": "python3"
  },
  "language_info": {
   "codemirror_mode": {
    "name": "ipython",
    "version": 3
   },
   "file_extension": ".py",
   "mimetype": "text/x-python",
   "name": "python",
   "nbconvert_exporter": "python",
   "pygments_lexer": "ipython3",
   "version": "3.7.3"
  },
  "mimetype": "text/x-python",
  "name": "python",
  "npconvert_exporter": "python",
  "pycharm": {
   "stem_cell": {
    "cell_type": "raw",
    "metadata": {
     "collapsed": false
    },
    "source": []
   }
  },
  "pygments_lexer": "ipython3",
  "version": 3
 },
 "nbformat": 4,
 "nbformat_minor": 2
}
