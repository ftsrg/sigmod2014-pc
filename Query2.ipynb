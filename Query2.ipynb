{
 "nbformat": 4,
 "nbformat_minor": 2,
 "metadata": {
  "language_info": {
   "name": "python",
   "codemirror_mode": {
    "name": "ipython",
    "version": 3
   },
   "version": "3.6.9-final"
  },
  "orig_nbformat": 2,
  "file_extension": ".py",
  "mimetype": "text/x-python",
  "name": "python",
  "npconvert_exporter": "python",
  "pygments_lexer": "ipython3",
  "version": 3,
  "kernelspec": {
   "name": "python3",
   "language": "python",
   "display_name": "Python 3"
  },
  "pycharm": {
   "stem_cell": {
    "cell_type": "raw",
    "source": [],
    "metadata": {
     "collapsed": false
    }
   }
  }
 },
 "cells": [
  {
   "cell_type": "code",
   "execution_count": null,
   "metadata": {
    "pycharm": {
     "is_executing": false
    }
   },
   "outputs": [],
   "source": [
    "from pygraphblas import *\n",
    "from pygraphblas.base import _check, lib\n",
    "import pygraphblas.descriptor\n",
    "import csv\n",
    "import sys\n",
    "import logging\n",
    "import glob\n",
    "import operator\n",
    "from data_loader import DataLoader"
   ]
  },
  {
   "cell_type": "code",
   "execution_count": null,
   "metadata": {
    "pycharm": {
     "is_executing": false
    }
   },
   "outputs": [],
   "source": [
    "# Setup logger\n",
    "handler = logging.StreamHandler()\n",
    "handler.setFormatter(logging.Formatter('%(asctime)s %(levelname)-5s %(message)s'))\n",
    "log = logging.getLogger(__name__)\n",
    "log.propagate = False\n",
    "log.addHandler(handler)\n",
    "log.setLevel(logging.INFO)"
   ]
  },
  {
   "cell_type": "code",
   "execution_count": null,
   "metadata": {
    "pycharm": {
     "is_executing": false
    }
   },
   "outputs": [],
   "source": [
    "data_dir = 'sf1k-converted/'\n",
    "loader = DataLoader(data_dir)\n",
    "\n",
    "vertices, mappings, matrices = loader.load_all_csvs()"
   ]
  },
  {
   "cell_type": "code",
   "execution_count": null,
   "outputs": [],
   "source": [
    "with open(data_dir + 'person.csv', newline='') as csvfile:\n",
    "    reader = csv.DictReader(csvfile, delimiter='|', quotechar='\"')\n",
    "    birthdayColName, = [colName for colName in reader.fieldnames if colName.split(':')[0]=='birthday']\n",
    "    personBirthdays = [row[birthdayColName] for row in reader]\n",
    "    "
   ],
   "metadata": {
    "collapsed": false,
    "pycharm": {
     "name": "#%%\n",
     "is_executing": false
    }
   }
  },
  {
   "cell_type": "code",
   "execution_count": null,
   "metadata": {
    "tags": [
     "outputPrepend",
     "outputPrepend",
     "outputPrepend",
     "outputPrepend",
     "outputPrepend",
     "outputPrepend",
     "outputPrepend",
     "outputPrepend",
     "outputPrepend",
     "outputPrepend",
     "outputPrepend",
     "outputPrepend",
     "outputPrepend",
     "outputPrepend",
     "outputPrepend",
     "outputPrepend",
     "outputPrepend",
     "outputPrepend",
     "outputPrepend",
     "outputPrepend",
     "outputPrepend",
     "outputPrepend",
     "outputPrepend",
     "outputPrepend",
     "outputPrepend",
     "outputPrepend",
     "outputPrepend",
     "outputPrepend",
     "outputPrepend",
     "outputPrepend",
     "outputPrepend",
     "outputPrepend",
     "outputPrepend",
     "outputPrepend",
     "outputPrepend",
     "outputPrepend",
     "outputPrepend",
     "outputPrepend",
     "outputPrepend",
     "outputPrepend",
     "outputPrepend",
     "outputPrepend",
     "outputPrepend",
     "outputPrepend",
     "outputPrepend"
    ],
    "pycharm": {
     "is_executing": false,
     "name": "#%%\n"
    }
   },
   "outputs": [],
   "source": [
    "topK=3\n",
    "birthdayLimit='1986-06-14'\n",
    "\n",
    "isPersonSelected = [birthday>=birthdayLimit for birthday in personBirthdays]\n",
    "birthdayPersonMask = Vector.from_list(isPersonSelected)\n",
    "birthdayPersonMask.select(lib.GxB_NONZERO, out=birthdayPersonMask)\n",
    "print(f'Selected persons: {birthdayPersonMask.nvals}')\n",
    "\n",
    "hasInterestTranMx=matrices['hasInterest'].transpose()\n",
    "for tagCol in range(len(vertices['tag'])):\n",
    "    personVec = hasInterestTranMx[tagCol]\n",
    "    personVec *= birthdayPersonMask\n",
    "    \n",
    "    personColsInSubgraph = [colValPair[0] for colValPair in personVec]\n",
    "    \n",
    "    subgraphMx = matrices['knows'][personColsInSubgraph, personColsInSubgraph]\n",
    "    print(subgraphMx)\n",
    "    \n",
    "    out = ffi.new('GrB_Vector*')\n",
    "    _check(lib.LAGraph_cc_fastsv(\n",
    "            out,\n",
    "            subgraphMx.matrix[0],\n",
    "            False))\n",
    "    \n",
    "    new_type = ffi.new('GrB_Type*')\n",
    "    _check(lib.GxB_Vector_type(new_type, out[0]))\n",
    "    result= Vector(out, types.gb_type_to_type(new_type[0]))\n",
    "    print(result)\n",
    "    print(result.to_string())\n",
    "    \n",
    "    if subgraphMx.nvals:\n",
    "        break\n"
   ]
  }
 ]
}