{
 "nbformat": 4,
 "nbformat_minor": 2,
 "metadata": {
  "language_info": {
   "name": "python",
   "codemirror_mode": {
    "name": "ipython",
    "version": 3
   },
   "version": "3.6.9-final"
  },
  "orig_nbformat": 2,
  "file_extension": ".py",
  "mimetype": "text/x-python",
  "name": "python",
  "npconvert_exporter": "python",
  "pygments_lexer": "ipython3",
  "version": 3,
  "kernelspec": {
   "name": "python3",
   "language": "python",
   "display_name": "Python 3"
  },
  "pycharm": {
   "stem_cell": {
    "cell_type": "raw",
    "source": [],
    "metadata": {
     "collapsed": false
    }
   }
  }
 },
 "cells": [
  {
   "cell_type": "code",
   "execution_count": null,
   "metadata": {
    "pycharm": {
     "is_executing": false
    }
   },
   "outputs": [],
   "source": [
    "from pygraphblas import *\n",
    "from pygraphblas.base import _check, lib\n",
    "import pygraphblas.descriptor\n",
    "import csv\n",
    "import logging\n",
    "from data_loader import DataLoader\n",
    "\n",
    "import heapq"
   ]
  },
  {
   "cell_type": "code",
   "execution_count": null,
   "metadata": {
    "pycharm": {
     "is_executing": false
    }
   },
   "outputs": [],
   "source": [
    "# Setup logger\n",
    "handler = logging.StreamHandler()\n",
    "handler.setFormatter(logging.Formatter('%(asctime)s %(levelname)-5s %(message)s'))\n",
    "log = logging.getLogger(__name__)\n",
    "log.propagate = False\n",
    "log.addHandler(handler)\n",
    "log.setLevel(logging.INFO)"
   ]
  },
  {
   "cell_type": "code",
   "execution_count": null,
   "metadata": {
    "pycharm": {
     "is_executing": false
    }
   },
   "outputs": [],
   "source": [
    "data_dir = 'sf1k-converted/'\n",
    "loader = DataLoader(data_dir)\n",
    "\n",
    "vertices, mappings, matrices = loader.load_all_csvs()\n",
    "\n",
    "hasInterestTranMx=matrices['hasInterest'].transpose()"
   ]
  },
  {
   "cell_type": "code",
   "execution_count": null,
   "outputs": [],
   "source": [
    "def load_extra_columns(filename, columnNames):\n",
    "    with open(data_dir + filename, newline='') as csvfile:\n",
    "        reader = csv.DictReader(csvfile, delimiter='|', quotechar='\"')\n",
    "        \n",
    "        fullColumnNames = []\n",
    "        for columnName in columnNames:\n",
    "            # find full column name with type info after ':'\n",
    "            fullColumnName, = [fullName for fullName in reader.fieldnames\n",
    "                               if fullName.split(':')[0]==columnName]\n",
    "            fullColumnNames.append(fullColumnName)\n",
    "        \n",
    "        if len(fullColumnNames) == 1:\n",
    "            fullColumnName = fullColumnNames[0]\n",
    "            result = [row[fullColumnName] for row in reader]\n",
    "        else:\n",
    "            result = [[row[fullColumnName] for fullColumnName in fullColumnNames] for row in reader]\n",
    "        \n",
    "        return result\n",
    "        \n",
    "personBirthdays = load_extra_columns('person.csv', ['birthday'])\n",
    "tagNames = load_extra_columns('tag.csv', ['name'])"
   ],
   "metadata": {
    "collapsed": false,
    "pycharm": {
     "name": "#%%\n",
     "is_executing": false
    }
   }
  },
  {
   "cell_type": "code",
   "execution_count": null,
   "outputs": [],
   "source": [
    "def LAGraph_cc_fastsv(mx, sanitize=True):\n",
    "    out = ffi.new('GrB_Vector*')\n",
    "    _check(lib.LAGraph_cc_fastsv(\n",
    "            out,\n",
    "            mx.matrix[0],\n",
    "            sanitize))\n",
    "    \n",
    "    new_type = ffi.new('GrB_Type*')\n",
    "    _check(lib.GxB_Vector_type(new_type, out[0]))\n",
    "    \n",
    "    return Vector(out, types.gb_type_to_type(new_type[0]))"
   ],
   "metadata": {
    "collapsed": false,
    "pycharm": {
     "name": "#%%\n",
     "is_executing": false
    }
   }
  },
  {
   "cell_type": "code",
   "execution_count": null,
   "metadata": {
    "tags": [
     "outputPrepend",
     "outputPrepend",
     "outputPrepend",
     "outputPrepend",
     "outputPrepend",
     "outputPrepend",
     "outputPrepend",
     "outputPrepend",
     "outputPrepend",
     "outputPrepend",
     "outputPrepend",
     "outputPrepend",
     "outputPrepend",
     "outputPrepend",
     "outputPrepend",
     "outputPrepend",
     "outputPrepend",
     "outputPrepend",
     "outputPrepend",
     "outputPrepend",
     "outputPrepend",
     "outputPrepend",
     "outputPrepend",
     "outputPrepend",
     "outputPrepend",
     "outputPrepend",
     "outputPrepend",
     "outputPrepend",
     "outputPrepend",
     "outputPrepend",
     "outputPrepend",
     "outputPrepend",
     "outputPrepend",
     "outputPrepend",
     "outputPrepend",
     "outputPrepend",
     "outputPrepend",
     "outputPrepend",
     "outputPrepend",
     "outputPrepend",
     "outputPrepend",
     "outputPrepend",
     "outputPrepend",
     "outputPrepend",
     "outputPrepend"
    ],
    "pycharm": {
     "is_executing": false,
     "name": "#%%\n"
    }
   },
   "outputs": [],
   "source": [
    "def getScoreForTag(tagCol, birthdayPersonMask):\n",
    "    personVec = hasInterestTranMx[tagCol]\n",
    "    personVec *= birthdayPersonMask\n",
    "    \n",
    "    personColsInSubgraph = [colValPair[0] for colValPair in personVec]\n",
    "    personCountInSubgraph = len(personColsInSubgraph)\n",
    "    \n",
    "    subgraphMx = matrices['knows'][personColsInSubgraph, personColsInSubgraph]\n",
    "    \n",
    "    _, componentIds = LAGraph_cc_fastsv(subgraphMx, False).to_lists()\n",
    "    \n",
    "    componentSizes = [0]*personCountInSubgraph\n",
    "    for componentId in componentIds:\n",
    "        componentSizes[componentId] += 1\n",
    "    \n",
    "    maxComponentSize = max(componentSizes) if componentSizes \\\n",
    "        else 0\n",
    "    return maxComponentSize\n",
    "\n",
    "def query2(topK, birthdayLimit):\n",
    "    isPersonSelected = [birthday>=birthdayLimit for birthday in personBirthdays]\n",
    "    birthdayPersonMask = Vector.from_list(isPersonSelected)\n",
    "    birthdayPersonMask.select(lib.GxB_NONZERO, out=birthdayPersonMask)\n",
    "        \n",
    "    tagsWithScore = {(tagNames[tagCol], getScoreForTag(tagCol, birthdayPersonMask))\n",
    "                     for tagCol in range(len(vertices['tag']))}\n",
    "    \n",
    "    return heapq.nsmallest(topK, tagsWithScore, key=lambda kv: (-kv[1], kv[0]))\n",
    "\n",
    "result = query2(3, '1986-06-14')\n",
    "stringResult = '{0} % component sizes {1}'.format(*[' '.join(map(str, l)) for l in zip(*result)])\n",
    "print(stringResult)\n",
    "# expected result:\n",
    "# Chiang_Kai-shek Mohandas_Karamchand_Gandhi Joseph_Stalin % component sizes 6 6 5"
   ]
  }
 ]
}