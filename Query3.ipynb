{
 "cells": [
  {
   "cell_type": "code",
   "execution_count": null,
   "metadata": {},
   "outputs": [],
   "source": [
    "from pygraphblas import *\n",
    "from _pygraphblas import lib\n",
    "import pygraphblas.descriptor\n",
    "import csv\n",
    "import sys\n",
    "import logging\n",
    "import glob\n",
    "import os\n",
    "import operator\n",
    "from data_loader import DataLoader\n",
    "from timeit import default_timer as timer"
   ]
  },
  {
   "cell_type": "code",
   "execution_count": null,
   "metadata": {},
   "outputs": [],
   "source": [
    "# Setup logger\n",
    "handler = logging.StreamHandler()\n",
    "handler.setFormatter(logging.Formatter('%(asctime)s %(levelname)-5s %(message)s'))\n",
    "log = logging.getLogger(__name__)\n",
    "log.propagate = False\n",
    "log.addHandler(handler)\n",
    "log.setLevel(logging.INFO)"
   ]
  },
  {
   "cell_type": "code",
   "execution_count": null,
   "metadata": {},
   "outputs": [],
   "source": [
    "data_dir = 'csvs/o1k/'\n",
    "data_format = 'csv'\n",
    "\n",
    "files  = glob.glob(f'{data_dir}*isLocatedIn*.csv')\n",
    "for file in files:\n",
    "    directory,fileName = file.split('/')\n",
    "    from_node, edge_name, to_node = fileName.split('_')\n",
    "    edge_name = edge_name[0].upper() + (edge_name[1:])\n",
    "    edge_name = \"{}{}\".format(from_node,edge_name)\n",
    "    os.rename(file,\"{}/{}_{}_{}\".format(directory,from_node,edge_name,to_node))"
   ]
  },
  {
   "cell_type": "code",
   "execution_count": null,
   "metadata": {},
   "outputs": [],
   "source": [
    "loader = DataLoader(data_dir, data_format)\n",
    "\n",
    "person = loader.load_vertex('person')\n",
    "place = loader.load_vertex('place')\n",
    "organisation = loader.load_vertex('organisation')\n",
    "tag = loader.load_vertex('tag')\n",
    "\n",
    "placeNames = loader.load_extra_columns('place',['name'])\n",
    "\n",
    "isPartOf = loader.load_edge('isPartOf', place, place)\n",
    "personIsLocatedIn = loader.load_edge('personIsLocatedIn', person, place)\n",
    "organisationIsLocatedIn = loader.load_edge('organisationIsLocatedIn', organisation, place)\n",
    "workAt = loader.load_edge('workAt', person, organisation)\n",
    "studyAt = loader.load_edge('studyAt', person, organisation)\n",
    "knows = loader.load_edge('knows', person, person)\n",
    "hasInterest = loader.load_edge('hasInterest', person, tag)\n",
    "\n",
    "#vertices, mappings, matrices = loader.load_all_csvs()"
   ]
  },
  {
   "cell_type": "code",
   "execution_count": null,
   "metadata": {},
   "outputs": [],
   "source": [
    "#Query 3\n",
    "def RelevantPeopleInPlace(placeName):\n",
    "    placeID = placeNames.index(placeName)\n",
    "    #Relevant places\n",
    "    isPartOfTransposed = isPartOf.transpose()\n",
    "    placeVector = Vector.from_type(BOOL,isPartOfTransposed.nrows)\n",
    "    placeVector[placeID] = True\n",
    "    relevantPlacesVector = placeVector + placeVector.vxm(isPartOfTransposed) + placeVector.vxm(isPartOfTransposed).vxm(isPartOfTransposed)\n",
    "    #People located in the given place\n",
    "    peopleInThePlaceVector = personIsLocatedIn.mxv(relevantPlacesVector)\n",
    "    #People working at a Company or studying at a University located in the given place\n",
    "    organisationsVector = organisationIsLocatedIn.mxv(relevantPlacesVector)\n",
    "    with semiring.LOR_LAND_BOOL:\n",
    "        peopleWorkAtVector = workAt.mxv(organisationsVector)\n",
    "        peopleStudyAtVector = studyAt.mxv(organisationsVector) \n",
    "    #All the relevant people in the given place    \n",
    "    with binaryop.PLUS_BOOL:    \n",
    "        relevantPeopleVector = peopleWorkAtVector + peopleStudyAtVector + peopleInThePlaceVector   \n",
    "    return relevantPeopleVector"
   ]
  },
  {
   "cell_type": "code",
   "execution_count": null,
   "metadata": {},
   "outputs": [],
   "source": [
    "def HHopKnows(h,vec):\n",
    "    if(h < 2) : return vec.vxm(knows)\n",
    "    mtx = knows\n",
    "    while(h-1 > 0):\n",
    "        mtx = mtx.mxm(knows)\n",
    "        h -= 1\n",
    "    return(vec.vxm(mtx) + HHopKnows(h-1,vec))"
   ]
  },
  {
   "cell_type": "code",
   "execution_count": null,
   "metadata": {},
   "outputs": [],
   "source": [
    "def query3(k,h,p):\n",
    "    relevantPeopleVector = RelevantPeopleInPlace(p)\n",
    "\n",
    "    #Maping the id-s back, sorting, then remapping\n",
    "    mapedPersonIds = relevantPeopleVector.to_lists()[0]\n",
    "    mapedPersonIds[:] = [person.id2index[id] for id in mapedPersonIds]\n",
    "    mapedPersonIds.sort()\n",
    "    remapedSortedPersonIds = mapedPersonIds\n",
    "    remapedSortedPersonIds[:] = [person.index2id[id] for id in mapedPersonIds]\n",
    "\n",
    "    #A list of maped id-s, sorted by the original id-s\n",
    "    personList = list(zip(remapedSortedPersonIds,relevantPeopleVector.to_lists()[1]))\n",
    "    resultList = []\n",
    "\n",
    "    for _person in personList:\n",
    "        personVector = Vector.from_type(BOOL,relevantPeopleVector.size)\n",
    "        personVector[_person[0]] = True\n",
    "        \n",
    "        personKnowsHHopVector = HHopKnows(h,personVector)\n",
    "        personKnowsHHopVector *= relevantPeopleVector     #only the relevant people are needed\n",
    "        \n",
    "        personHasInterestVector = personVector.vxm(hasInterest)\n",
    "        numTagsVector = Vector.from_type(INT64,relevantPeopleVector.size)    \n",
    "\n",
    "        for tag in personHasInterestVector:\n",
    "            tagVector = Vector.from_type(BOOL,personHasInterestVector.size)\n",
    "            tagVector[tag[0]] = True\n",
    "            peopleInterestedInTagVector = tagVector.vxm(hasInterest.transpose())\n",
    "            numTagsVector += peopleInterestedInTagVector\n",
    "        \n",
    "        numTagsVector[_person[0]] = 0    #p1|p1 should be 0\n",
    "        numTagsVector *= personKnowsHHopVector\n",
    "\n",
    "        personID = person.id2index[_person[0]]\n",
    "        for value in numTagsVector:\n",
    "            valueID = person.id2index[value[0]]\n",
    "            if(value[1] != 0):\n",
    "                for element in resultList:\n",
    "                    if(personID == element[1] and valueID == element[0]):\n",
    "                        break\n",
    "                else:\n",
    "                    resultList += [[personID,valueID,value[1]]]\n",
    "\n",
    "    resultList.sort(key = operator.itemgetter(1))  \n",
    "    resultList.sort(key = operator.itemgetter(0))\n",
    "    resultList.sort(key = operator.itemgetter(2), reverse = True)\n",
    "\n",
    "    for element in resultList[:k]:\n",
    "        print('{}|{}|{}'.format(element[0],element[1],element[2]))"
   ]
  },
  {
   "cell_type": "code",
   "execution_count": null,
   "metadata": {},
   "outputs": [],
   "source": [
    "#India.id = 38\n",
    "start = timer()\n",
    "query3(3,2,'India')\n",
    "end = timer()\n",
    "print(end -start)"
   ]
  },
  {
   "cell_type": "code",
   "execution_count": null,
   "metadata": {},
   "outputs": [],
   "source": [
    "#Query 3\n",
    "def RelevantPeopleInPlaceMatrix(placeName):\n",
    "    placeID = placeNames.index(placeName)\n",
    "    #Relevant places\n",
    "    isPartOfTransposed = isPartOf.transpose()\n",
    "    placeVector = Vector.from_type(BOOL,isPartOfTransposed.nrows)\n",
    "    placeVector[placeID] = True\n",
    "    relevantPlacesVector = placeVector + placeVector.vxm(isPartOfTransposed) + placeVector.vxm(isPartOfTransposed).vxm(isPartOfTransposed)\n",
    "    #People located in the given place\n",
    "    peopleInThePlaceVector = personIsLocatedIn.mxv(relevantPlacesVector)\n",
    "    #People working at a Company or studying at a University located in the given place\n",
    "    organisationsVector = organisationIsLocatedIn.mxv(relevantPlacesVector)\n",
    "    with semiring.LOR_LAND_BOOL:\n",
    "        peopleWorkAtVector = workAt.mxv(organisationsVector)\n",
    "        peopleStudyAtVector = studyAt.mxv(organisationsVector) \n",
    "    #All the relevant people in the given place    \n",
    "    with binaryop.PLUS_BOOL:    \n",
    "        relevantPeopleVector = peopleWorkAtVector + peopleStudyAtVector + peopleInThePlaceVector   \n",
    "    \n",
    "    #Creating a diagonal matrix from the people ids\n",
    "    diagMtx = Matrix.from_lists(relevantPeopleVector.to_lists()[0],relevantPeopleVector.to_lists()[0],relevantPeopleVector.to_lists()[1], knows.nrows, knows.ncols)\n",
    "\n",
    "    #Selecting the relevant rows and columns by multiplying the 'knows' matrix from the right then from the left with the diagonal matrix\n",
    "    returnMtx = diagMtx.mxm(knows).mxm(diagMtx).pattern()\n",
    "    \n",
    "    return returnMtx"
   ]
  },
  {
   "cell_type": "code",
   "execution_count": null,
   "metadata": {},
   "outputs": [],
   "source": [
    "def powerMatrix(p,mtx):\n",
    "    if(p == 1): return mtx\n",
    "    return mtx.mxm(powerMatrix(p-1,mtx))"
   ]
  },
  {
   "cell_type": "code",
   "execution_count": null,
   "metadata": {},
   "outputs": [],
   "source": [
    "def sortTriples(triple):\n",
    "    if(person.id2index[triple[0]] > person.id2index[triple[1]]):\n",
    "        return -triple[2], person.id2index[triple[1]], person.id2index[triple[0]]\n",
    "    return -triple[2], person.id2index[triple[0]], person.id2index[triple[1]]"
   ]
  },
  {
   "cell_type": "code",
   "execution_count": null,
   "metadata": {},
   "outputs": [],
   "source": [
    "def query3_opt(k,h,p):\n",
    "    maskMtx = RelevantPeopleInPlaceMatrix(p)\n",
    "    for i in range(h,h+1): maskMtx = maskMtx.eadd(powerMatrix(i,maskMtx))\n",
    "    \n",
    "    resultMatrix = hasInterest.mxm(hasInterest.transpose(),mask=maskMtx)\n",
    "    resultMatrix = resultMatrix.triu().offdiag()\n",
    "    import heapq\n",
    "    result = heapq.nsmallest(k,resultMatrix,key=sortTriples)\n",
    "    for res in result:\n",
    "        if(person.id2index[res[0]] > person.id2index[res[1]]):\n",
    "            print('{}|{}|{}'.format(person.id2index[res[1]], person.id2index[res[0]],res[2]))\n",
    "        else:\n",
    "            print('{}|{}|{}'.format(person.id2index[res[0]], person.id2index[res[1]],res[2]))"
   ]
  },
  {
   "cell_type": "code",
   "execution_count": null,
   "metadata": {
    "tags": [
     "outputPrepend"
    ]
   },
   "outputs": [],
   "source": [
    "start = timer()\n",
    "query3_opt(3,2,'India')\n",
    "end = timer()\n",
    "print(end -start)"
   ]
  }
 ],
 "metadata": {
  "kernelspec": {
   "display_name": "Python 3",
   "language": "python",
   "name": "python3"
  },
  "language_info": {
   "codemirror_mode": {
    "name": "ipython",
    "version": 3
   },
   "file_extension": ".py",
   "mimetype": "text/x-python",
   "name": "python",
   "nbconvert_exporter": "python",
   "pygments_lexer": "ipython3",
   "version": "3.6.9-final"
  }
 },
 "nbformat": 4,
 "nbformat_minor": 4
}