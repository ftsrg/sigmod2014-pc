{
 "cells": [
  {
   "cell_type": "code",
   "execution_count": null,
   "metadata": {},
   "outputs": [],
   "source": [
    "from pygraphblas import *\n",
    "from _pygraphblas import lib\n",
    "import pygraphblas.descriptor\n",
    "import csv\n",
    "import sys\n",
    "import logging\n",
    "import glob\n",
    "import operator\n",
    "from data_loader import DataLoader"
   ]
  },
  {
   "cell_type": "code",
   "execution_count": null,
   "metadata": {},
   "outputs": [],
   "source": [
    "# Setup logger\n",
    "handler = logging.StreamHandler()\n",
    "handler.setFormatter(logging.Formatter('%(asctime)s %(levelname)-5s %(message)s'))\n",
    "log = logging.getLogger(__name__)\n",
    "log.propagate = False\n",
    "log.addHandler(handler)\n",
    "log.setLevel(logging.INFO)"
   ]
  },
  {
   "cell_type": "code",
   "execution_count": null,
   "metadata": {},
   "outputs": [],
   "source": [
    "data_dir = 'sf1k-converted/'\n",
    "loader = DataLoader(data_dir)\n",
    "\n",
    "vertices, mappings, matrices = loader.load_all_csvs()"
   ]
  },
  {
   "cell_type": "code",
   "execution_count": null,
   "metadata": {},
   "outputs": [],
   "source": [
    "#Query 3\n",
    "def RelevantPeopleInPlace(place: int):\n",
    "    #Relevant places\n",
    "    isPartOfTransposed = matrices['isPartOf'].transpose()\n",
    "    placeVector = Vector.from_type(BOOL,isPartOfTransposed.nrows)\n",
    "    placeID = mappings['place'][place]\n",
    "    placeVector[placeID] = True\n",
    "    relevantPlacesVector = placeVector + placeVector.vxm(isPartOfTransposed) + placeVector.vxm(isPartOfTransposed).vxm(isPartOfTransposed)\n",
    "    #People located in the given place\n",
    "    peopleInThePlaceVector = matrices['personIsLocatedIn'].mxv(relevantPlacesVector)\n",
    "    #People working at a Company or studying at a University located in the given place\n",
    "    organisationsVector = matrices['organisationIsLocatedIn'].mxv(relevantPlacesVector)\n",
    "    with semiring.LOR_LAND_BOOL:\n",
    "        peopleWorkAtVector = matrices['workAt'].mxv(organisationsVector)\n",
    "        peopleStudyAtVector = matrices['studyAt'].mxv(organisationsVector) \n",
    "    #All the relevant people in the given place    \n",
    "    with binaryop.PLUS_BOOL:    \n",
    "        relevantPeopleVector = peopleWorkAtVector + peopleStudyAtVector + peopleInThePlaceVector   \n",
    "    return relevantPeopleVector"
   ]
  },
  {
   "cell_type": "code",
   "execution_count": null,
   "metadata": {},
   "outputs": [],
   "source": [
    "def HHopKnows(h,vec):\n",
    "    if(h < 2) : return vec.vxm(matrices['knows'])\n",
    "    mtx = matrices['knows']\n",
    "    while(h-1 > 0):\n",
    "        mtx = mtx.mxm(matrices['knows'])\n",
    "        h -= 1\n",
    "    return(vec.vxm(mtx) + HHopKnows(h-1,vec))"
   ]
  },
  {
   "cell_type": "code",
   "execution_count": null,
   "metadata": {},
   "outputs": [],
   "source": [
    "def query3(k,h,p):\n",
    "    relevantPeopleVector = RelevantPeopleInPlace(p)\n",
    "\n",
    "    #Maping the id-s back, sorting, then remapping\n",
    "    mapedPersonIds = relevantPeopleVector.to_lists()[0]\n",
    "    mapedPersonIds[:] = [vertices['person'][id] for id in mapedPersonIds]\n",
    "    mapedPersonIds.sort()\n",
    "    remapedSortedPersonIds = mapedPersonIds\n",
    "    remapedSortedPersonIds[:] = [mappings['person'][id] for id in mapedPersonIds]\n",
    "\n",
    "    #A list of maped id-s, sorted by the original id-s\n",
    "    personList = list(zip(remapedSortedPersonIds,relevantPeopleVector.to_lists()[1]))\n",
    "    resultList = []\n",
    "\n",
    "    for person in personList:\n",
    "        personVector = Vector.from_type(BOOL,relevantPeopleVector.size)\n",
    "        personVector[person[0]] = True\n",
    "        \n",
    "        personKnowsHHopVector = HHopKnows(h,personVector)\n",
    "        personKnowsHHopVector *= relevantPeopleVector     #only the relevant people are needed\n",
    "        \n",
    "        personHasInterestVector = personVector.vxm(matrices['hasInterest'])\n",
    "        numTagsVector = Vector.from_type(INT64,relevantPeopleVector.size)    \n",
    "\n",
    "        for tag in personHasInterestVector:\n",
    "            tagVector = Vector.from_type(BOOL,personHasInterestVector.size)\n",
    "            tagVector[tag[0]] = True\n",
    "            peopleInterestedInTagVector = tagVector.vxm(matrices['hasInterest'].transpose())\n",
    "            numTagsVector += peopleInterestedInTagVector\n",
    "        \n",
    "        numTagsVector[person[0]] = 0    #p1|p1 should be 0\n",
    "        numTagsVector *= personKnowsHHopVector\n",
    "\n",
    "        personID = vertices['person'][person[0]]\n",
    "        for value in numTagsVector:\n",
    "            valueID = vertices['person'][value[0]]\n",
    "            if(value[1] != 0):\n",
    "                for element in resultList:\n",
    "                    if(personID == element[1] and valueID == element[0]):\n",
    "                        break\n",
    "                else:\n",
    "                    resultList += [[personID,valueID,value[1]]]\n",
    "\n",
    "    resultList.sort(key = operator.itemgetter(1))  \n",
    "    resultList.sort(key = operator.itemgetter(0))\n",
    "    resultList.sort(key = operator.itemgetter(2), reverse = True)\n",
    "\n",
    "    for element in resultList[:k]:\n",
    "        print('{}|{}|{}'.format(element[0],element[1],element[2]))"
   ]
  },
  {
   "cell_type": "code",
   "execution_count": null,
   "metadata": {},
   "outputs": [],
   "source": [
    "#India.id = 38\n",
    "query3(3,2,38)"
   ]
  }
 ],
 "metadata": {
  "kernelspec": {
   "display_name": "Python 3",
   "language": "python",
   "name": "python3"
  },
  "language_info": {
   "codemirror_mode": {
    "name": "ipython",
    "version": 3
   },
   "file_extension": ".py",
   "mimetype": "text/x-python",
   "name": "python",
   "nbconvert_exporter": "python",
   "pygments_lexer": "ipython3",
   "version": "3.7.4"
  }
 },
 "nbformat": 4,
 "nbformat_minor": 4
}
