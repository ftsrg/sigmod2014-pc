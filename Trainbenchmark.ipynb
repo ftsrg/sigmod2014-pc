{
 "cells": [
  {
   "cell_type": "code",
   "execution_count": 118,
   "metadata": {},
   "outputs": [],
   "source": [
    "from pygraphblas import *\n",
    "from pygraphblas.demo.gviz import draw, draw_op\n",
    "import pygraphblas.descriptor\n"
   ]
  },
  {
   "cell_type": "code",
   "execution_count": 119,
   "metadata": {},
   "outputs": [],
   "source": [
    "def print_matrix(matrix):\n",
    "    print(f'Matrix is: {matrix}')\n",
    "    for row in range(matrix.nrows):\n",
    "        for col in range(matrix.ncols):\n",
    "            try:\n",
    "                value = matrix[row, col]\n",
    "            except:\n",
    "                value = ''   \n",
    "            print('{:4}'.format(value), end = '')\n",
    "        print()"
   ]
  },
  {
   "cell_type": "code",
   "execution_count": 120,
   "metadata": {},
   "outputs": [],
   "source": [
    "follows_mx = Matrix.from_lists(\n",
    "[0,1],\n",
    "[0,1],    \n",
    "[1,1])\n",
    "\n",
    "#draw(follows_mx)\n",
    "\n",
    "positions_mx = Matrix.from_lists(\n",
    "[0,1],\n",
    "[0,0],\n",
    "[1,1])\n",
    "\n",
    "monitored_by_mx = Matrix.from_lists(\n",
    "[0,0],\n",
    "[0,2],\n",
    "[1,1])\n",
    "\n",
    "requires_mx = Matrix.from_lists(\n",
    "[0,0,1,1],\n",
    "[0,1,0,2],\n",
    "[1,1,1,1])\n"
   ]
  },
  {
   "cell_type": "code",
   "execution_count": 122,
   "metadata": {},
   "outputs": [
    {
     "name": "stdout",
     "output_type": "stream",
     "text": [
      "Matrix is: <Matrix (2x1 : 2:INT64)>\n",
      "   1\n",
      "   1\n",
      "Matrix is: <Matrix (2x3 : 4:INT64)>\n",
      "   1       1\n",
      "   1       1\n",
      "Matrix is: <Matrix (2x3 : 4:INT64)>\n",
      "   1   1    \n",
      "   1       1\n",
      "Matrix is: <Matrix (2x3 : 1:INT64)>\n",
      "           1\n",
      "            \n"
     ]
    }
   ],
   "source": [
    "route_to_switch = follows_mx @ positions_mx\n",
    "print_matrix(route_to_switch)\n",
    "route_to_sensor = route_to_switch @ monitored_by_mx\n",
    "print_matrix(route_to_sensor)\n",
    "print_matrix(requires_mx)\n",
    "route_sensor_violations_query_result = route_to_sensor.eadd(requires_mx, add_op=minus)\n",
    "#print_matrix(route_sensor_violations_query_result)\n",
    "x = route_to_sensor.slice_matrix(mask=requires_mx, desc=descriptor.ooco)\n",
    "print_matrix(x)\n",
    "#TODO: Result should include -1"
   ]
  },
  {
   "cell_type": "code",
   "execution_count": null,
   "metadata": {},
   "outputs": [],
   "source": []
  },
  {
   "cell_type": "code",
   "execution_count": 69,
   "metadata": {},
   "outputs": [],
   "source": []
  },
  {
   "cell_type": "code",
   "execution_count": 70,
   "metadata": {},
   "outputs": [
    {
     "name": "stdout",
     "output_type": "stream",
     "text": [
      "Matrix is: <Matrix (2x1 : 2:INT64)>\n",
      "   1\n",
      "   1\n"
     ]
    }
   ],
   "source": [
    "print_matrix(positions_mx)"
   ]
  },
  {
   "cell_type": "code",
   "execution_count": 61,
   "metadata": {},
   "outputs": [
    {
     "name": "stdout",
     "output_type": "stream",
     "text": [
      "    "
     ]
    }
   ],
   "source": [
    "print('{:4}'.format(''), end = '')"
   ]
  },
  {
   "cell_type": "code",
   "execution_count": null,
   "metadata": {},
   "outputs": [],
   "source": [
    "positions_mx.vals"
   ]
  }
 ],
 "metadata": {
  "kernelspec": {
   "display_name": "Python 3",
   "language": "python",
   "name": "python3"
  },
  "language_info": {
   "codemirror_mode": {
    "name": "ipython",
    "version": 3
   },
   "file_extension": ".py",
   "mimetype": "text/x-python",
   "name": "python",
   "nbconvert_exporter": "python",
   "pygments_lexer": "ipython3",
   "version": "3.7.3"
  }
 },
 "nbformat": 4,
 "nbformat_minor": 2
}
