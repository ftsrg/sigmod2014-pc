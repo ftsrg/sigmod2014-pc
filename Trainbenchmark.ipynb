{
 "cells": [
  {
   "cell_type": "code",
   "execution_count": 1,
   "metadata": {},
   "outputs": [],
   "source": [
    "from pygraphblas import *\n",
    "from pygraphblas.demo.gviz import draw, draw_op\n",
    "import pygraphblas.descriptor\n",
    "import csv\n",
    "import sys\n",
    "\n"
   ]
  },
  {
   "cell_type": "code",
   "execution_count": 2,
   "metadata": {},
   "outputs": [],
   "source": [
    "class CSVreader:\n",
    "    \n",
    "    def __init__(path):\n",
    "        self.path = path\n",
    "        \n",
    "def load_node(filename):\n",
    "    \n",
    "    with open(filename, newline='') as csvfile:\n",
    "        reader = csv.DictReader(csvfile, delimiter=',', quotechar='\"')\n",
    "        original_ids = [row['id:ID'] for row in reader]\n",
    "        id_mapping = {}\n",
    "        for index in range(len(original_ids)):\n",
    "            id_mapping[original_ids[index]] = index\n",
    "            \n",
    "        return original_ids, id_mapping\n",
    "\n",
    "def load_edge(filename, start_mapping, end_mapping, typ=BOOL, drop_dangling_edges=False):\n",
    "    with open(filename, newline='') as csvfile:\n",
    "        reader = csv.DictReader(csvfile, delimiter=',', quotechar='\"')\n",
    "        row_ids = []\n",
    "        col_ids = []\n",
    "        values = []\n",
    "        for row in reader:\n",
    "            start_id = row['id:START_ID']\n",
    "            end_id = row['id:END_ID']\n",
    "            if not drop_dangling_edges or (start_id in start_mapping and end_id in end_mapping):\n",
    "                row_ids.append(start_mapping[start_id])\n",
    "                col_ids.append(end_mapping[end_id])\n",
    "                values.append(1)\n",
    "        \n",
    "        edge_matrix = Matrix.from_lists(\n",
    "        row_ids,\n",
    "        col_ids,\n",
    "        values,\n",
    "        nrows=len(start_mapping), \n",
    "        ncols=len(end_mapping), \n",
    "        typ=typ)\n",
    "        return edge_matrix\n"
   ]
  },
  {
   "cell_type": "code",
   "execution_count": 3,
   "metadata": {},
   "outputs": [],
   "source": [
    "small_data_set = {}\n",
    "small_data_set['Route'] = 'trainbenchmark-repair-models-csv/railway-repair-2-Route.csv'\n",
    "small_data_set['SwitchPosition'] = 'trainbenchmark-repair-models-csv/railway-repair-2-SwitchPosition.csv'\n",
    "small_data_set['Switch'] = 'trainbenchmark-repair-models-csv/railway-repair-2-Switch.csv'\n",
    "small_data_set['Sensor'] = 'trainbenchmark-repair-models-csv/railway-repair-2-Sensor.csv'\n",
    "\n",
    "small_data_set['follows'] = 'trainbenchmark-repair-models-csv/railway-repair-2-follows.csv'\n",
    "small_data_set['target'] = 'trainbenchmark-repair-models-csv/railway-repair-2-target.csv'\n",
    "small_data_set['monitoredBy'] = 'trainbenchmark-repair-models-csv/railway-repair-2-monitoredBy.csv'\n",
    "small_data_set['requires'] = 'trainbenchmark-repair-models-csv/railway-repair-2-requires.csv'\n",
    "\n",
    "route_ids, route_mapping = load_node(small_data_set['Route'])\n",
    "swp_ids, swp_mapping = load_node(small_data_set['SwitchPosition'])\n",
    "sw_ids, sw_mapping = load_node(small_data_set['Switch'])\n",
    "sen_ids, sen_mapping = load_node(small_data_set['Sensor'])\n",
    "\n"
   ]
  },
  {
   "cell_type": "code",
   "execution_count": 9,
   "metadata": {},
   "outputs": [
    {
     "name": "stdout",
     "output_type": "stream",
     "text": [
      "    0 1 2 3 4 5 6 7 8 9101112131415161718192021222324252627282930313233343536373839404142434445464748495051525354555657585960616263646566676869707172737475767778798081828384858687888990919293949596979899100101102103104105106107108109110111112113114115116117118119120121122123124125126127128129130131132133134135136137138139140141142143144145146147148149150151152153154155156157158159160161162163164165166167168169170171172173174175176177178179180181182183184185186187188189190191192193194195196197198199200201202203204205206207208209210211212213214215216217218219220221222223224225226227228229230231232233234235236237238239240241242243244245246247248249250251252253254255256257258259260261262263264265266267268269270271272273274275276277278279280281282283284285286287288289290291292293294295296297298299300301302303304305306307308309\n",
      " 0| 1 1 1 1   1 1                                                                                                                                                                                                                                                                                                                                                                                                                                                                                                                                                                                                                              | 0\n",
      " 1|               1 1                                                                                                                                                                                                                                                                                                                                                                                                                                                                                                                                                                                                                          | 1\n",
      " 2|                   1 1 1 1 1 1 1                                                                                                                                                                                                                                                                                                                                                                                                                                                                                                                                                                                                            | 2\n",
      " 3|                                 1 1                                                                                                                                                                                                                                                                                                                                                                                                                                                                                                                                                                                                        | 3\n",
      " 4|                                       1   1 1 1 1                                                                                                                                                                                                                                                                                                                                                                                                                                                                                                                                                                                          | 4\n",
      " 5|                                                   1 1   1 1 1                                                                                                                                                                                                                                                                                                                                                                                                                                                                                                                                                                              | 5\n",
      " 6|                                                               1 1 1 1 1 1 1 1 1                                                                                                                                                                                                                                                                                                                                                                                                                                                                                                                                                            | 6\n",
      " 7|                                                                                 1 1                                                                                                                                                                                                                                                                                                                                                                                                                                                                                                                                                        | 7\n",
      " 8|                                                                                     1 1 1                                                                                                                                                                                                                                                                                                                                                                                                                                                                                                                                                  | 8\n",
      " 9|                                                                                           1                                                                                                                                                                                                                                                                                                                                                                                                                                                                                                                                                | 9\n",
      "10|                                                                                             1 1 1                                                                                                                                                                                                                                                                                                                                                                                                                                                                                                                                          |10\n",
      "11|                                                                                                       1 1                                                                                                                                                                                                                                                                                                                                                                                                                                                                                                                                  |11\n",
      "12|                                                                                                             1   1 1 1 1                                                                                                                                                                                                                                                                                                                                                                                                                                                                                                                    |12\n",
      "13|                                                                                                                           1 1 1 1 1 1 1 1                                                                                                                                                                                                                                                                                                                                                                                                                                                                                                  |13\n",
      "14|                                                                                                                                           1 1 1 1 1 1 1 1                                                                                                                                                                                                                                                                                                                                                                                                                                                                                  |14\n",
      "15|                                                                                                                                                             1 1 1                                                                                                                                                                                                                                                                                                                                                                                                                                                                          |15\n",
      "16|                                                                                                                                                                     1 1 1 1                                                                                                                                                                                                                                                                                                                                                                                                                                                                |16\n",
      "17|                                                                                                                                                                             1 1                                                                                                                                                                                                                                                                                                                                                                                                                                                            |17\n",
      "18|                                                                                                                                                                                 1 1                                                                                                                                                                                                                                                                                                                                                                                                                                                        |18\n",
      "19|                                                                                                                                                                                     1 1 1 1                                                                                                                                                                                                                                                                                                                                                                                                                                                |19\n",
      "20|                                                                                                                                                                                             1                                                                                                                                                                                                                                                                                                                                                                                                                                              |20\n",
      "21|                                                                                                                                                                                               1 1 1 1 1   1                                                                                                                                                                                                                                                                                                                                                                                                                                |21\n",
      "22|                                                                                                                                                                                                               1 1                                                                                                                                                                                                                                                                                                                                                                                                                          |22\n",
      "23|                                                                                                                                                                                                                     1 1 1 1 1                                                                                                                                                                                                                                                                                                                                                                                                              |23\n",
      "24|                                                                                                                                                                                                                               1                                                                                                                                                                                                                                                                                                                                                                                                            |24\n",
      "25|                                                                                                                                                                                                                                 1 1 1   1 1 1 1                                                                                                                                                                                                                                                                                                                                                                                            |25\n",
      "26|                                                                                                                                                                                                                                                 1 1 1 1                                                                                                                                                                                                                                                                                                                                                                                    |26\n",
      "27|                                                                                                                                                                                                                                                         1 1                                                                                                                                                                                                                                                                                                                                                                                |27\n",
      "28|                                                                                                                                                                                                                                                             1 1 1 1 1 1                                                                                                                                                                                                                                                                                                                                                                    |28\n",
      "29|                                                                                                                                                                                                                                                                             1 1 1 1 1                                                                                                                                                                                                                                                                                                                                                      |29\n",
      "30|                                                                                                                                                                                                                                                                                       1 1     1 1 1 1                                                                                                                                                                                                                                                                                                                                      |30\n",
      "31|                                                                                                                                                                                                                                                                                                       1                                                                                                                                                                                                                                                                                                                                    |31\n",
      "32|                                                                                                                                                                                                                                                                                                           1 1   1                                                                                                                                                                                                                                                                                                                          |32\n",
      "33|                                                                                                                                                                                                                                                                                                                   1 1                                                                                                                                                                                                                                                                                                                      |33\n",
      "34|                                                                                                                                                                                                                                                                                                                       1 1 1 1 1   1 1                                                                                                                                                                                                                                                                                                      |34\n",
      "35|                                                                                                                                                                                                                                                                                                                                         1 1 1 1 1 1 1                                                                                                                                                                                                                                                                                      |35\n",
      "36|                                                                                                                                                                                                                                                                                                                                                           1 1 1 1 1                                                                                                                                                                                                                                                                        |36\n",
      "37|                                                                                                                                                                                                                                                                                                                                                                       1 1 1 1 1 1 1 1                                                                                                                                                                                                                                                      |37\n",
      "38|                                                                                                                                                                                                                                                                                                                                                                                       1   1 1 1                                                                                                                                                                                                                                            |38\n",
      "39|                                                                                                                                                                                                                                                                                                                                                                                                 1 1                                                                                                                                                                                                                                        |39\n",
      "40|                                                                                                                                                                                                                                                                                                                                                                                                       1 1 1 1 1                                                                                                                                                                                                                            |40\n",
      "41|                                                                                                                                                                                                                                                                                                                                                                                                                 1 1   1 1                                                                                                                                                                                                                  |41\n",
      "42|                                                                                                                                                                                                                                                                                                                                                                                                                           1   1 1 1                                                                                                                                                                                                        |42\n",
      "43|                                                                                                                                                                                                                                                                                                                                                                                                                                     1 1 1 1 1 1 1                                                                                                                                                                                          |43\n",
      "44|                                                                                                                                                                                                                                                                                                                                                                                                                                                     1                                                                                                                                                                                      |44\n",
      "45|                                                                                                                                                                                                                                                                                                                                                                                                                                                       1 1 1                                                                                                                                                                                |45\n",
      "46|                                                                                                                                                                                                                                                                                                                                                                                                                                                             1 1                                                                                                                                                                            |46\n",
      "47|                                                                                                                                                                                                                                                                                                                                                                                                                                                                 1 1 1 1 1                                                                                                                                                                  |47\n",
      "48|                                                                                                                                                                                                                                                                                                                                                                                                                                                                           1 1 1 1 1 1 1 1                                                                                                                                                  |48\n",
      "49|                                                                                                                                                                                                                                                                                                                                                                                                                                                                                             1 1 1 1 1 1                                                                                                                                    |49\n",
      "50|                                                                                                                                                                                                                                                                                                                                                                                                                                                                                                         1 1 1   1 1 1 1                                                                                                                    |50\n",
      "51|                                                                                                                                                                                                                                                                                                                                                                                                                                                                                                                           1 1 1                                                                                                            |51\n",
      "52|                                                                                                                                                                                                                                                                                                                                                                                                                                                                                                                                 1                                                                                                          |52\n",
      "53|                                                                                                                                                                                                                                                                                                                                                                                                                                                                                                                                   1                                                                                                        |53\n",
      "54|                                                                                                                                                                                                                                                                                                                                                                                                                                                                                                                                     1 1   1                                                                                                |54\n",
      "55|                                                                                                                                                                                                                                                                                                                                                                                                                                                                                                                                             1 1                                                                                            |55\n",
      "56|                                                                                                                                                                                                                                                                                                                                                                                                                                                                                                                                                 1 1 1 1 1                                                                                  |56\n",
      "57|                                                                                                                                                                                                                                                                                                                                                                                                                                                                                                                                                           1 1 1 1   1                                                                      |57\n",
      "58|                                                                                                                                                                                                                                                                                                                                                                                                                                                                                                                                                                       1   1                                                                |58\n",
      "59|                                                                                                                                                                                                                                                                                                                                                                                                                                                                                                                                                                               1   1   1                                                    |59\n",
      "60|                                                                                                                                                                                                                                                                                                                                                                                                                                                                                                                                                                                         1 1 1                                              |60\n",
      "61|                                                                                                                                                                                                                                                                                                                                                                                                                                                                                                                                                                                               1 1                                          |61\n",
      "62|                                                                                                                                                                                                                                                                                                                                                                                                                                                                                                                                                                                                   1 1 1                                    |62\n",
      "63|                                                                                                                                                                                                                                                                                                                                                                                                                                                                                                                                                                                                         1 1                                |63\n",
      "64|                                                                                                                                                                                                                                                                                                                                                                                                                                                                                                                                                                                                             1 1 1                          |64\n",
      "65|                                                                                                                                                                                                                                                                                                                                                                                                                                                                                                                                                                                                                   1 1 1 1 1                |65\n",
      "66|                                                                                                                                                                                                                                                                                                                                                                                                                                                                                                                                                                                                                                 1 1 1 1   1|66\n",
      "    0 1 2 3 4 5 6 7 8 9101112131415161718192021222324252627282930313233343536373839404142434445464748495051525354555657585960616263646566676869707172737475767778798081828384858687888990919293949596979899100101102103104105106107108109110111112113114115116117118119120121122123124125126127128129130131132133134135136137138139140141142143144145146147148149150151152153154155156157158159160161162163164165166167168169170171172173174175176177178179180181182183184185186187188189190191192193194195196197198199200201202203204205206207208209210211212213214215216217218219220221222223224225226227228229230231232233234235236237238239240241242243244245246247248249250251252253254255256257258259260261262263264265266267268269270271272273274275276277278279280281282283284285286287288289290291292293294295296297298299300301302303304305306307308309\n"
     ]
    }
   ],
   "source": [
    "follows_mx = load_edge(small_data_set['follows'], route_mapping, swp_mapping)\n",
    "target_mx = load_edge(small_data_set['target'], swp_mapping, sw_mapping)\n",
    "monitored_by_mx = load_edge(small_data_set['monitoredBy'], sw_mapping, sen_mapping, drop_dangling_edges=True)\n",
    "requires_mx = load_edge(small_data_set['requires'], route_mapping, sen_mapping)\n",
    "monitored_by_mx.to_string()\n",
    "#print_matrix(monitored_by_mx)"
   ]
  },
  {
   "cell_type": "code",
   "execution_count": null,
   "metadata": {},
   "outputs": [],
   "source": [
    "# follows_mx = Matrix.from_lists(\n",
    "# [0,1],\n",
    "# [0,1],    \n",
    "# [1,1])\n",
    "\n",
    "# draw(follows_mx)\n",
    "\n",
    "# target_mx = Matrix.from_lists(\n",
    "# [0,1],\n",
    "# [0,0],\n",
    "# [1,1])\n",
    "\n",
    "# monitored_by_mx = Matrix.from_lists(\n",
    "# [0,0],\n",
    "# [0,2],\n",
    "# [1,1])\n",
    "\n",
    "# requires_mx = Matrix.from_lists(\n",
    "# [0,0,1,1],\n",
    "# [0,1,0,2],\n",
    "# [1,1,1,1])\n"
   ]
  },
  {
   "cell_type": "code",
   "execution_count": null,
   "metadata": {},
   "outputs": [],
   "source": [
    "'''\n",
    "Check results here:\n",
    "https://github.com/ftsrg/trainbenchmark/blob/master/trainbenchmark-tool/src/main/java/hu/bme/mit/trainbenchmark/benchmark/test/TrainBenchmarkTest.java#L139 \n",
    "'''\n",
    "\n",
    "route_to_switch = follows_mx @ target_mx\n",
    "route_to_sensor = route_to_switch @ monitored_by_mx\n",
    "route_sensor_violations_query_result = route_to_sensor.eadd(requires_mx, add_op=MINUS)\n",
    "x = route_to_sensor.extract_matrix(mask=requires_mx, desc=descriptor.ooco)\n",
    "print_matrix(x)\n",
    "#TODO: Result should include -1"
   ]
  },
  {
   "cell_type": "code",
   "execution_count": null,
   "metadata": {},
   "outputs": [],
   "source": [
    "draw(monitored_by_mx"
   ]
  },
  {
   "cell_type": "code",
   "execution_count": null,
   "metadata": {},
   "outputs": [],
   "source": []
  },
  {
   "cell_type": "code",
   "execution_count": null,
   "metadata": {},
   "outputs": [],
   "source": [
    "print_matrix(target_mx)"
   ]
  },
  {
   "cell_type": "code",
   "execution_count": null,
   "metadata": {},
   "outputs": [],
   "source": [
    "print('{:4}'.format(''), end = '')"
   ]
  },
  {
   "cell_type": "code",
   "execution_count": null,
   "metadata": {},
   "outputs": [],
   "source": [
    "target_mx.vals"
   ]
  }
 ],
 "metadata": {
  "kernelspec": {
   "display_name": "Python 3",
   "language": "python",
   "name": "python3"
  },
  "language_info": {
   "codemirror_mode": {
    "name": "ipython",
    "version": 3
   },
   "file_extension": ".py",
   "mimetype": "text/x-python",
   "name": "python",
   "nbconvert_exporter": "python",
   "pygments_lexer": "ipython3",
   "version": "3.7.3"
  }
 },
 "nbformat": 4,
 "nbformat_minor": 2
}
