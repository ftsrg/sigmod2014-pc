{
 "cells": [
  {
   "cell_type": "code",
   "execution_count": 19,
   "metadata": {},
   "outputs": [],
   "source": [
    "from pygraphblas import *\n",
    "from pygraphblas.demo.gviz import draw, draw_op\n",
    "import pygraphblas.descriptor\n",
    "import csv\n",
    "import sys\n",
    "\n"
   ]
  },
  {
   "cell_type": "code",
   "execution_count": 31,
   "metadata": {},
   "outputs": [],
   "source": [
    "def load_node(filename):\n",
    "    \n",
    "    with open(filename, newline='') as csvfile:\n",
    "        reader = csv.DictReader(csvfile, delimiter=',', quotechar='\"')\n",
    "        original_ids = [row['id:ID'] for row in reader]\n",
    "        id_mapping = {}\n",
    "        for index in range(len(original_ids)):\n",
    "            id_mapping[original_ids[index]] = index\n",
    "            \n",
    "        return original_ids, id_mapping\n",
    "    \n",
    "def print_matrix(matrix):\n",
    "    print(f'Matrix is: {matrix}')\n",
    "    for row in range(matrix.nrows):\n",
    "        for col in range(matrix.ncols):\n",
    "            try:\n",
    "                value = matrix[row, col]\n",
    "            except:\n",
    "                value = ''   \n",
    "            print('{:4}'.format(value), end = '')\n",
    "        print()\n",
    "\n",
    "def load_edge(filename, start_mapping, end_mapping, typ=BOOL, drop_dangling_edges=False):\n",
    "    with open(filename, newline='') as csvfile:\n",
    "        reader = csv.DictReader(csvfile, delimiter=',', quotechar='\"')\n",
    "        row_ids = []\n",
    "        col_ids = []\n",
    "        values = []\n",
    "        for row in reader:\n",
    "            start_id = row['id:START_ID']\n",
    "            end_id = row['id:END_ID']\n",
    "            if not drop_dangling_edges or (start_id in start_mapping and end_id in end_mapping):\n",
    "                row_ids.append(start_mapping[start_id])\n",
    "                col_ids.append(end_mapping[end_id])\n",
    "                values.append(1)                \n",
    "            \n",
    "        edge_matrix = Matrix.from_lists(\n",
    "        row_ids,\n",
    "        col_ids,\n",
    "        values,\n",
    "        nrows=len(start_mapping), ncols=len(end_mapping), typ=typ)\n",
    "        return edge_matrix\n"
   ]
  },
  {
   "cell_type": "code",
   "execution_count": 32,
   "metadata": {},
   "outputs": [],
   "source": [
    "route_ids, route_mapping = load_node('trainbenchmark-repair-models-csv/railway-repair-1-Route.csv')\n",
    "swp_ids, swp_mapping = load_node('trainbenchmark-repair-models-csv/railway-repair-1-SwitchPosition.csv')\n",
    "sw_ids, sw_mapping = load_node('trainbenchmark-repair-models-csv/railway-repair-1-Switch.csv')\n",
    "sen_ids, sen_mapping = load_node('trainbenchmark-repair-models-csv/railway-repair-1-Sensor.csv')\n"
   ]
  },
  {
   "cell_type": "code",
   "execution_count": 40,
   "metadata": {},
   "outputs": [
    {
     "name": "stdout",
     "output_type": "stream",
     "text": [
      "Matrix is: <Matrix (25x112 : 98:BOOL)>\n",
      "   1   1   1   1       1   1                                                                                                                                                                                                                                                                                                                                                                                                                                    \n",
      "                               1   1                                                                                                                                                                                                                                                                                                                                                                                                                            \n",
      "                                       1   1   1   1   1   1   1                                                                                                                                                                                                                                                                                                                                                                                                \n",
      "                                                                   1   1                                                                                                                                                                                                                                                                                                                                                                                        \n",
      "                                                                               1       1   1   1   1                                                                                                                                                                                                                                                                                                                                                            \n",
      "                                                                                                       1   1       1   1   1                                                                                                                                                                                                                                                                                                                                    \n",
      "                                                                                                                               1   1   1   1   1   1   1   1   1                                                                                                                                                                                                                                                                                                \n",
      "                                                                                                                                                                   1   1                                                                                                                                                                                                                                                                                        \n",
      "                                                                                                                                                                           1   1   1                                                                                                                                                                                                                                                                            \n",
      "                                                                                                                                                                                       1                                                                                                                                                                                                                                                                        \n",
      "                                                                                                                                                                                           1   1   1                                                                                                                                                                                                                                                            \n",
      "                                                                                                                                                                                                               1   1                                                                                                                                                                                                                                            \n",
      "                                                                                                                                                                                                                           1       1   1   1   1                                                                                                                                                                                                                \n",
      "                                                                                                                                                                                                                                                       1   1   1   1   1   1   1   1                                                                                                                                                                            \n",
      "                                                                                                                                                                                                                                                                                       1   1   1   1   1   1   1   1                                                                                                                                            \n",
      "                                                                                                                                                                                                                                                                                                                           1   1   1                                                                                                                            \n",
      "                                                                                                                                                                                                                                                                                                                                           1   1   1   1                                                                                                        \n",
      "                                                                                                                                                                                                                                                                                                                                                           1   1                                                                                                \n",
      "                                                                                                                                                                                                                                                                                                                                                                   1   1                                                                                        \n",
      "                                                                                                                                                                                                                                                                                                                                                                           1   1   1   1                                                                        \n",
      "                                                                                                                                                                                                                                                                                                                                                                                           1                                                                    \n",
      "                                                                                                                                                                                                                                                                                                                                                                                               1   1   1   1   1       1                                        \n",
      "                                                                                                                                                                                                                                                                                                                                                                                                                               1   1                            \n",
      "                                                                                                                                                                                                                                                                                                                                                                                                                                           1   1   1   1   1    \n",
      "                                                                                                                                                                                                                                                                                                                                                                                                                                                               1\n"
     ]
    }
   ],
   "source": [
    "follows_mx = load_edge('trainbenchmark-repair-models-csv/railway-repair-1-follows.csv', route_mapping, swp_mapping)\n",
    "target_mx = load_edge('trainbenchmark-repair-models-csv/railway-repair-1-target.csv', swp_mapping, sw_mapping)\n",
    "monitored_by_mx = load_edge('trainbenchmark-repair-models-csv/railway-repair-1-monitoredBy.csv', sw_mapping, sen_mapping, drop_dangling_edges=True)\n",
    "requires_mx = load_edge('trainbenchmark-repair-models-csv/railway-repair-1-requires.csv', route_mapping, sen_mapping)\n",
    "print_matrix(monitored_by_mx)"
   ]
  },
  {
   "cell_type": "code",
   "execution_count": null,
   "metadata": {},
   "outputs": [],
   "source": [
    "# follows_mx = Matrix.from_lists(\n",
    "# [0,1],\n",
    "# [0,1],    \n",
    "# [1,1])\n",
    "\n",
    "# draw(follows_mx)\n",
    "\n",
    "# target_mx = Matrix.from_lists(\n",
    "# [0,1],\n",
    "# [0,0],\n",
    "# [1,1])\n",
    "\n",
    "# monitored_by_mx = Matrix.from_lists(\n",
    "# [0,0],\n",
    "# [0,2],\n",
    "# [1,1])\n",
    "\n",
    "# requires_mx = Matrix.from_lists(\n",
    "# [0,0,1,1],\n",
    "# [0,1,0,2],\n",
    "# [1,1,1,1])\n"
   ]
  },
  {
   "cell_type": "code",
   "execution_count": 43,
   "metadata": {},
   "outputs": [
    {
     "name": "stdout",
     "output_type": "stream",
     "text": [
      "Matrix is: <Matrix (5x112 : 12:BOOL)>\n",
      "                           1                                                                                                                                                                                                                                                                                                                                                                                                                                    \n",
      "                                                                                                                                                                                                                                                                                                                                                                                                                                                                \n",
      "                                                               1                                                   1                                                                                                                                                                                                                                                                                                                                            \n",
      "                                                                                                                                               1                       1                                       1                           1                       1                                                           1               1                                       1                                                                        \n",
      "                                                                                                                                                                                                                                                                                                                                                                                                                       1                                        \n"
     ]
    }
   ],
   "source": [
    "route_to_switch = follows_mx @ target_mx\n",
    "#print_matrix(route_to_switch)\n",
    "route_to_sensor = route_to_switch @ monitored_by_mx\n",
    "#print_matrix(route_to_sensor)\n",
    "#print_matrix(requires_mx)\n",
    "route_sensor_violations_query_result = route_to_sensor.eadd(requires_mx, add_op=minus)\n",
    "#print_matrix(route_sensor_violations_query_result)\n",
    "x = route_to_sensor.extract_matrix(mask=requires_mx, desc=descriptor.ooco)\n",
    "print_matrix(x)\n",
    "#TODO: Result should include -1"
   ]
  },
  {
   "cell_type": "code",
   "execution_count": null,
   "metadata": {},
   "outputs": [],
   "source": [
    "draw(monitored_by_mx"
   ]
  },
  {
   "cell_type": "code",
   "execution_count": null,
   "metadata": {},
   "outputs": [],
   "source": []
  },
  {
   "cell_type": "code",
   "execution_count": null,
   "metadata": {},
   "outputs": [],
   "source": [
    "print_matrix(target_mx)"
   ]
  },
  {
   "cell_type": "code",
   "execution_count": null,
   "metadata": {},
   "outputs": [],
   "source": [
    "print('{:4}'.format(''), end = '')"
   ]
  },
  {
   "cell_type": "code",
   "execution_count": null,
   "metadata": {},
   "outputs": [],
   "source": [
    "target_mx.vals"
   ]
  }
 ],
 "metadata": {
  "kernelspec": {
   "display_name": "Python 3",
   "language": "python",
   "name": "python3"
  },
  "language_info": {
   "codemirror_mode": {
    "name": "ipython",
    "version": 3
   },
   "file_extension": ".py",
   "mimetype": "text/x-python",
   "name": "python",
   "nbconvert_exporter": "python",
   "pygments_lexer": "ipython3",
   "version": "3.7.3"
  }
 },
 "nbformat": 4,
 "nbformat_minor": 2
}
